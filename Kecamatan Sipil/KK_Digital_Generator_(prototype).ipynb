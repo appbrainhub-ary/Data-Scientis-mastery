{
  "nbformat": 4,
  "nbformat_minor": 0,
  "metadata": {
    "colab": {
      "provenance": [],
      "authorship_tag": "ABX9TyP4ATjyEFAXX7LahXim0E2U",
      "include_colab_link": true
    },
    "kernelspec": {
      "name": "python3",
      "display_name": "Python 3"
    },
    "language_info": {
      "name": "python"
    }
  },
  "cells": [
    {
      "cell_type": "markdown",
      "metadata": {
        "id": "view-in-github",
        "colab_type": "text"
      },
      "source": [
        "<a href=\"https://colab.research.google.com/github/gandalfmuda/Data-Scientis-mastery/blob/main/Kecamatan%20Sipil/KK_Digital_Generator_(prototype).ipynb\" target=\"_parent\"><img src=\"https://colab.research.google.com/assets/colab-badge.svg\" alt=\"Open In Colab\"/></a>"
      ]
    },
    {
      "cell_type": "markdown",
      "source": [
        "**Disini saya Ari akan mencoba membuat aplikasi prototype dari aplikasi Pembuat Kartu Keluarga (KK) Digital.**\n",
        "Aplikasi ini menggunakan library ReportLab untuk menghasilkan file PDF dari data keluarganya."
      ],
      "metadata": {
        "id": "dyDNHbtYLbk-"
      }
    },
    {
      "cell_type": "code",
      "execution_count": null,
      "metadata": {
        "colab": {
          "base_uri": "https://localhost:8080/"
        },
        "id": "ZOLKh1RbcBw1",
        "outputId": "11e35a0b-3154-4833-cbea-ad994897abd1"
      },
      "outputs": [
        {
          "output_type": "stream",
          "name": "stdout",
          "text": [
            "Collecting ReportLab\n",
            "  Downloading reportlab-4.0.8-py3-none-any.whl (1.9 MB)\n",
            "\u001b[2K     \u001b[90m━━━━━━━━━━━━━━━━━━━━━━━━━━━━━━━━━━━━━━━━\u001b[0m \u001b[32m1.9/1.9 MB\u001b[0m \u001b[31m12.5 MB/s\u001b[0m eta \u001b[36m0:00:00\u001b[0m\n",
            "\u001b[?25hRequirement already satisfied: pillow>=9.0.0 in /usr/local/lib/python3.10/dist-packages (from ReportLab) (9.4.0)\n",
            "Requirement already satisfied: chardet in /usr/local/lib/python3.10/dist-packages (from ReportLab) (5.2.0)\n",
            "Installing collected packages: ReportLab\n",
            "Successfully installed ReportLab-4.0.8\n"
          ]
        }
      ],
      "source": [
        "pip install ReportLab"
      ]
    },
    {
      "cell_type": "code",
      "source": [
        "from reportlab.lib import colors\n",
        "from reportlab.lib.pagesizes import letter\n",
        "from reportlab.platypus import SimpleDocTemplate, Table, TableStyle"
      ],
      "metadata": {
        "id": "UhCiIkdvcSgW"
      },
      "execution_count": null,
      "outputs": []
    },
    {
      "cell_type": "markdown",
      "source": [
        "##Membuat Tabel dan Daftar Keluarga"
      ],
      "metadata": {
        "id": "qFY-MqGDIAZ-"
      }
    },
    {
      "cell_type": "code",
      "source": [
        "# Data tabel dan anggota keluarga\n",
        "\n",
        "data_keluarga = [\n",
        "    [\"Nama\", \"Alamat\", \"NIK\"],\n",
        "    [\"Sudirman\", \"Jl. gunungkembar. 869\", \"1234567890\"],\n",
        "    [\"Sulastri\", \"Jl. jalan aja No. 123\", \"1234567890\"],\n",
        "    [\"Sukakamu\", \"Jl. kedepan No. 1212\", \"0987654321\"]\n",
        "]"
      ],
      "metadata": {
        "id": "nriFBugwHzpl"
      },
      "execution_count": null,
      "outputs": []
    },
    {
      "cell_type": "markdown",
      "source": [
        "##Membuat File PDF Dan Mengisi Datanya"
      ],
      "metadata": {
        "id": "ed0XMv4bI2b8"
      }
    },
    {
      "cell_type": "code",
      "source": [
        "# Fungsi untuk membuat file PDF\n",
        "def create_pdf(data):\n",
        "    pdf_filename = \"kartu_keluarga.pdf\"\n",
        "    pdf = SimpleDocTemplate(pdf_filename, pagesize=letter)\n",
        "    table = Table(data)\n",
        "\n",
        "    # Styling tabel\n",
        "    style = TableStyle([('BACKGROUND', (0, 0), (-1, 0), colors.grey),\n",
        "                        ('TEXTCOLOR', (0, 0), (-1, 0), colors.whitesmoke),\n",
        "                        ('ALIGN', (0, 0), (-1, -1), 'CENTER'),\n",
        "                        ('FONTNAME', (0, 0), (-1, 0), 'Helvetica-Bold'),\n",
        "                        ('BOTTOMPADDING', (0, 0), (-1, 0), 12),\n",
        "                        ('BACKGROUND', (0, 1), (-1, -1), colors.beige),\n",
        "                        ('GRID', (0, 0), (-1, -1), 1, colors.black)])\n",
        "\n",
        "    table.setStyle(style)\n",
        "    pdf.build([table])\n",
        "\n",
        "\n",
        "create_pdf(data_keluarga)"
      ],
      "metadata": {
        "id": "zYqFgSJPIpy4"
      },
      "execution_count": null,
      "outputs": []
    },
    {
      "cell_type": "markdown",
      "source": [
        "👆 **Hasil file PDF dengan nama *kartu_keluarga.pdf* di simpan ke dalam satu folder/direktori yang sama.**"
      ],
      "metadata": {
        "id": "JEkAWd05J7YI"
      }
    }
  ]
}