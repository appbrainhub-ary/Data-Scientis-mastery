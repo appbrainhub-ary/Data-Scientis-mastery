{
  "nbformat": 4,
  "nbformat_minor": 0,
  "metadata": {
    "colab": {
      "provenance": [],
      "authorship_tag": "ABX9TyMgrEhVDXkneo0SgESSF5qE",
      "include_colab_link": true
    },
    "kernelspec": {
      "name": "python3",
      "display_name": "Python 3"
    },
    "language_info": {
      "name": "python"
    }
  },
  "cells": [
    {
      "cell_type": "markdown",
      "metadata": {
        "id": "view-in-github",
        "colab_type": "text"
      },
      "source": [
        "<a href=\"https://colab.research.google.com/github/gandalfmuda/Data-Scientis-mastery/blob/main/%F0%9F%91%A8%F0%9F%8F%BB%E2%80%8D%F0%9F%8F%AB%20Pengajar%20Data%20Science%20Untuk%20Anak/Berdasarkan_Cita_Cita_Anak.ipynb\" target=\"_parent\"><img src=\"https://colab.research.google.com/assets/colab-badge.svg\" alt=\"Open In Colab\"/></a>"
      ]
    },
    {
      "cell_type": "markdown",
      "source": [
        "**Disini saya (Ari) membuat aplikasi Pengajar Pemrograman Bahasa Python dengan membuat fungsi A.I. Generator Code dan variabel dari pilihan Cita-Cita Anak**\n",
        "\n",
        "Saya membuat 2 Variabel Cita-Cita:\n",
        "\n",
        "- dokter\n",
        "- insinyur"
      ],
      "metadata": {
        "id": "1iXIRHy8KSOL"
      }
    },
    {
      "cell_type": "code",
      "execution_count": null,
      "metadata": {
        "colab": {
          "base_uri": "https://localhost:8080/"
        },
        "id": "NsAgodQaGvaW",
        "outputId": "b5e45c3f-5879-4299-b048-470424e66625",
        "cellView": "form"
      },
      "outputs": [
        {
          "output_type": "stream",
          "name": "stdout",
          "text": [
            "Masukkan cita-cita anak: dokter\n",
            "Kode Python yang dihasilkan:\n",
            "\n",
            "        def periksa_pasien(nama):\n",
            "            print(\"Memeriksa pasien\", nama)\n",
            "        \n",
            "        def beri_obat(nama, obat):\n",
            "            print(\"Memberikan\", obat, \"kepada pasien\", nama)\n",
            "        \n"
          ]
        }
      ],
      "source": [
        "#@title **Jika yang dipilih dokter**\n",
        "\n",
        "\n",
        "def generate_code(cita_cita):\n",
        "    if cita_cita == \"dokter\":\n",
        "        code = '''\n",
        "        def periksa_pasien(nama):\n",
        "            print(\"Memeriksa pasien\", nama)\n",
        "\n",
        "        def beri_obat(nama, obat):\n",
        "            print(\"Memberikan\", obat, \"kepada pasien\", nama)\n",
        "        '''\n",
        "    elif cita_cita == \"insinyur\":\n",
        "        code = '''\n",
        "        def hitung_luas_persegi(sisi):\n",
        "            luas = sisi * sisi\n",
        "            return luas\n",
        "\n",
        "        def hitung_luas_segitiga(alas, tinggi):\n",
        "            luas = 0.5 * alas * tinggi\n",
        "            return luas\n",
        "        '''\n",
        "    else:\n",
        "        code = \"Cita-cita tidak ditemukan\"\n",
        "\n",
        "    return code\n",
        "\n",
        "cita_cita_anak = input(\"Masukkan cita-cita anak: \")\n",
        "generated_code = generate_code(cita_cita_anak)\n",
        "print(\"Kode Python yang dihasilkan:\")\n",
        "print(generated_code)"
      ]
    },
    {
      "cell_type": "code",
      "source": [
        "#@title **Jika yang dipilih insinyur**\n",
        "\n",
        "\n",
        "def generate_code(cita_cita):\n",
        "    if cita_cita == \"dokter\":\n",
        "        code = '''\n",
        "        def periksa_pasien(nama):\n",
        "            print(\"Memeriksa pasien\", nama)\n",
        "\n",
        "        def beri_obat(nama, obat):\n",
        "            print(\"Memberikan\", obat, \"kepada pasien\", nama)\n",
        "        '''\n",
        "    elif cita_cita == \"insinyur\":\n",
        "        code = '''\n",
        "        def hitung_luas_persegi(sisi):\n",
        "            luas = sisi * sisi\n",
        "            return luas\n",
        "\n",
        "        def hitung_luas_segitiga(alas, tinggi):\n",
        "            luas = 0.5 * alas * tinggi\n",
        "            return luas\n",
        "        '''\n",
        "    else:\n",
        "        code = \"Cita-cita tidak ditemukan\"\n",
        "\n",
        "    return code\n",
        "\n",
        "cita_cita_anak = input(\"Masukkan cita-cita anak: \")\n",
        "generated_code = generate_code(cita_cita_anak)\n",
        "print(\"Kode Python yang dihasilkan:\")\n",
        "print(generated_code)"
      ],
      "metadata": {
        "colab": {
          "base_uri": "https://localhost:8080/"
        },
        "cellView": "form",
        "id": "nljTIj97J6ik",
        "outputId": "56299bfb-c199-4e37-f22d-2538542f1a16"
      },
      "execution_count": 2,
      "outputs": [
        {
          "output_type": "stream",
          "name": "stdout",
          "text": [
            "Masukkan cita-cita anak: insinyur\n",
            "Kode Python yang dihasilkan:\n",
            "\n",
            "        def hitung_luas_persegi(sisi):\n",
            "            luas = sisi * sisi\n",
            "            return luas\n",
            "\n",
            "        def hitung_luas_segitiga(alas, tinggi):\n",
            "            luas = 0.5 * alas * tinggi\n",
            "            return luas\n",
            "        \n"
          ]
        }
      ]
    }
  ]
}