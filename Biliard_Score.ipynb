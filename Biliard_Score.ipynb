{
  "nbformat": 4,
  "nbformat_minor": 0,
  "metadata": {
    "colab": {
      "provenance": [],
      "authorship_tag": "ABX9TyM6jNZr/ZlYOfG698Kg5Ni0",
      "include_colab_link": true
    },
    "kernelspec": {
      "name": "python3",
      "display_name": "Python 3"
    },
    "language_info": {
      "name": "python"
    }
  },
  "cells": [
    {
      "cell_type": "markdown",
      "metadata": {
        "id": "view-in-github",
        "colab_type": "text"
      },
      "source": [
        "<a href=\"https://colab.research.google.com/github/gandalfmuda/Data-Scientis-mastery/blob/main/Biliard_Score.ipynb\" target=\"_parent\"><img src=\"https://colab.research.google.com/assets/colab-badge.svg\" alt=\"Open In Colab\"/></a>"
      ]
    },
    {
      "cell_type": "markdown",
      "source": [
        "Untuk menghitung skor biliar, Anda dapat menggunakan sistem skor yang umum digunakan dalam permainan biliar. Skor dalam permainan biliar biasanya terdiri dari dua komponen utama: skor pemain dan skor frame.\n",
        "\n",
        "#### Skor Pemain:\n",
        "- Setiap pemain memiliki skor individu yang mencerminkan jumlah bola yang berhasil mereka masukkan ke dalam lubang.\n",
        "- Setiap bola yang berhasil dimasukkan akan memberikan poin kepada pemain yang memasukkannya.\n",
        "- Poin biasanya diberikan berdasarkan nilai bola yang dimasukkan, dengan bola bernilai lebih tinggi memberikan poin lebih banyak.\n",
        "- Skor pemain dapat dihitung dengan menjumlahkan poin dari setiap bola yang berhasil dimasukkan.\n",
        "\n",
        "#### Skor Frame:\n",
        "- Skor frame mencerminkan hasil dari satu putaran permainan biliar.\n",
        "- Skor frame biasanya diberikan kepada pemain yang berhasil memasukkan bola terakhir dalam frame tersebut.\n",
        "- Jika seorang pemain berhasil memasukkan bola terakhir, mereka akan mendapatkan skor frame yang sesuai.\n",
        "- Skor frame juga dapat digunakan untuk menentukan pemain mana yang akan memulai frame berikutnya.\n",
        "\n",
        "Disini saya membuat contoh data score pemain dengan fungsi 1= bola masuk, dan 0= bola gagal masuk, anda dapat mengganti `bola_dimasukkan` dengan data bola yang sesuai dengan permainan biliar yang ingin Anda hitung skornya."
      ],
      "metadata": {
        "id": "q9NXCgEgkvTy"
      }
    },
    {
      "cell_type": "code",
      "source": [
        "!pip install numpy matplotlib"
      ],
      "metadata": {
        "colab": {
          "base_uri": "https://localhost:8080/"
        },
        "id": "E6qHBCTWkP56",
        "outputId": "6bbec2af-2ce5-4381-f5cc-3895e4ae096c"
      },
      "execution_count": 15,
      "outputs": [
        {
          "output_type": "stream",
          "name": "stdout",
          "text": [
            "Requirement already satisfied: numpy in /usr/local/lib/python3.10/dist-packages (1.23.5)\n",
            "Requirement already satisfied: matplotlib in /usr/local/lib/python3.10/dist-packages (3.7.1)\n",
            "Requirement already satisfied: contourpy>=1.0.1 in /usr/local/lib/python3.10/dist-packages (from matplotlib) (1.1.1)\n",
            "Requirement already satisfied: cycler>=0.10 in /usr/local/lib/python3.10/dist-packages (from matplotlib) (0.12.1)\n",
            "Requirement already satisfied: fonttools>=4.22.0 in /usr/local/lib/python3.10/dist-packages (from matplotlib) (4.43.1)\n",
            "Requirement already satisfied: kiwisolver>=1.0.1 in /usr/local/lib/python3.10/dist-packages (from matplotlib) (1.4.5)\n",
            "Requirement already satisfied: packaging>=20.0 in /usr/local/lib/python3.10/dist-packages (from matplotlib) (23.2)\n",
            "Requirement already satisfied: pillow>=6.2.0 in /usr/local/lib/python3.10/dist-packages (from matplotlib) (9.4.0)\n",
            "Requirement already satisfied: pyparsing>=2.3.1 in /usr/local/lib/python3.10/dist-packages (from matplotlib) (3.1.1)\n",
            "Requirement already satisfied: python-dateutil>=2.7 in /usr/local/lib/python3.10/dist-packages (from matplotlib) (2.8.2)\n",
            "Requirement already satisfied: six>=1.5 in /usr/local/lib/python3.10/dist-packages (from python-dateutil>=2.7->matplotlib) (1.16.0)\n"
          ]
        }
      ]
    },
    {
      "cell_type": "code",
      "source": [
        "\n",
        "import numpy as np\n",
        "import matplotlib.pyplot as plt\n",
        "\n",
        "# Fungsi untuk menghitung skor pemain\n",
        "def hitung_skor_pemain(bola_dimasukkan):\n",
        "    skor_pemain = np.sum(bola_dimasukkan)\n",
        "    return skor_pemain\n",
        "\n",
        "# Fungsi untuk menghitung skor frame\n",
        "def hitung_skor_frame(bola_dimasukkan):\n",
        "    if np.sum(bola_dimasukkan) > 0:\n",
        "        skor_frame = 1\n",
        "    else:\n",
        "        skor_frame = 0\n",
        "    return skor_frame\n",
        "\n",
        "# Contoh penggunaan\n",
        "bola_dimasukkan = [1, 0, 1, 0, 0, 1, 0, 0, 0, 1]  # Contoh data bola yang dimasukkan (1 untuk berhasil dimasukkan, 0 untuk gagal)\n",
        "skor_pemain = hitung_skor_pemain(bola_dimasukkan)\n",
        "skor_frame = hitung_skor_frame(bola_dimasukkan)\n",
        "\n",
        "print(\"Skor Pemain:\", skor_pemain)\n",
        "print(\"Skor Frame:\", skor_frame)\n",
        "\n",
        "# Jika Anda ingin membuat visualisasi skor, Anda dapat menggunakan library matplotlib\n",
        "plt.bar([\"Skor Pemain\", \"Skor Frame\"], [skor_pemain, skor_frame])\n",
        "plt.xlabel(\"Skor\")\n",
        "plt.ylabel(\"Jumlah\")\n",
        "plt.title(\"Skor Pemain dan Skor Frame\")\n",
        "plt.show()"
      ],
      "metadata": {
        "colab": {
          "base_uri": "https://localhost:8080/",
          "height": 207
        },
        "id": "_bSs8cGtkOQ5",
        "outputId": "6bb2d897-9c05-4fea-da0a-3806ef816d0e"
      },
      "execution_count": 16,
      "outputs": [
        {
          "output_type": "stream",
          "name": "stdout",
          "text": [
            "Skor Pemain: 4\n",
            "Skor Frame: 1\n"
          ]
        },
        {
          "output_type": "display_data",
          "data": {
            "text/plain": [
              "<Figure size 640x480 with 1 Axes>"
            ],
            "image/png": "[encoded data removed]"
          },
          "metadata": {}
        }
      ]
    }
  ]
}