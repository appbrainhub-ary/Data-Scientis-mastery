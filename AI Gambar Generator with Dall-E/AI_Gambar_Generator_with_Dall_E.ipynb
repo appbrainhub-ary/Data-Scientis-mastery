{
  "nbformat": 4,
  "nbformat_minor": 0,
  "metadata": {
    "colab": {
      "provenance": [],
      "authorship_tag": "ABX9TyNutLqs1jFopnM69tmY9dkv",
      "include_colab_link": true
    },
    "kernelspec": {
      "name": "python3",
      "display_name": "Python 3"
    },
    "language_info": {
      "name": "python"
    }
  },
  "cells": [
    {
      "cell_type": "markdown",
      "metadata": {
        "id": "view-in-github",
        "colab_type": "text"
      },
      "source": [
        "<a href=\"https://colab.research.google.com/github/gandalfmuda/Data-Scientis-mastery/blob/main/AI%20Gambar%20Generator%20with%20Dall-E/AI_Gambar_Generator_with_Dall_E.ipynb\" target=\"_parent\"><img src=\"https://colab.research.google.com/assets/colab-badge.svg\" alt=\"Open In Colab\"/></a>"
      ]
    },
    {
      "cell_type": "markdown",
      "source": [
        "Di bawah adalah aplikasi Gambar Generator AI, seperti Dall-E atau Stable Diffusion. Anda harus mempunyai API Key OpenAI nya dulu untuk bisa menjalankan aplikasi ini. Dan sudah di sediakan tolls pembuat Prompt nya di bawah."
      ],
      "metadata": {
        "id": "VFFU8WIyxZba"
      }
    },
    {
      "cell_type": "code",
      "source": [
        "pip install openai"
      ],
      "metadata": {
        "colab": {
          "base_uri": "https://localhost:8080/"
        },
        "id": "BKq5vqHfbqDE",
        "outputId": "e62acee6-cff1-4872-9b57-6db76e0188b7"
      },
      "execution_count": 28,
      "outputs": [
        {
          "output_type": "stream",
          "name": "stdout",
          "text": [
            "Requirement already satisfied: openai in /usr/local/lib/python3.10/dist-packages (0.28.1)\n",
            "Requirement already satisfied: requests>=2.20 in /usr/local/lib/python3.10/dist-packages (from openai) (2.31.0)\n",
            "Requirement already satisfied: tqdm in /usr/local/lib/python3.10/dist-packages (from openai) (4.66.1)\n",
            "Requirement already satisfied: aiohttp in /usr/local/lib/python3.10/dist-packages (from openai) (3.8.6)\n",
            "Requirement already satisfied: charset-normalizer<4,>=2 in /usr/local/lib/python3.10/dist-packages (from requests>=2.20->openai) (3.3.0)\n",
            "Requirement already satisfied: idna<4,>=2.5 in /usr/local/lib/python3.10/dist-packages (from requests>=2.20->openai) (3.4)\n",
            "Requirement already satisfied: urllib3<3,>=1.21.1 in /usr/local/lib/python3.10/dist-packages (from requests>=2.20->openai) (2.0.7)\n",
            "Requirement already satisfied: certifi>=2017.4.17 in /usr/local/lib/python3.10/dist-packages (from requests>=2.20->openai) (2023.7.22)\n",
            "Requirement already satisfied: attrs>=17.3.0 in /usr/local/lib/python3.10/dist-packages (from aiohttp->openai) (23.1.0)\n",
            "Requirement already satisfied: multidict<7.0,>=4.5 in /usr/local/lib/python3.10/dist-packages (from aiohttp->openai) (6.0.4)\n",
            "Requirement already satisfied: async-timeout<5.0,>=4.0.0a3 in /usr/local/lib/python3.10/dist-packages (from aiohttp->openai) (4.0.3)\n",
            "Requirement already satisfied: yarl<2.0,>=1.0 in /usr/local/lib/python3.10/dist-packages (from aiohttp->openai) (1.9.2)\n",
            "Requirement already satisfied: frozenlist>=1.1.1 in /usr/local/lib/python3.10/dist-packages (from aiohttp->openai) (1.4.0)\n",
            "Requirement already satisfied: aiosignal>=1.1.2 in /usr/local/lib/python3.10/dist-packages (from aiohttp->openai) (1.3.1)\n"
          ]
        }
      ]
    },
    {
      "cell_type": "code",
      "execution_count": null,
      "metadata": {
        "id": "DGLyiQztau5e"
      },
      "outputs": [],
      "source": [
        "import openai\n",
        "\n",
        "# Masukan key api dall-e OpenAI kamu\n",
        "\n",
        "openai.api_key=\"API_Key_Anda\"\n",
        "\n",
        "def imagegenerator (prompt, amount, size):\n",
        "    response = openai.Image.create(\n",
        "        prompt = prompt,\n",
        "        n = amount,\n",
        "        size = size\n",
        "    )\n",
        "    image_url = response['data'][0]['url']\n",
        "    return image_url\n",
        "\n",
        "def menu():\n",
        "    prompt = str(input(\"Masukan prompt: \"))\n",
        "    amount = int(input(\"Banyaknya Gambar: \"))\n",
        "    size = str(input(\"Resolusi Gambar, default=1024x1024: \"))\n",
        "    data = imagegenerator(prompt, amount, size)\n",
        "    return data\n",
        "\n",
        "\n",
        "print(menu())"
      ]
    },
    {
      "cell_type": "markdown",
      "source": [
        "Tools Pembuat Prompt Gambar\n",
        "\n",
        "https://tipseason.com/dalle-prompt-generator"
      ],
      "metadata": {
        "id": "5eTbwQaqkmkt"
      }
    }
  ]
}