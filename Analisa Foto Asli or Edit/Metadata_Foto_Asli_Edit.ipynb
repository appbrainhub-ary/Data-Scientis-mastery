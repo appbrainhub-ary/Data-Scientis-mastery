{
  "nbformat": 4,
  "nbformat_minor": 0,
  "metadata": {
    "colab": {
      "provenance": [],
      "authorship_tag": "ABX9TyO+hL3pHA4SMsxYGXT8tNDc",
      "include_colab_link": true
    },
    "kernelspec": {
      "name": "python3",
      "display_name": "Python 3"
    },
    "language_info": {
      "name": "python"
    }
  },
  "cells": [
    {
      "cell_type": "markdown",
      "metadata": {
        "id": "view-in-github",
        "colab_type": "text"
      },
      "source": [
        "<a href=\"https://colab.research.google.com/github/gandalfmuda/Data-Scientis-mastery/blob/main/Analisa%20Foto%20Asli%20or%20Edit/Metadata_Foto_Asli_Edit.ipynb\" target=\"_parent\"><img src=\"https://colab.research.google.com/assets/colab-badge.svg\" alt=\"Open In Colab\"/></a>"
      ]
    },
    {
      "cell_type": "markdown",
      "source": [
        "Aplikasi Analisa Foto Asli/Edit dengan metode Metadata. Jika terseteksi Asli dari Kamera, akan menampikal sejumlah Judul Info dari Kameranya, dan jika terseteksi Edit, maka hanya Tanggal Edit saja yang di tampilkan."
      ],
      "metadata": {
        "id": "BadZX-5HjR1j"
      }
    },
    {
      "cell_type": "code",
      "source": [
        "!pip install pillow"
      ],
      "metadata": {
        "colab": {
          "base_uri": "https://localhost:8080/"
        },
        "id": "pduTNl7Degcm",
        "outputId": "90d4f0eb-c079-4fb5-8587-d1138a3a2cbd"
      },
      "execution_count": null,
      "outputs": [
        {
          "output_type": "stream",
          "name": "stdout",
          "text": [
            "Requirement already satisfied: pillow in /usr/local/lib/python3.10/dist-packages (9.4.0)\n"
          ]
        }
      ]
    },
    {
      "cell_type": "code",
      "execution_count": 18,
      "metadata": {
        "id": "Rs7BbJgEeDHi",
        "colab": {
          "base_uri": "https://localhost:8080/"
        },
        "outputId": "9f190966-ef68-4a3e-c01a-3df6e1390a90"
      },
      "outputs": [
        {
          "output_type": "stream",
          "name": "stdout",
          "text": [
            "TileWidth       : 512\n",
            "TileLength      : 512\n",
            "ResolutionUnit  : 2\n",
            "ExifOffset      : 246\n",
            "Make            : Apple\n",
            "Model           : iPhone 13 Pro\n",
            "Software        : 15.0\n",
            "Orientation     : 1\n",
            "DateTime        : 2021:09:27 18:47:09\n",
            "YCbCrPositioning: 1\n",
            "XResolution     : 72.0\n",
            "YResolution     : 72.0\n",
            "HostComputer    : iPhone 13 Pro\n"
          ]
        }
      ],
      "source": [
        "from PIL import Image\n",
        "from PIL.ExifTags import TAGS\n",
        "\n",
        "# Gambar yang ingin di analis\n",
        "my_img = Image.open(\"asli2.jpg\")\n",
        "\n",
        "# Fungsi ekstrak metadata\n",
        "exif_data = my_img.getexif()\n",
        "\n",
        "\n",
        "# memfungsikan tag untuk judul data\n",
        "for tagId in exif_data:\n",
        "\n",
        "    tag = TAGS.get(tagId, tagId)\n",
        "    data = exif_data.get(tagId)\n",
        "\n",
        "    print(f\"{tag:16}: {data}\")"
      ]
    }
  ]
}