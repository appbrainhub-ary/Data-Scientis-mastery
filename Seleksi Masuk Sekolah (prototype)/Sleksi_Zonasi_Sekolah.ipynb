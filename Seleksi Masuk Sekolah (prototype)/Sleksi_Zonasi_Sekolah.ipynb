{
  "nbformat": 4,
  "nbformat_minor": 0,
  "metadata": {
    "colab": {
      "provenance": [],
      "authorship_tag": "ABX9TyMYMH+jrdS43GXTG2A56I88",
      "include_colab_link": true
    },
    "kernelspec": {
      "name": "python3",
      "display_name": "Python 3"
    },
    "language_info": {
      "name": "python"
    },
    "accelerator": "TPU"
  },
  "cells": [
    {
      "cell_type": "markdown",
      "metadata": {
        "id": "view-in-github",
        "colab_type": "text"
      },
      "source": [
        "<a href=\"https://colab.research.google.com/github/gandalfmuda/Data-Scientis-mastery/blob/main/Seleksi%20Masuk%20Sekolah%20(prototype)/Sleksi_Zonasi_Sekolah.ipynb\" target=\"_parent\"><img src=\"https://colab.research.google.com/assets/colab-badge.svg\" alt=\"Open In Colab\"/></a>"
      ]
    },
    {
      "cell_type": "markdown",
      "source": [
        "#Disini saya membuat contoh disain (prototype) untuk sleksi masuk sekolah dengan penyeleksian dari Zonasi jarak dan nilai UAS.#\n",
        "\n",
        "Rumusnya jika siswa memasukan jarak zonasi tidak melebihi dari 200 meter dan nilai uas tidak kurang dari 70, maka siswa tersebut di terima."
      ],
      "metadata": {
        "id": "VEaZSLkADgoB"
      }
    },
    {
      "cell_type": "code",
      "source": [
        "\n",
        "import time\n",
        "import os\n",
        "\n",
        "print('Load Data Kemndikbudristek...')\n",
        "def progress_bar(duration):\n",
        "    for i in range(1, duration+1):\n",
        "        time.sleep(1)\n",
        "        print(f'Progress: {i}/{duration}', end='\\r')\n",
        "    print('Load: Complete!')\n",
        "    time.sleep(1)\n",
        "    os.system('clear')  # Untuk Windows gunakan 'cls'\n",
        "    print('[ ================= ]')\n",
        "    print('[ Selamat Datang Di ]')\n",
        "    print('[ Aplikasi Seleksi  ]')\n",
        "    print('[  Zonasi Sekolah   ]')\n",
        "    print('=====================')\n",
        "progress_bar(5)\n",
        "\n",
        "jarak_dari_sekolah = float(input(\"Masukkan jarak dari sekolah (dalam meter): \"))\n",
        "nilai_UAS = float(input(\"Masukkan nilai UAS: \"))\n",
        "if jarak_dari_sekolah <= 200 and nilai_UAS >= 70:\n",
        "    print(\"Siswa diterima\")\n",
        "else:\n",
        "    print(\"Siswa tidak diterima\")"
      ],
      "metadata": {
        "id": "Zu1nesVuZS98",
        "colab": {
          "base_uri": "https://localhost:8080/"
        },
        "outputId": "8dfeb409-2e90-444d-8ee8-5523eb6e3f22"
      },
      "execution_count": null,
      "outputs": [
        {
          "output_type": "stream",
          "name": "stdout",
          "text": [
            "Load Data Kemndikbudristek...\n",
            "Load: Complete!\n",
            "[ ================= ]\n",
            "[ Selamat Datang Di ]\n",
            "[ Aplikasi Seleksi  ]\n",
            "[  Zonasi Sekolah   ]\n",
            "=====================\n",
            "Masukkan jarak dari sekolah (dalam meter): 80\n",
            "Masukkan nilai UAS: 70\n",
            "Siswa diterima\n"
          ]
        }
      ]
    }
  ]
}