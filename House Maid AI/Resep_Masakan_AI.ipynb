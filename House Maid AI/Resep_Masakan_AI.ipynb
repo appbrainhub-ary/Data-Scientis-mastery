{
  "nbformat": 4,
  "nbformat_minor": 0,
  "metadata": {
    "colab": {
      "provenance": [],
      "authorship_tag": "ABX9TyMZXkR7yJP5eIqa5Ao0EC57",
      "include_colab_link": true
    },
    "kernelspec": {
      "name": "python3",
      "display_name": "Python 3"
    },
    "language_info": {
      "name": "python"
    }
  },
  "cells": [
    {
      "cell_type": "markdown",
      "metadata": {
        "id": "view-in-github",
        "colab_type": "text"
      },
      "source": [
        "<a href=\"https://colab.research.google.com/github/gandalfmuda/Data-Scientis-mastery/blob/main/House%20Maid%20AI/Resep_Masakan_AI.ipynb\" target=\"_parent\"><img src=\"https://colab.research.google.com/assets/colab-badge.svg\" alt=\"Open In Colab\"/></a>"
      ]
    },
    {
      "cell_type": "code",
      "source": [
        "pip install googlesearch-python beautifulsoup4 requests"
      ],
      "metadata": {
        "colab": {
          "base_uri": "https://localhost:8080/"
        },
        "id": "tb4OKm8PQQy3",
        "outputId": "8226f795-6a3f-4d07-e6ff-281f6ce5e69c"
      },
      "execution_count": 4,
      "outputs": [
        {
          "output_type": "stream",
          "name": "stdout",
          "text": [
            "Requirement already satisfied: googlesearch-python in /usr/local/lib/python3.10/dist-packages (1.2.3)\n",
            "Requirement already satisfied: beautifulsoup4 in /usr/local/lib/python3.10/dist-packages (4.11.2)\n",
            "Requirement already satisfied: requests in /usr/local/lib/python3.10/dist-packages (2.31.0)\n",
            "Requirement already satisfied: soupsieve>1.2 in /usr/local/lib/python3.10/dist-packages (from beautifulsoup4) (2.5)\n",
            "Requirement already satisfied: charset-normalizer<4,>=2 in /usr/local/lib/python3.10/dist-packages (from requests) (3.3.0)\n",
            "Requirement already satisfied: idna<4,>=2.5 in /usr/local/lib/python3.10/dist-packages (from requests) (3.4)\n",
            "Requirement already satisfied: urllib3<3,>=1.21.1 in /usr/local/lib/python3.10/dist-packages (from requests) (2.0.6)\n",
            "Requirement already satisfied: certifi>=2017.4.17 in /usr/local/lib/python3.10/dist-packages (from requests) (2023.7.22)\n"
          ]
        }
      ]
    },
    {
      "cell_type": "code",
      "source": [
        "\n",
        "from googlesearch import search\n",
        "from bs4 import BeautifulSoup\n",
        "import requests\n",
        "\n",
        "print('=== House Maid App AI ===')\n",
        "print('Pencari Link Menu Masakan')\n",
        "print('Sesuai Bahan Dapur Kamu.')\n",
        "print('=========================')\n",
        "\n",
        "def cari_link_masakan(bahan_dapur):\n",
        "    query = 'resep masakan ' + ' '.join(bahan_dapur)\n",
        "    urls = search(query, num_results=5)  # Mengambil 5 hasil pencarian Google\n",
        "\n",
        "    link_masakan = []\n",
        "    for url in urls:\n",
        "        link_masakan.append(url)\n",
        "\n",
        "    return link_masakan\n",
        "\n",
        "def masukkan_bahan_dapur():\n",
        "    bahan_dapur = []\n",
        "    while True:\n",
        "        bahan = input('Masukkan bahan dapur (atau ketik \"selesai\" jika sudah selesai): ')\n",
        "        if bahan.lower() == 'selesai':\n",
        "            break\n",
        "        bahan_dapur.append(bahan)\n",
        "\n",
        "    return bahan_dapur\n",
        "\n",
        "if __name__ == '__main__':\n",
        "    bahan_dapur = masukkan_bahan_dapur()\n",
        "    link_masakan = cari_link_masakan(bahan_dapur)\n",
        "\n",
        "\n",
        "print('===================================')\n",
        "print('5 link website')\n",
        "print('sesuai bahan dapur kamu:')\n",
        "for link in link_masakan:\n",
        "        print('Link:', link)"
      ],
      "metadata": {
        "colab": {
          "base_uri": "https://localhost:8080/"
        },
        "id": "xvdFY5AQSvgm",
        "outputId": "00125611-2999-4c20-81b4-7056dd7548e7"
      },
      "execution_count": 24,
      "outputs": [
        {
          "output_type": "stream",
          "name": "stdout",
          "text": [
            "=== House Maid App AI ===\n",
            "Pencari Link Menu Masakan\n",
            "Sesuai Bahan Dapur Kamu.\n",
            "=========================\n",
            "Masukkan bahan dapur (atau ketik \"selesai\" jika sudah selesai): cumi\n",
            "Masukkan bahan dapur (atau ketik \"selesai\" jika sudah selesai): selesai\n",
            "===================================\n",
            "5 link website\n",
            "sesuai bahan dapur kamu:\n",
            "Link: https://www.brilio.net/ragam/15-resep-olahan-cumi-sederhana-lezat-dan-mudah-dibuat-2107160.html\n",
            "Link: https://cookpad.com/id/cari/masakan%20cumi%20cumi\n",
            "Link: https://www.briliofood.net/resep/13-resep-olahan-cumi-basah-antialot-dan-antiamis-220116f.html\n",
            "Link: https://www.liputan6.com/lifestyle/read/4653063/6-resep-inspirasi-masakan-cumi-untuk-santap-bersama-keluarga\n",
            "Link: https://www.fimela.com/food/read/5112275/5-resep-sederhana-masakan-cumi-bercita-rasa-pedas\n"
          ]
        }
      ]
    }
  ]
}