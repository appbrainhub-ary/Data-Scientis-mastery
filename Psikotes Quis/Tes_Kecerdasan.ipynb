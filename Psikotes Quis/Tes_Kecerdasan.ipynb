{
  "nbformat": 4,
  "nbformat_minor": 0,
  "metadata": {
    "colab": {
      "provenance": [],
      "authorship_tag": "ABX9TyN7ejPmCP8G9bcPY/DiOOTa",
      "include_colab_link": true
    },
    "kernelspec": {
      "name": "python3",
      "display_name": "Python 3"
    },
    "language_info": {
      "name": "python"
    }
  },
  "cells": [
    {
      "cell_type": "markdown",
      "metadata": {
        "id": "view-in-github",
        "colab_type": "text"
      },
      "source": [
        "<a href=\"https://colab.research.google.com/github/gandalfmuda/Data-Scientis-mastery/blob/main/Psikotes%20Quis/Tes_Kecerdasan.ipynb\" target=\"_parent\"><img src=\"https://colab.research.google.com/assets/colab-badge.svg\" alt=\"Open In Colab\"/></a>"
      ]
    },
    {
      "cell_type": "code",
      "execution_count": null,
      "metadata": {
        "id": "Me4bbgAoJJtc",
        "colab": {
          "base_uri": "https://localhost:8080/"
        },
        "outputId": "ee513352-b6c8-4068-8dd0-6836d8e9106b"
      },
      "outputs": [
        {
          "output_type": "stream",
          "name": "stdout",
          "text": [
            "=== Aplikasi Psikotes Kerja ===\n",
            "===     Tes Kecerdasan      ===\n",
            "#BUMN #Disnaker #AIgeneratif\n",
            "_______________________________\n",
            "Pertanyaan 1:\n",
            "Berapa hasil dari 10^3?\n",
            "a) 10\n",
            "b) 100\n",
            "c) 1000\n",
            "d) 10000\n",
            "Jawaban Anda (a/b/c/d): c\n",
            "\n",
            "Pertanyaan 2:\n",
            "Siapa penemu teori relativitas?\n",
            "a) Isaac Newton\n",
            "b) Albert Einstein\n",
            "c) Thomas Edison\n",
            "d) Galileo Galilei\n",
            "Jawaban Anda (a/b/c/d): b\n",
            "\n",
            "Pertanyaan 3:\n",
            "Apa nama ilmuwan terkenal yang menemukan hukum gravitasi?\n",
            "a) Nikola Tesla\n",
            "b) Marie Curie\n",
            "c) Isaac Newton\n",
            "d) Charles Darwin\n",
            "Jawaban Anda (a/b/c/d): c\n",
            "\n",
            "Hasil psikotes:\n",
            "Jumlah jawaban benar: 3\n",
            "Anda lulus psikotes kecerdasan.\n"
          ]
        }
      ],
      "source": [
        "print('=== Aplikasi Psikotes Kerja ===')\n",
        "print('===     Tes Kecerdasan      ===')\n",
        "print('#BUMN #Disnaker #AIgeneratif')\n",
        "print('_______________________________')\n",
        "\n",
        "def psikotes_kecerdasan():\n",
        "    jawaban_benar = 0\n",
        "\n",
        "    # Pertanyaan 1\n",
        "    print(\"Pertanyaan 1:\")\n",
        "    print(\"Berapa hasil dari 10^3?\")\n",
        "    print(\"a) 10\")\n",
        "    print(\"b) 100\")\n",
        "    print(\"c) 1000\")\n",
        "    print(\"d) 10000\")\n",
        "    jawaban = input(\"Jawaban Anda (a/b/c/d): \")\n",
        "    if jawaban.lower() == \"c\":\n",
        "        jawaban_benar += 1\n",
        "\n",
        "    # Pertanyaan 2\n",
        "    print(\"\\nPertanyaan 2:\")\n",
        "    print(\"Siapa penemu teori relativitas?\")\n",
        "    print(\"a) Isaac Newton\")\n",
        "    print(\"b) Albert Einstein\")\n",
        "    print(\"c) Thomas Edison\")\n",
        "    print(\"d) Galileo Galilei\")\n",
        "    jawaban = input(\"Jawaban Anda (a/b/c/d): \")\n",
        "    if jawaban.lower() == \"b\":\n",
        "        jawaban_benar += 1\n",
        "\n",
        "    # Pertanyaan 3\n",
        "    print(\"\\nPertanyaan 3:\")\n",
        "    print(\"Apa nama ilmuwan terkenal yang menemukan hukum gravitasi?\")\n",
        "    print(\"a) Nikola Tesla\")\n",
        "    print(\"b) Marie Curie\")\n",
        "    print(\"c) Isaac Newton\")\n",
        "    print(\"d) Charles Darwin\")\n",
        "    jawaban = input(\"Jawaban Anda (a/b/c/d): \")\n",
        "    if jawaban.lower() == \"c\":\n",
        "        jawaban_benar += 1\n",
        "\n",
        "    # Menampilkan hasil\n",
        "    print(\"\\nHasil psikotes:\")\n",
        "    print(\"Jumlah jawaban benar:\", jawaban_benar)\n",
        "    if jawaban_benar >= 2:\n",
        "        print(\"Anda lulus psikotes kecerdasan.\")\n",
        "    else:\n",
        "        print(\"Anda tidak lulus psikotes kecerdasan.\")\n",
        "\n",
        "# Menjalankan aplikasi psikotes\n",
        "psikotes_kecerdasan()"
      ]
    }
  ]
}