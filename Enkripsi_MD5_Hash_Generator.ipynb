{
  "nbformat": 4,
  "nbformat_minor": 0,
  "metadata": {
    "colab": {
      "provenance": [],
      "authorship_tag": "ABX9TyOlsNs/H4EQRSkmQe52lkDX",
      "include_colab_link": true
    },
    "kernelspec": {
      "name": "python3",
      "display_name": "Python 3"
    },
    "language_info": {
      "name": "python"
    }
  },
  "cells": [
    {
      "cell_type": "markdown",
      "metadata": {
        "id": "view-in-github",
        "colab_type": "text"
      },
      "source": [
        "<a href=\"https://colab.research.google.com/github/gandalfmuda/Data-Scientis-mastery/blob/main/Enkripsi_MD5_Hash_Generator.ipynb\" target=\"_parent\"><img src=\"https://colab.research.google.com/assets/colab-badge.svg\" alt=\"Open In Colab\"/></a>"
      ]
    },
    {
      "cell_type": "code",
      "execution_count": null,
      "metadata": {
        "colab": {
          "base_uri": "https://localhost:8080/"
        },
        "id": "VbV9ExG0VWMg",
        "outputId": "099ef230-56cb-4795-bac5-2e398c5d9b67"
      },
      "outputs": [
        {
          "output_type": "stream",
          "name": "stdout",
          "text": [
            "-----------------------------\n",
            "Enkripsi MD5 Hash Generator\n",
            "-----------------------------\n"
          ]
        }
      ],
      "source": [
        "\n",
        "import hashlib\n",
        "\n",
        "print(\"-----------------------------\")\n",
        "print(\"Enkripsi MD5 Hash Generator\")\n",
        "print(\"-----------------------------\")\n",
        "\n",
        "def generate_md5_password(password):\n",
        "    md5_hash = hashlib.md5()\n",
        "    md5_hash.update(password.encode('utf-8'))\n",
        "    return md5_hash.hexdigest()\n",
        "\n",
        "password = input(\"Masukkan password dan tekan Enter: \")\n",
        "md5_password = generate_md5_password(password)\n",
        "print(\"Password MD5:\", md5_password)"
      ]
    }
  ]
}