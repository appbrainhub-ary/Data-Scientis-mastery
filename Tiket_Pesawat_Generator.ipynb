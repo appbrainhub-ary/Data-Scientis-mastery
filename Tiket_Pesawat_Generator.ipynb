{
  "nbformat": 4,
  "nbformat_minor": 0,
  "metadata": {
    "colab": {
      "provenance": [],
      "authorship_tag": "ABX9TyN1tKypXyT0EWcqHhToig/7",
      "include_colab_link": true
    },
    "kernelspec": {
      "name": "python3",
      "display_name": "Python 3"
    },
    "language_info": {
      "name": "python"
    }
  },
  "cells": [
    {
      "cell_type": "markdown",
      "metadata": {
        "id": "view-in-github",
        "colab_type": "text"
      },
      "source": [
        "<a href=\"https://colab.research.google.com/github/gandalfmuda/Data-Scientis-mastery/blob/main/Tiket_Pesawat_Generator.ipynb\" target=\"_parent\"><img src=\"https://colab.research.google.com/assets/colab-badge.svg\" alt=\"Open In Colab\"/></a>"
      ]
    },
    {
      "cell_type": "markdown",
      "source": [
        "Dibawah adalah aplikasi tiket pesawat dan tujuan penerbangan beserta nomer tiket acak dan pesawat yang digunakan secara acak."
      ],
      "metadata": {
        "id": "sO_jnBIv-MPz"
      }
    },
    {
      "cell_type": "code",
      "execution_count": 16,
      "metadata": {
        "colab": {
          "base_uri": "https://localhost:8080/"
        },
        "id": "1Dk2qAoq6mrd",
        "outputId": "7a09b10b-686a-417b-d49d-d94588902aa0"
      },
      "outputs": [
        {
          "output_type": "stream",
          "name": "stdout",
          "text": [
            "Masukkan nama Anda: Jovanca\n",
            "Masukkan tujuan penerbangan: Bali\n",
            "\n",
            "Selamat datang, Jovanca!\n",
            "Berikut adalah tiket penerbangan Anda:\n",
            "Nama: Jovanca\n",
            "Nomor Tiket: 466984\n",
            "Maskapai: AirAsia\n",
            "Tujuan: Bali\n",
            "\n",
            "Terima kasih telah melakukan pembelian tiket.\n"
          ]
        }
      ],
      "source": [
        "import random\n",
        "\n",
        "def generate_ticket(nama, tujuan):\n",
        "    airlines = [\"Garuda Indonesia\", \"Lion Air\", \"AirAsia\", \"Citilink\", \"Batik Air\"]\n",
        "    ticket_number = random.randint(100000, 999999)\n",
        "    airline = random.choice(airlines)\n",
        "\n",
        "    ticket = {\n",
        "        \"Nama\": nama,\n",
        "        \"Nomor Tiket\": ticket_number,\n",
        "        \"Maskapai\": airline,\n",
        "        \"Tujuan\": tujuan\n",
        "    }\n",
        "    return ticket\n",
        "\n",
        "def beli_tiket():\n",
        "    nama = input(\"Masukkan nama Anda: \")\n",
        "    tujuan = input(\"Masukkan tujuan penerbangan: \")\n",
        "    tiket = generate_ticket(nama, tujuan)\n",
        "\n",
        "    print(f\"\\nSelamat datang, {tiket['Nama']}!\")\n",
        "    print(\"Berikut adalah tiket penerbangan Anda:\")\n",
        "    for key, value in tiket.items():\n",
        "        print(f\"{key}: {value}\")\n",
        "    print(\"\\nTerima kasih telah melakukan pembelian tiket.\")\n",
        "\n",
        "beli_tiket()\n"
      ]
    }
  ]
}
