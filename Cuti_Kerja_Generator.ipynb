{
  "nbformat": 4,
  "nbformat_minor": 0,
  "metadata": {
    "colab": {
      "provenance": [],
      "authorship_tag": "ABX9TyPiHYGPRDjvhJ9Yu+mlnjC6",
      "include_colab_link": true
    },
    "kernelspec": {
      "name": "python3",
      "display_name": "Python 3"
    },
    "language_info": {
      "name": "python"
    }
  },
  "cells": [
    {
      "cell_type": "markdown",
      "metadata": {
        "id": "view-in-github",
        "colab_type": "text"
      },
      "source": [
        "<a href=\"https://colab.research.google.com/github/gandalfmuda/Data-Scientis-mastery/blob/main/Cuti_Kerja_Generator.ipynb\" target=\"_parent\"><img src=\"https://colab.research.google.com/assets/colab-badge.svg\" alt=\"Open In Colab\"/></a>"
      ]
    },
    {
      "cell_type": "code",
      "execution_count": 1,
      "metadata": {
        "colab": {
          "base_uri": "https://localhost:8080/"
        },
        "id": "FMlCAgKTNoLi",
        "outputId": "185a00c8-f9e8-4d15-989c-0053f26fe8b8"
      },
      "outputs": [
        {
          "output_type": "stream",
          "name": "stdout",
          "text": [
            "masukkan nama atasan/HRD: Bpk. Dadang Selaku HRD\n",
            "masukkan nama karyawan: Tony Stark\n",
            "masukkan tanggal mulai cuti (dd/mm/yyyy): xx/xx/xxxx\n",
            "masukkan tanggal selesai cuti (dd/mm/yyyy): xx/xx/xxxx\n",
            "masukkan jumlah hari cuti: 5 hari\n",
            "masukkan alasan cuti: continue project\n",
            "\n",
            "    kepada,\n",
            "    Bpk. Dadang Selaku HRD,\n",
            "    \n",
            "    saya, Tony Stark, dengan ini mengajukan permohonan cuti kerja dengan rincian sebagai berikut:\n",
            "    \n",
            "    tanggal mulai: xx/xx/xxxx\n",
            "    tanggal selesai: xx/xx/xxxx\n",
            "    jumlah hari: 5 hari\n",
            "    \n",
            "    alasan cuti:\n",
            "    continue project\n",
            "    \n",
            "    saya berharap permohonan ini dapat dipertimbangkan dengan baik. terima kasih atas perhatian dan kerjasamanya.\n",
            "    \n",
            "    hormat saya,\n",
            "    Tony Stark\n",
            "    \n"
          ]
        }
      ],
      "source": [
        "\n",
        "def generate_cuti_kerja(alasan):\n",
        "    pesan = f\"\"\"\n",
        "    kepada,\n",
        "    {nama_atasan},\n",
        "\n",
        "    saya, {nama_karyawan}, dengan ini mengajukan permohonan cuti kerja dengan rincian sebagai berikut:\n",
        "\n",
        "    tanggal mulai: {tanggal_mulai}\n",
        "    tanggal selesai: {tanggal_selesai}\n",
        "    jumlah hari: {jumlah_hari}\n",
        "\n",
        "    alasan cuti:\n",
        "    {alasan}\n",
        "\n",
        "    saya berharap permohonan ini dapat dipertimbangkan dengan baik. terima kasih atas perhatian dan kerjasamanya.\n",
        "\n",
        "    hormat saya,\n",
        "    {nama_karyawan}\n",
        "    \"\"\"\n",
        "    return pesan\n",
        "\n",
        "# input data\n",
        "nama_atasan = input(\"masukkan nama atasan/HRD: \")\n",
        "nama_karyawan = input(\"masukkan nama karyawan: \")\n",
        "tanggal_mulai = input(\"masukkan tanggal mulai cuti (dd/mm/yyyy): \")\n",
        "tanggal_selesai = input(\"masukkan tanggal selesai cuti (dd/mm/yyyy): \")\n",
        "jumlah_hari = input(\"masukkan jumlah hari cuti: \")\n",
        "alasan = input(\"masukkan alasan cuti: \")\n",
        "\n",
        "# generate pesan cuti\n",
        "pesan_cuti = generate_cuti_kerja(alasan)\n",
        "\n",
        "# output pesan cuti\n",
        "print(pesan_cuti)"
      ]
    }
  ]
}