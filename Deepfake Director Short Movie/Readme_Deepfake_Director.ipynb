{
  "nbformat": 4,
  "nbformat_minor": 0,
  "metadata": {
    "colab": {
      "provenance": [],
      "authorship_tag": "ABX9TyOAkgaFNtTx5vmp4fkktnxz",
      "include_colab_link": true
    },
    "kernelspec": {
      "name": "python3",
      "display_name": "Python 3"
    },
    "language_info": {
      "name": "python"
    }
  },
  "cells": [
    {
      "cell_type": "markdown",
      "metadata": {
        "id": "view-in-github",
        "colab_type": "text"
      },
      "source": [
        "<a href=\"https://colab.research.google.com/github/gandalfmuda/Data-Scientis-mastery/blob/main/Deepfake%20Director%20Short%20Movie/Readme_Deepfake_Director.ipynb\" target=\"_parent\"><img src=\"https://colab.research.google.com/assets/colab-badge.svg\" alt=\"Open In Colab\"/></a>"
      ]
    },
    {
      "cell_type": "markdown",
      "source": [
        "# Deepfake & Faceswaping\n",
        "\n",
        "- Untuk Manipulasi Dan Animasi Karakter Wajah Vidio\n",
        "- Pembuatan Cinematic Short Vidio Game / Anime\n",
        "\n",
        "Join to project"
      ],
      "metadata": {
        "id": "GU8lhtbfT4ZN"
      }
    }
  ]
}