{
  "nbformat": 4,
  "nbformat_minor": 0,
  "metadata": {
    "colab": {
      "provenance": [],
      "authorship_tag": "ABX9TyMFC3JkX5fRNql8lMO0QMX9",
      "include_colab_link": true
    },
    "kernelspec": {
      "name": "python3",
      "display_name": "Python 3"
    },
    "language_info": {
      "name": "python"
    }
  },
  "cells": [
    {
      "cell_type": "markdown",
      "metadata": {
        "id": "view-in-github",
        "colab_type": "text"
      },
      "source": [
        "<a href=\"https://colab.research.google.com/github/gandalfmuda/Data-Scientis-mastery/blob/main/Aplikasi%20Zodiak/Zodiak_berdasarkan_lahir.ipynb\" target=\"_parent\"><img src=\"https://colab.research.google.com/assets/colab-badge.svg\" alt=\"Open In Colab\"/></a>"
      ]
    },
    {
      "cell_type": "code",
      "execution_count": null,
      "metadata": {
        "colab": {
          "base_uri": "https://localhost:8080/"
        },
        "id": "TdzUXoM323kD",
        "outputId": "4ab937d2-dfe9-438e-9d69-2e66834049b2"
      },
      "outputs": [
        {
          "output_type": "stream",
          "name": "stdout",
          "text": [
            "Masukkan tanggal kelahiran Anda: 5\n",
            "Masukkan Bulan Kelahiran Anda (Angka): 3\n",
            "Zodiak Anda adalah Pisces\n"
          ]
        }
      ],
      "source": [
        "#@title **Aplikasi Zodiak** { vertical-output: true, display-mode: \"form\" }\n",
        "\n",
        "def cek_zodiak(tanggal, bulan):\n",
        "    if (bulan == 1 and tanggal >= 20) or (bulan == 2 and tanggal <= 18):\n",
        "        return \"Aquarius\"\n",
        "    elif (bulan == 2 and tanggal >= 19) or (bulan == 3 and tanggal <= 20):\n",
        "        return \"Pisces\"\n",
        "    elif (bulan == 3 and tanggal >= 21) or (bulan == 4 and tanggal <= 19):\n",
        "        return \"Aries\"\n",
        "    elif (bulan == 4 and tanggal >= 20) or (bulan == 5 and tanggal <= 20):\n",
        "        return \"Taurus\"\n",
        "    elif (bulan == 5 and tanggal >= 21) or (bulan == 6 and tanggal <= 20):\n",
        "        return \"Gemini\"\n",
        "    elif (bulan == 6 and tanggal >= 21) or (bulan == 7 and tanggal <= 22):\n",
        "        return \"Cancer\"\n",
        "    elif (bulan == 7 and tanggal >= 23) or (bulan == 8 and tanggal <= 22):\n",
        "        return \"Leo\"\n",
        "    elif (bulan == 8 and tanggal >= 23) or (bulan == 9 and tanggal <= 22):\n",
        "        return \"Virgo\"\n",
        "    elif (bulan == 9 and tanggal >= 23) or (bulan == 10 and tanggal <= 22):\n",
        "        return \"Libra\"\n",
        "    elif (bulan == 10 and tanggal >= 23) or (bulan == 11 and tanggal <= 21):\n",
        "        return \"Scorpio\"\n",
        "    elif (bulan == 11 and tanggal >= 22) or (bulan == 12 and tanggal <= 21):\n",
        "        return \"Sagittarius\"\n",
        "    elif (bulan == 12 and tanggal >= 22) or (bulan == 1 and tanggal <= 19):\n",
        "        return \"Capricorn\"\n",
        "    else:\n",
        "        return \"Tanggal atau bulan kelahiran tidak valid.\"\n",
        "\n",
        "tanggal_lahir = int(input(\"Masukkan tanggal kelahiran Anda: \"))\n",
        "bulan_lahir = int(input(\"Masukkan Bulan Kelahiran Anda (Angka): \"))\n",
        "\n",
        "zodiak = cek_zodiak(tanggal_lahir, bulan_lahir)\n",
        "print(\"Zodiak Anda adalah\", zodiak)"
      ]
    }
  ]
}