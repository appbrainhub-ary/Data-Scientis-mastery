{
  "nbformat": 4,
  "nbformat_minor": 0,
  "metadata": {
    "colab": {
      "provenance": [],
      "authorship_tag": "ABX9TyOGL9zBX3uNtBFtYS57BIMc",
      "include_colab_link": true
    },
    "kernelspec": {
      "name": "python3",
      "display_name": "Python 3"
    },
    "language_info": {
      "name": "python"
    }
  },
  "cells": [
    {
      "cell_type": "markdown",
      "metadata": {
        "id": "view-in-github",
        "colab_type": "text"
      },
      "source": [
        "<a href=\"https://colab.research.google.com/github/gandalfmuda/Data-Scientis-mastery/blob/main/Luas_Tanah_%2B_NJOP.ipynb\" target=\"_parent\"><img src=\"https://colab.research.google.com/assets/colab-badge.svg\" alt=\"Open In Colab\"/></a>"
      ]
    },
    {
      "cell_type": "markdown",
      "source": [
        "Di bawah adalah plikasi Penghitung Luas Bangunan, beserta Pajak NJOP wilayahnya"
      ],
      "metadata": {
        "id": "ujMEnZu1J6-U"
      }
    },
    {
      "cell_type": "code",
      "execution_count": 1,
      "metadata": {
        "colab": {
          "base_uri": "https://localhost:8080/"
        },
        "id": "Jc1koXUPJNa6",
        "outputId": "784145e2-a792-4547-e9d5-48f481ab122d"
      },
      "outputs": [
        {
          "output_type": "stream",
          "name": "stdout",
          "text": [
            "Masukkan panjang tanah (meter): 500\n",
            "Masukkan lebar tanah (meter): 300\n",
            "Masukkan tinggi bangunan (meter): 50\n",
            "Masukkan NJOP bangunan: 200\n",
            "Luas bangunan adalah: 7500000.0 meter persegi\n",
            "Pajak bangunan adalah: 1500000000.0 Rupiah\n"
          ]
        }
      ],
      "source": [
        "\n",
        "def hitung_luas(panjang, lebar, tinggi):\n",
        "    luas = panjang * lebar * tinggi\n",
        "    return luas\n",
        "\n",
        "def hitung_pajak(luas_bangunan, njop):\n",
        "    pajak = luas_bangunan * njop\n",
        "    return pajak\n",
        "\n",
        "panjang_tanah = float(input(\"Masukkan panjang tanah (meter): \"))\n",
        "lebar_tanah = float(input(\"Masukkan lebar tanah (meter): \"))\n",
        "tinggi_bangunan = float(input(\"Masukkan tinggi bangunan (meter): \"))\n",
        "njop = float(input(\"Masukkan NJOP bangunan: \"))\n",
        "\n",
        "luas_bangunan = hitung_luas(panjang_tanah, lebar_tanah, tinggi_bangunan)\n",
        "pajak_bangunan = hitung_pajak(luas_bangunan, njop)\n",
        "\n",
        "print(\"Luas bangunan adalah:\", luas_bangunan, \"meter persegi\")\n",
        "print(\"Pajak bangunan adalah:\", pajak_bangunan, \"Rupiah\")"
      ]
    }
  ]
}