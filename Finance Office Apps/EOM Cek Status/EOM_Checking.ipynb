{
  "nbformat": 4,
  "nbformat_minor": 0,
  "metadata": {
    "colab": {
      "provenance": [],
      "authorship_tag": "ABX9TyNmb6s/er7e+S1ExkT47GHp",
      "include_colab_link": true
    },
    "kernelspec": {
      "name": "python3",
      "display_name": "Python 3"
    },
    "language_info": {
      "name": "python"
    }
  },
  "cells": [
    {
      "cell_type": "markdown",
      "metadata": {
        "id": "view-in-github",
        "colab_type": "text"
      },
      "source": [
        "<a href=\"https://colab.research.google.com/github/gandalfmuda/Data-Scientis-mastery/blob/main/Finance%20Office%20Apps/EOM%20Cek%20Status/EOM_Checking.ipynb\" target=\"_parent\"><img src=\"https://colab.research.google.com/assets/colab-badge.svg\" alt=\"Open In Colab\"/></a>"
      ]
    },
    {
      "cell_type": "markdown",
      "source": [
        "Aplikasi Di bawah berfungsi untuk mengecek status pembayaran akhir bulan (EOM).\n",
        "\n",
        "Ganti tanggal awal sesuai awal masuk dan ganti jangka waktu pembayaran."
      ],
      "metadata": {
        "id": "zjz8LkTZL0mL"
      }
    },
    {
      "cell_type": "code",
      "execution_count": null,
      "metadata": {
        "id": "EZGO3t8wJ1Jx"
      },
      "outputs": [],
      "source": [
        "\n",
        "import datetime\n",
        "\n",
        "def hitung_tanggal_jatuh_tempo(tanggal_awal, jangka_waktu):\n",
        "    # Menghitung tanggal jatuh tempo berdasarkan tanggal awal dan jangka waktu (dalam hari)\n",
        "    tanggal_jatuh_tempo = tanggal_awal + datetime.timedelta(days=jangka_waktu)\n",
        "    return tanggal_jatuh_tempo\n",
        "\n",
        "def cek_pembayaran(tanggal_sekarang, tanggal_jatuh_tempo):\n",
        "    # Memeriksa apakah pembayaran sudah jatuh tempo atau belum\n",
        "    if tanggal_sekarang > tanggal_jatuh_tempo:\n",
        "        return \"Pembayaran sudah jatuh tempo\"\n",
        "    else:\n",
        "        return \"Pembayaran belum jatuh tempo\"\n",
        "\n",
        "# Ganti Sesuai tanggal awal dan janggka waktu\n",
        "tanggal_awal = datetime.date(2023, 10, 1)  # Tanggal awal periode\n",
        "jangka_waktu = 30  # Jangka waktu pembayaran (dalam hari)\n",
        "\n",
        "tanggal_sekarang = datetime.date.today()  # Tanggal sekarang\n",
        "tanggal_jatuh_tempo = hitung_tanggal_jatuh_tempo(tanggal_awal, jangka_waktu)\n",
        "\n",
        "print('=== Aplikasi EOM ===')\n",
        "print('Cek Status Pembayaran')\n",
        "print('Akhir Bulan')\n",
        "print('~~~~~~~~~~~~~~~~~~~~~~~~')\n",
        "print('Status EOM: ')\n",
        "status_pembayaran = cek_pembayaran(tanggal_sekarang, tanggal_jatuh_tempo)\n",
        "print(status_pembayaran)"
      ]
    }
  ]
}