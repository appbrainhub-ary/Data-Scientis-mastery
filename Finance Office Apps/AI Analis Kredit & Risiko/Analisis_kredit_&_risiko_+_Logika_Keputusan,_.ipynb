{
  "nbformat": 4,
  "nbformat_minor": 0,
  "metadata": {
    "colab": {
      "provenance": [],
      "authorship_tag": "ABX9TyPwoVfCQVa1Zwv9R745zixE",
      "include_colab_link": true
    },
    "kernelspec": {
      "name": "python3",
      "display_name": "Python 3"
    },
    "language_info": {
      "name": "python"
    }
  },
  "cells": [
    {
      "cell_type": "markdown",
      "metadata": {
        "id": "view-in-github",
        "colab_type": "text"
      },
      "source": [
        "<a href=\"https://colab.research.google.com/github/gandalfmuda/Data-Scientis-mastery/blob/main/Finance%20Office%20Apps/AI%20Analis%20Kredit%20%26%20Risiko/Analisis_kredit_%26_risiko_%2B_Logika_Keputusan%2C_.ipynb\" target=\"_parent\"><img src=\"https://colab.research.google.com/assets/colab-badge.svg\" alt=\"Open In Colab\"/></a>"
      ]
    },
    {
      "cell_type": "markdown",
      "source": [
        "aplikasi analisis kredit & risiko, untuk membantu pengambilan keputusan pemberi pinjaman, data akan di simpan di file json yang sudah otomatis di buat."
      ],
      "metadata": {
        "id": "cY-g-9Ox3vmr"
      }
    },
    {
      "cell_type": "code",
      "execution_count": null,
      "metadata": {
        "id": "SXypp-zpazl2",
        "colab": {
          "base_uri": "https://localhost:8080/"
        },
        "outputId": "d8615a81-9fac-4adf-c7c9-96f1a290d62f"
      },
      "outputs": [
        {
          "output_type": "stream",
          "name": "stdout",
          "text": [
            "Aplikasi Finance Pintar\n",
            "Analisis Kredit & Risiko\n",
            "Dengan Fitur Logika AI\n",
            "===========================\n",
            "Masukkan nama pelanggan: bang jali\n",
            "Masukkan jumlah pinjaman: 3000000\n",
            "Masukkan pendapatan pelanggan: 2000000\n",
            "Masukkan nama pelanggan yang akan diedit: bang jali\n",
            "Masukkan jumlah pinjaman baru: 2000000\n",
            "Masukkan pendapatan pelanggan baru: 2000000\n",
            "Nama: bang jali\n",
            "Jumlah Pinjaman: 2000000.0\n",
            "Pendapatan: 2000000.0\n",
            "\n",
            "Kredit disetujui untuk pelanggan bang jali\n"
          ]
        }
      ],
      "source": [
        "\n",
        "import json\n",
        "\n",
        "\n",
        "print(\"Aplikasi Finance Pintar\")\n",
        "print(\"Analisis Kredit & Risiko\")\n",
        "print(\"Dengan Fitur Logika AI\")\n",
        "print(\"===========================\")\n",
        "def tambah_data():\n",
        "    data = {\n",
        "        \"nama\": input(\"Masukkan nama pelanggan: \"),\n",
        "        \"jumlah_pinjaman\": float(input(\"Masukkan jumlah pinjaman: \")),\n",
        "        \"pendapatan\": float(input(\"Masukkan pendapatan pelanggan: \")),\n",
        "        # Tambahkan atribut lain sesuai kebutuhan\n",
        "    }\n",
        "    return data\n",
        "\n",
        "# Fungsi untuk mengedit data kredit\n",
        "def edit_data(data):\n",
        "    nama_pelanggan = input(\"Masukkan nama pelanggan yang akan diedit: \")\n",
        "    for i in range(len(data)):\n",
        "        if data[i][\"nama\"] == nama_pelanggan:\n",
        "            data[i][\"jumlah_pinjaman\"] = float(input(\"Masukkan jumlah pinjaman baru: \"))\n",
        "            data[i][\"pendapatan\"] = float(input(\"Masukkan pendapatan pelanggan baru: \"))\n",
        "            # Ubah atribut lain sesuai kebutuhan\n",
        "            break\n",
        "\n",
        "# Fungsi untuk menyimpan data ke dalam file JSON\n",
        "def simpan_data_ke_json(data):\n",
        "    with open('data.json', 'w') as file:\n",
        "        json.dump(data, file)\n",
        "\n",
        "# Fungsi untuk membaca data dari file JSON\n",
        "def baca_data_dari_json():\n",
        "    with open('data.json', 'r') as file:\n",
        "        data = json.load(file)\n",
        "    return data\n",
        "\n",
        "# Fungsi untuk menampilkan data kredit\n",
        "def tampilkan_data(data):\n",
        "    for i in range(len(data)):\n",
        "        print(f\"Nama: {data[i]['nama']}\")\n",
        "        print(f\"Jumlah Pinjaman: {data[i]['jumlah_pinjaman']}\")\n",
        "        print(f\"Pendapatan: {data[i]['pendapatan']}\")\n",
        "        # Tampilkan atribut lain sesuai kebutuhan\n",
        "        print()\n",
        "\n",
        "# Fungsi untuk melakukan analisis kredit dan risiko\n",
        "def analisis_kredit_risiko(data):\n",
        "    for i in range(len(data)):\n",
        "        # Logika pengambilan keputusan berdasarkan analisis kredit dan risiko\n",
        "        if data[i][\"jumlah_pinjaman\"] > data[i][\"pendapatan\"]:\n",
        "            print(f\"Kredit tidak disetujui untuk pelanggan {data[i]['nama']}\")\n",
        "        else:\n",
        "            print(f\"Kredit disetujui untuk pelanggan {data[i]['nama']}\")\n",
        "        # Tambahkan logika pengambilan keputusan lain sesuai kebutuhan\n",
        "\n",
        "# Contoh penggunaan fungsi-fungsi di atas\n",
        "data = []\n",
        "\n",
        "# Tambah data\n",
        "data.append(tambah_data())\n",
        "\n",
        "# Edit data\n",
        "edit_data(data)\n",
        "\n",
        "# Simpan data ke dalam file JSON\n",
        "simpan_data_ke_json(data)\n",
        "\n",
        "# Baca data dari file JSON\n",
        "data_dari_json = baca_data_dari_json()\n",
        "\n",
        "# Tampilkan data\n",
        "tampilkan_data(data_dari_json)\n",
        "\n",
        "# Lakukan analisis kredit dan risiko\n",
        "analisis_kredit_risiko(data_dari_json)"
      ]
    }
  ]
}