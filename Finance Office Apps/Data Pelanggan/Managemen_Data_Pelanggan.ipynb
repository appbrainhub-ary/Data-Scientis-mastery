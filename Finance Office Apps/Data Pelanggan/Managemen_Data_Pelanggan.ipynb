{
  "nbformat": 4,
  "nbformat_minor": 0,
  "metadata": {
    "colab": {
      "provenance": [],
      "authorship_tag": "ABX9TyMnai/Kru6HcIEEWMLEwVal",
      "include_colab_link": true
    },
    "kernelspec": {
      "name": "python3",
      "display_name": "Python 3"
    },
    "language_info": {
      "name": "python"
    }
  },
  "cells": [
    {
      "cell_type": "markdown",
      "metadata": {
        "id": "view-in-github",
        "colab_type": "text"
      },
      "source": [
        "<a href=\"https://colab.research.google.com/github/gandalfmuda/Data-Scientis-mastery/blob/main/Finance%20Office%20Apps/Data%20Pelanggan/Managemen_Data_Pelanggan.ipynb\" target=\"_parent\"><img src=\"https://colab.research.google.com/assets/colab-badge.svg\" alt=\"Open In Colab\"/></a>"
      ]
    },
    {
      "cell_type": "markdown",
      "source": [
        "Dibawah adalah aplikasi sederhana Managemen Data Pelanggan untuk Kantor Financial. Data Akan di simpan di file json yang sudah otomatis di generate oleh aplikasi ini."
      ],
      "metadata": {
        "id": "ZZEFsZ0D3izi"
      }
    },
    {
      "cell_type": "code",
      "source": [
        "\n",
        "\n",
        "import json\n",
        "\n",
        "# Fungsi untuk membaca data pelanggan dari file JSON\n",
        "def baca_data_pelanggan():\n",
        "    try:\n",
        "        with open('customers.json', 'r') as file:\n",
        "            data = json.load(file)\n",
        "    except FileNotFoundError:\n",
        "        data = []\n",
        "    return data\n",
        "\n",
        "# Fungsi untuk menulis data pelanggan ke file JSON\n",
        "def tulis_data_pelanggan(data):\n",
        "    with open('customers.json', 'w') as file:\n",
        "        json.dump(data, file)\n",
        "\n",
        "# Fungsi untuk menambahkan pelanggan baru\n",
        "def tambah_pelanggan():\n",
        "    data = baca_data_pelanggan()\n",
        "    nama = input(\"Masukkan nama pelanggan: \")\n",
        "    email = input(\"Masukkan email pelanggan: \")\n",
        "    telepon = input(\"Masukkan nomor telepon pelanggan: \")\n",
        "    pelanggan = {\n",
        "        'nama': nama,\n",
        "        'email': email,\n",
        "        'telepon': telepon,\n",
        "        'riwayat_interaksi': [],\n",
        "        'status_permintaan': 'Belum Diproses'\n",
        "    }\n",
        "    data.append(pelanggan)\n",
        "    tulis_data_pelanggan(data)\n",
        "    print(\"Pelanggan berhasil ditambahkan.\")\n",
        "\n",
        "# Fungsi untuk melihat data pelanggan\n",
        "def lihat_data_pelanggan():\n",
        "    data = baca_data_pelanggan()\n",
        "    for pelanggan in data:\n",
        "        print(\"Nama: \", pelanggan['nama'])\n",
        "        print(\"Email: \", pelanggan['email'])\n",
        "        print(\"Telepon: \", pelanggan['telepon'])\n",
        "        print(\"Riwayat Interaksi: \", pelanggan['riwayat_interaksi'])\n",
        "        print(\"Status Permintaan: \", pelanggan['status_permintaan'])\n",
        "        print(\"=====================================\")\n",
        "\n",
        "# Fungsi untuk mengupdate status permintaan pelanggan\n",
        "def update_status_permintaan():\n",
        "    data = baca_data_pelanggan()\n",
        "    email = input(\"Masukkan email pelanggan: \")\n",
        "    status_baru = input(\"Masukkan status permintaan baru: \")\n",
        "    for pelanggan in data:\n",
        "        if pelanggan['email'] == email:\n",
        "            pelanggan['status_permintaan'] = status_baru\n",
        "            break\n",
        "    tulis_data_pelanggan(data)\n",
        "    print(\"Status permintaan berhasil diperbarui.\")\n",
        "\n",
        "# menu program ganti XX sesuai Alamat\n",
        "while True:\n",
        "    print(\"=== Aplikasi Manajemen Pelanggan ===\")\n",
        "    print(\"=== Kantor XX Finance Kota XX ===\")\n",
        "    print(\"1. Tambah Pelanggan\")\n",
        "    print(\"2. Lihat Data Pelanggan\")\n",
        "    print(\"3. Update Status Permintaan\")\n",
        "    print(\"4. Keluar\")\n",
        "    pilihan = input(\"Masukkan pilihan (1/2/3/4): \")\n",
        "    if pilihan == '1':\n",
        "        tambah_pelanggan()\n",
        "    elif pilihan == '2':\n",
        "        lihat_data_pelanggan()\n",
        "    elif pilihan == '3':\n",
        "        update_status_permintaan()\n",
        "    elif pilihan == '4':\n",
        "        break\n",
        "    else:\n",
        "        print(\"Pilihan tidak valid. Silakan coba lagi.\")"
      ],
      "metadata": {
        "colab": {
          "base_uri": "https://localhost:8080/"
        },
        "id": "vm1suQYzzX6u",
        "outputId": "7d42633a-5425-4be5-d533-97c4300e0a61"
      },
      "execution_count": 4,
      "outputs": [
        {
          "name": "stdout",
          "output_type": "stream",
          "text": [
            "=== Aplikasi Manajemen Pelanggan ===\n",
            "=== Kantor XX Finance Kota XX ===\n",
            "1. Tambah Pelanggan\n",
            "2. Lihat Data Pelanggan\n",
            "3. Update Status Permintaan\n",
            "4. Keluar\n",
            "Masukkan pilihan (1/2/3/4): 1\n",
            "Masukkan nama pelanggan: Joni\n",
            "Masukkan email pelanggan: joni@mail.com\n",
            "Masukkan nomor telepon pelanggan: 0219817720007\n",
            "Pelanggan berhasil ditambahkan.\n",
            "=== Aplikasi Manajemen Pelanggan ===\n",
            "=== Kantor XX Finance Kota XX ===\n",
            "1. Tambah Pelanggan\n",
            "2. Lihat Data Pelanggan\n",
            "3. Update Status Permintaan\n",
            "4. Keluar\n",
            "Masukkan pilihan (1/2/3/4): 3\n",
            "Masukkan email pelanggan: joni@mail.com\n",
            "Masukkan status permintaan baru: Akusisi Perusahaan\n",
            "Status permintaan berhasil diperbarui.\n",
            "=== Aplikasi Manajemen Pelanggan ===\n",
            "=== Kantor XX Finance Kota XX ===\n",
            "1. Tambah Pelanggan\n",
            "2. Lihat Data Pelanggan\n",
            "3. Update Status Permintaan\n",
            "4. Keluar\n",
            "Masukkan pilihan (1/2/3/4): 2\n",
            "Nama:  joni\n",
            "Email:  joni@mail.com\n",
            "Telepon:  02188000877700\n",
            "Riwayat Interaksi:  []\n",
            "Status Permintaan:  Akusisi Perusahaan\n",
            "=====================================\n",
            "Nama:  Joni\n",
            "Email:  joni@mail.com\n",
            "Telepon:  0219817720007\n",
            "Riwayat Interaksi:  []\n",
            "Status Permintaan:  Belum Diproses\n",
            "=====================================\n",
            "=== Aplikasi Manajemen Pelanggan ===\n",
            "=== Kantor XX Finance Kota XX ===\n",
            "1. Tambah Pelanggan\n",
            "2. Lihat Data Pelanggan\n",
            "3. Update Status Permintaan\n",
            "4. Keluar\n",
            "Masukkan pilihan (1/2/3/4): 4\n"
          ]
        }
      ]
    }
  ]
}