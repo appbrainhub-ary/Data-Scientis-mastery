{
  "nbformat": 4,
  "nbformat_minor": 0,
  "metadata": {
    "colab": {
      "provenance": [],
      "authorship_tag": "ABX9TyO+7CZApzLANVsbu0EmpF7z",
      "include_colab_link": true
    },
    "kernelspec": {
      "name": "python3",
      "display_name": "Python 3"
    },
    "language_info": {
      "name": "python"
    }
  },
  "cells": [
    {
      "cell_type": "markdown",
      "metadata": {
        "id": "view-in-github",
        "colab_type": "text"
      },
      "source": [
        "<a href=\"https://colab.research.google.com/github/gandalfmuda/Data-Scientis-mastery/blob/main/Pembuat_CV_Otomatis.ipynb\" target=\"_parent\"><img src=\"https://colab.research.google.com/assets/colab-badge.svg\" alt=\"Open In Colab\"/></a>"
      ]
    },
    {
      "cell_type": "markdown",
      "source": [
        "Di bawah adalah aplikasi pembuat CV Curiculum Vitae Otomatis (**Hanya Data Text Saja**) dan kalian bisa menambahkan pas foto di dalam file dockx yang dusah di generate oleh aplikasi ini"
      ],
Jika kalian menggunakan Collabs output gambar QR ada pada tab \"Show File Browser\" atau icon gambar folder.\n",
        "\n",
        "Jika kalian menggunakan VSCode output gambar QR menyatu dengan file python nya dalam satu folder utama."
      ],
      "metadata": {
        "id": "_kH5K0tgk1Lk"
      }
    },
    {
      "cell_type": "code",
      "execution_count": 1,
      "metadata": {
        "colab": {
          "base_uri": "https://localhost:8080/"
        },
        "id": "2BRP8xACiREo",
        "outputId": "6dc5c287-168f-4f2f-ed85-e5d8e4e82924"
      },
      "outputs": [
        {
          "output_type": "stream",
          "name": "stdout",
          "text": [
            "Collecting python-docx\n",
            "  Downloading python-docx-0.8.11.tar.gz (5.6 MB)\n",
            "\u001b[2K     \u001b[90m━━━━━━━━━━━━━━━━━━━━━━━━━━━━━━━━━━━━━━━━\u001b[0m \u001b[32m5.6/5.6 MB\u001b[0m \u001b[31m38.5 MB/s\u001b[0m eta \u001b[36m0:00:00\u001b[0m\n",
            "\u001b[?25h  Preparing metadata (setup.py) ... \u001b[?25l\u001b[?25hdone\n",
            "Requirement already satisfied: lxml>=2.3.2 in /usr/local/lib/python3.10/dist-packages (from python-docx) (4.9.3)\n",
            "Building wheels for collected packages: python-docx\n",
            "  Building wheel for python-docx (setup.py) ... \u001b[?25l\u001b[?25hdone\n",
            "  Created wheel for python-docx: filename=python_docx-0.8.11-py3-none-any.whl size=184487 sha256=4b758813f28cd758ad087f18174ed6f1081b9a5f8b853ad79977d4955820ee34\n",
            "  Stored in directory: /root/.cache/pip/wheels/80/27/06/837436d4c3bd989b957a91679966f207bfd71d358d63a8194d\n",
            "Successfully built python-docx\n",
            "Installing collected packages: python-docx\n",
            "Successfully installed python-docx-0.8.11\n"
          ]
        }
      ],
      "source": [
        "pip install python-docx"
      ]
    },
    {
      "cell_type": "code",
      "source": [
        "from docx import Document\n",
        "\n",
        "def generate_cv(nama, alamat, email, telepon, pengalaman_kerja):\n",
        "    # Buat dokumen baru menggunakan library python-docx\n",
        "    doc = Document()\n",
        "\n",
        "    # Tambahkan judul CV\n",
        "    doc.add_heading('Curriculum Vitae', level=1)\n",
        "\n",
        "    # Tambahkan informasi pribadi\n",
        "    doc.add_heading('Informasi Pribadi', level=2)\n",
        "    doc.add_paragraph(f'Nama: {nama}')\n",
        "    doc.add_paragraph(f'Alamat: {alamat}')\n",
        "    doc.add_paragraph(f'Email: {email}')\n",
        "    doc.add_paragraph(f'Telepon: {telepon}')\n",
        "\n",
        "    # Tambahkan pengalaman kerja\n",
        "    doc.add_heading('Pengalaman Kerja', level=2)\n",
        "    for pengalaman in pengalaman_kerja:\n",
        "        doc.add_heading(pengalaman['posisi'], level=3)\n",
        "        doc.add_paragraph(f'Perusahaan: {pengalaman[\"perusahaan\"]}')\n",
        "        doc.add_paragraph(f'Tahun: {pengalaman[\"tahun\"]}')\n",
        "        doc.add_paragraph(f'Deskripsi: {pengalaman[\"deskripsi\"]}')\n",
        "\n",
        "    # Simpan dokumen sebagai file\n",
        "    doc.save('cv.docx')\n",
        "\n",
        "    print('CV berhasil dibuat!')\n",
        "\n",
        "# Input data\n",
        "nama = input('Masukkan nama Anda: ')\n",
        "alamat = input('Masukkan alamat Anda: ')\n",
        "email = input('Masukkan email Anda: ')\n",
        "telepon = input('Masukkan nomor telepon Anda: ')\n",
        "\n",
        "pengalaman_kerja = []\n",
        "jumlah_pengalaman = int(input('Masukkan jumlah pengalaman kerja: '))\n",
        "\n",
        "for i in range(jumlah_pengalaman):\n",
        "    print(f'Pengalaman Kerja #{i+1}')\n",
        "    posisi = input('Masukkan posisi pekerjaan: ')\n",
        "    perusahaan = input('Masukkan nama perusahaan: ')\n",
        "    tahun = input('Masukkan tahun pengalaman kerja: ')\n",
        "    deskripsi = input('Masukkan deskripsi pekerjaan: ')\n",
        "\n",
        "    pengalaman = {\n",
        "        'posisi': posisi,\n",
        "        'perusahaan': perusahaan,\n",
        "        'tahun': tahun,\n",
        "        'deskripsi': deskripsi\n",
        "    }\n",
        "\n",
        "    pengalaman_kerja.append(pengalaman)\n",
        "\n",
        "# Generate CV\n",
        "generate_cv(nama, alamat, email, telepon, pengalaman_kerja)\n"
      ],
      "metadata": {
        "id": "8V6R_FOMiaiF"
      },
      "execution_count": null,
      "outputs": []
    }
  ]
}
