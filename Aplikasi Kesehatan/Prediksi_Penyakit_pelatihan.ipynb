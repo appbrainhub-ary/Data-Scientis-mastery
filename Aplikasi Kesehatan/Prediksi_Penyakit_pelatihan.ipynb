{
  "nbformat": 4,
  "nbformat_minor": 0,
  "metadata": {
    "colab": {
      "provenance": [],
      "authorship_tag": "ABX9TyPoYOPGEvQ/235fYc9JMvpT",
      "include_colab_link": true
    },
    "kernelspec": {
      "name": "python3",
      "display_name": "Python 3"
    },
    "language_info": {
      "name": "python"
    }
  },
  "cells": [
    {
      "cell_type": "markdown",
      "metadata": {
        "id": "view-in-github",
        "colab_type": "text"
      },
      "source": [
        "<a href=\"https://colab.research.google.com/github/gandalfmuda/Data-Scientis-mastery/blob/main/Aplikasi%20Kesehatan/Prediksi_Penyakit_pelatihan.ipynb\" target=\"_parent\"><img src=\"https://colab.research.google.com/assets/colab-badge.svg\" alt=\"Open In Colab\"/></a>"
      ]
    },
    {
      "cell_type": "markdown",
      "source": [
        "Dibawah adalah pelatihan model aplikasi prediksi penyakit dari data gejala 1 & 0. Bisa di lihat di bawah perbedaan dari kordinat **y = np.array** adalah hasil prediksi"
      ],
      "metadata": {
        "id": "8om2XN4leagr"
      }
    },
    {
      "cell_type": "code",
      "source": [
        "\n",
        "# library yang diperlukan\n",
        "from sklearn.naive_bayes import GaussianNB\n",
        "import numpy as np\n",
        "\n",
        "# Misalnya, kita memiliki data latih dengan 5 gejala dan 2 penyakit (0: tidak ada penyakit, 1: penyakit)\n",
        "X = np.array([[1, 1, 0, 0, 0],  # Gejala pasien 1\n",
        "              [1, 0, 1, 0, 0],  # Gejala pasien 2\n",
        "              [0, 0, 1, 1, 0],  # Gejala pasien 3\n",
        "              [0, 0, 0, 1, 1]]) # Gejala pasien 4\n",
        "\n",
        "y = np.array([0, 1, 1, 1])  # Penyakit pasien (0: tidak ada penyakit, 1: penyakit)\n",
        "\n",
        "# Membuat model Naive Bayes\n",
        "model = GaussianNB()\n",
        "\n",
        "# Melatih model dengan data latih\n",
        "model.fit(X, y)\n",
        "\n",
        "# Menggunakan model untuk memprediksi penyakit dari gejala baru\n",
        "gejala_baru = np.array([[1, 0, 1, 0, 0]])  # Misalnya, gejala baru dari pasien 5\n",
        "prediksi = model.predict(gejala_baru)\n",
        "\n",
        "# Menampilkan hasil prediksi\n",
        "if prediksi == 0:\n",
        "    print(\"Pasien tidak menderita penyakit\")\n",
        "else:\n",
        "    print(\"Pasien menderita penyakit\")"
      ],
      "metadata": {
        "colab": {
          "base_uri": "https://localhost:8080/"
        },
        "id": "GboLV42lbboh",
        "outputId": "265d86d9-6468-4964-d2b8-3b1f0cca657e"
      },
      "execution_count": 31,
      "outputs": [
        {
          "output_type": "stream",
          "name": "stdout",
          "text": [
            "Pasien menderita penyakit\n"
          ]
        }
      ]
    },
    {
      "cell_type": "code",
      "source": [
        "\n",
        "# library yang diperlukan\n",
        "from sklearn.naive_bayes import GaussianNB\n",
        "import numpy as np\n",
        "\n",
        "# Misalnya, kita memiliki data latih dengan 5 gejala dan 2 penyakit (0: tidak ada penyakit, 1: penyakit)\n",
        "X = np.array([[1, 1, 0, 0, 0],  # Gejala pasien 1\n",
        "              [1, 0, 1, 0, 0],  # Gejala pasien 2\n",
        "              [0, 0, 1, 1, 0],  # Gejala pasien 3\n",
        "              [0, 0, 0, 1, 1]]) # Gejala pasien 4\n",
        "\n",
        "y = np.array([0, 0, 1, 1])  # Penyakit pasien (0: tidak ada penyakit, 1: penyakit)\n",
        "\n",
        "# Membuat model Naive Bayes\n",
        "model = GaussianNB()\n",
        "\n",
        "# Melatih model dengan data latih\n",
        "model.fit(X, y)\n",
        "\n",
        "# Menggunakan model untuk memprediksi penyakit dari gejala baru\n",
        "gejala_baru = np.array([[1, 0, 1, 0, 0]])  # Misalnya, gejala baru dari pasien 5\n",
        "prediksi = model.predict(gejala_baru)\n",
        "\n",
        "# Menampilkan hasil prediksi\n",
        "if prediksi == 0:\n",
        "    print(\"Pasien tidak menderita penyakit\")\n",
        "else:\n",
        "    print(\"Pasien menderita penyakit\")"
      ],
      "metadata": {
        "colab": {
          "base_uri": "https://localhost:8080/"
        },
        "id": "R3ZJc-CTePgX",
        "outputId": "2258c87f-d05b-47c9-a7b8-e633b458b090"
      },
      "execution_count": 33,
      "outputs": [
        {
          "output_type": "stream",
          "name": "stdout",
          "text": [
            "Pasien tidak menderita penyakit\n"
          ]
        }
      ]
    }
  ]
}