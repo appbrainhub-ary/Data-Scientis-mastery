{
  "nbformat": 4,
  "nbformat_minor": 0,
  "metadata": {
    "colab": {
      "provenance": [],
      "authorship_tag": "ABX9TyPgaL0RoHEMkrH3mqPc/T6+"
    },
    "kernelspec": {
      "name": "python3",
      "display_name": "Python 3"
    },
    "language_info": {
      "name": "python"
    }
  },
  "cells": [
    {
      "cell_type": "markdown",
      "source": [
        "# **A.I. Konvensi Arab ke Latin**\n",
        "contoh teks arab **Asmaul Husna** di ubah ke teks latin\n",
        "\n",
        "`CairoFreeSourceStudyAndResearch`"
      ],
      "metadata": {
        "id": "ZViGI19cWmzY"
      }
    },
    {
      "cell_type": "code",
      "execution_count": null,
      "metadata": {
        "colab": {
          "base_uri": "https://localhost:8080/"
        },
        "id": "M7NV8RF9RTqB",
        "outputId": "5117e583-9f59-439a-a10c-296518cb89c6"
      },
      "outputs": [
        {
          "output_type": "stream",
          "name": "stdout",
          "text": [
            "Collecting arabic2latin\n",
            "  Downloading arabic2latin-1.1.4-py3-none-any.whl (5.0 kB)\n",
            "Installing collected packages: arabic2latin\n",
            "Successfully installed arabic2latin-1.1.4\n"
          ]
        }
      ],
      "source": [
        "pip install arabic2latin"
      ]
    },
    {
      "cell_type": "code",
      "source": [
        "\n",
        "from arabic2latin import arabic_to_latin\n",
        "\n",
        "arabic_text =\"الرَّحْمَن\"\n",
        "converted_text = arabic_to_latin(arabic_text)\n",
        "\n",
        "print(arabic_text)\n",
        "print(converted_text)"
      ],
      "metadata": {
        "colab": {
          "base_uri": "https://localhost:8080/"
        },
        "id": "OBf2LtfDTqPl",
        "outputId": "92dcc728-f1c9-4c4c-c1e2-b32294d32596"
      },
      "execution_count": null,
      "outputs": [
        {
          "output_type": "stream",
          "name": "stdout",
          "text": [
            "الرَّحْمَن\n",
            "alrrahman\n"
          ]
        }
      ]
    }
  ]
}