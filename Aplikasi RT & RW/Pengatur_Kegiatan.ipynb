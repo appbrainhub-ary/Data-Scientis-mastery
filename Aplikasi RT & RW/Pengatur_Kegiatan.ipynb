{
  "nbformat": 4,
  "nbformat_minor": 0,
  "metadata": {
    "colab": {
      "provenance": [],
      "authorship_tag": "ABX9TyMWhZKcRxQN5VaraTKXTO9X",
      "include_colab_link": true
    },
    "kernelspec": {
      "name": "python3",
      "display_name": "Python 3"
    },
    "language_info": {
      "name": "python"
    }
  },
  "cells": [
    {
      "cell_type": "markdown",
      "metadata": {
        "id": "view-in-github",
        "colab_type": "text"
      },
      "source": [
        "<a href=\"https://colab.research.google.com/github/gandalfmuda/Data-Scientis-mastery/blob/main/Aplikasi%20RT%20%26%20RW/Pengatur_Kegiatan.ipynb\" target=\"_parent\"><img src=\"https://colab.research.google.com/assets/colab-badge.svg\" alt=\"Open In Colab\"/></a>"
      ]
    },
    {
      "cell_type": "code",
      "source": [
        "pip install pandas"
      ],
      "metadata": {
        "colab": {
          "base_uri": "https://localhost:8080/"
        },
        "id": "sLx6K8DX7sCi",
        "outputId": "d7ad12ca-c418-4670-b4f4-8823b1377643"
      },
      "execution_count": null,
      "outputs": [
        {
          "output_type": "stream",
          "name": "stdout",
          "text": [
            "Requirement already satisfied: pandas in /usr/local/lib/python3.10/dist-packages (1.5.3)\n",
            "Requirement already satisfied: python-dateutil>=2.8.1 in /usr/local/lib/python3.10/dist-packages (from pandas) (2.8.2)\n",
            "Requirement already satisfied: pytz>=2020.1 in /usr/local/lib/python3.10/dist-packages (from pandas) (2023.3.post1)\n",
            "Requirement already satisfied: numpy>=1.21.0 in /usr/local/lib/python3.10/dist-packages (from pandas) (1.23.5)\n",
            "Requirement already satisfied: six>=1.5 in /usr/local/lib/python3.10/dist-packages (from python-dateutil>=2.8.1->pandas) (1.16.0)\n"
          ]
        }
      ]
    },
    {
      "cell_type": "code",
      "source": [
        "\n",
        "import pandas as pd\n",
        "\n",
        "def tambah_kegiatan():\n",
        "    nama_kegiatan = input(\"Masukkan nama kegiatan: \")\n",
        "    tanggal_kegiatan = input(\"Masukkan tanggal kegiatan (YYYY-MM-DD): \")\n",
        "    waktu_kegiatan = input(\"Masukkan waktu kegiatan: \")\n",
        "\n",
        "    data = {\n",
        "        'Nama Kegiatan': [nama_kegiatan],\n",
        "        'Tanggal Kegiatan': [tanggal_kegiatan],\n",
        "        'Waktu Kegiatan': [waktu_kegiatan]\n",
        "    }\n",
        "\n",
        "    df = pd.DataFrame(data)\n",
        "\n",
        "    try:\n",
        "        df_existing = pd.read_csv('kegiatan.csv')\n",
        "        df_updated = pd.concat([df_existing, df], ignore_index=True)\n",
        "    except FileNotFoundError:\n",
        "        df_updated = df\n",
        "\n",
        "    df_updated.to_csv('kegiatan.csv', index=False)\n",
        "    print(\"Data kegiatan telah ditambahkan.\")\n",
        "\n",
        "def edit_kegiatan():\n",
        "    df = pd.read_csv('kegiatan.csv')\n",
        "    print(df)\n",
        "\n",
        "    index_kegiatan = int(input(\"Masukkan nomor kegiatan yang ingin diubah: \"))\n",
        "\n",
        "    nama_kegiatan = input(\"Masukkan nama kegiatan yang baru: \")\n",
        "    tanggal_kegiatan = input(\"Masukkan tanggal kegiatan yang baru (YYYY-MM-DD): \")\n",
        "    waktu_kegiatan = input(\"Masukkan waktu kegiatan yang baru: \")\n",
        "\n",
        "    df.at[index_kegiatan, 'Nama Kegiatan'] = nama_kegiatan\n",
        "    df.at[index_kegiatan, 'Tanggal Kegiatan'] = tanggal_kegiatan\n",
        "    df.at[index_kegiatan, 'Waktu Kegiatan'] = waktu_kegiatan\n",
        "\n",
        "    df.to_csv('kegiatan.csv', index=False)\n",
        "    print(\"Data kegiatan telah diubah.\")\n",
        "\n",
        "def tampilkan_kegiatan():\n",
        "    df = pd.read_csv('kegiatan.csv')\n",
        "    print(df)\n",
        "\n",
        "def tampilkan_kegiatan_selanjutnya():\n",
        "    df = pd.read_csv('kegiatan.csv')\n",
        "    now = pd.to_datetime('today').normalize()\n",
        "    df['Tanggal Kegiatan'] = pd.to_datetime(df['Tanggal Kegiatan'])\n",
        "    df_upcoming = df[df['Tanggal Kegiatan'] >= now].sort_values(by='Tanggal Kegiatan')\n",
        "    print(df_upcoming.head(1))\n",
        "\n",
        "# Main Program\n",
        "while True:\n",
        "    print(\"==== Aplikasi Pengatur ====\")\n",
        "    print(\"=== Kegiatan RT/RW Desa ===\")\n",
        "    print(\"1. Tambah Kegiatan\")\n",
        "    print(\"2. Edit Kegiatan\")\n",
        "    print(\"3. Tampilkan Data Kegiatan\")\n",
        "    print(\"4. Tampilkan Kegiatan Akan Datang\")\n",
        "    print(\"5. Keluar\")\n",
        "\n",
        "    pilihan = input(\"Masukkan pilihan (1/2/3/4/5): \")\n",
        "\n",
        "    if pilihan == '1':\n",
        "        tambah_kegiatan()\n",
        "    elif pilihan == '2':\n",
        "        edit_kegiatan()\n",
        "    elif pilihan == '3':\n",
        "        tampilkan_kegiatan()\n",
        "    elif pilihan == '4':\n",
        "        tampilkan_kegiatan_selanjutnya()\n",
        "    elif pilihan == '5':\n",
        "        break\n",
        "    else:\n",
        "        print(\"Pilihan tidak valid. Silakan masukkan pilihan yang benar.\")"
      ],
      "metadata": {
        "colab": {
          "base_uri": "https://localhost:8080/"
        },
        "id": "nEMM-x8vaWmm",
        "outputId": "909a82f3-edd4-4aa2-c316-d9c1a615809b"
      },
      "execution_count": null,
      "outputs": [
        {
          "output_type": "stream",
          "name": "stdout",
          "text": [
            "==== Aplikasi Pengatur ====\n",
            "=== Kegiatan RT/RW Desa ===\n",
            "1. Tambah Kegiatan\n",
            "2. Edit Kegiatan\n",
            "3. Tampilkan Data Kegiatan\n",
            "4. Tampilkan Kegiatan Akan Datang\n",
            "5. Keluar\n",
            "Masukkan pilihan (1/2/3/4/5): 1\n",
            "Masukkan nama kegiatan: Bansos Warga Tidak Mampu\n",
            "Masukkan tanggal kegiatan (YYYY-MM-DD): 2023-10-29\n",
            "Masukkan waktu kegiatan: 09:00\n",
            "Data kegiatan telah ditambahkan.\n",
            "==== Aplikasi Pengatur ====\n",
            "=== Kegiatan RT/RW Desa ===\n",
            "1. Tambah Kegiatan\n",
            "2. Edit Kegiatan\n",
            "3. Tampilkan Data Kegiatan\n",
            "4. Tampilkan Kegiatan Akan Datang\n",
            "5. Keluar\n",
            "Masukkan pilihan (1/2/3/4/5): 1\n",
            "Masukkan nama kegiatan: Pembagian Raskin\n",
            "Masukkan tanggal kegiatan (YYYY-MM-DD): 2023-11-01\n",
            "Masukkan waktu kegiatan: 09:00\n",
            "Data kegiatan telah ditambahkan.\n",
            "==== Aplikasi Pengatur ====\n",
            "=== Kegiatan RT/RW Desa ===\n",
            "1. Tambah Kegiatan\n",
            "2. Edit Kegiatan\n",
            "3. Tampilkan Data Kegiatan\n",
            "4. Tampilkan Kegiatan Akan Datang\n",
            "5. Keluar\n",
            "Masukkan pilihan (1/2/3/4/5): 3\n",
            "                 Nama Kegiatan Tanggal Kegiatan Waktu Kegiatan\n",
            "0  Bansos Keluarga Tidak Mampu       2023-10-29          09:00\n",
            "1     Bansos Warga Tidak Mampu       2023-10-29          09:00\n",
            "2             Pembagian Raskin       2023-11-01          09:00\n",
            "==== Aplikasi Pengatur ====\n",
            "=== Kegiatan RT/RW Desa ===\n",
            "1. Tambah Kegiatan\n",
            "2. Edit Kegiatan\n",
            "3. Tampilkan Data Kegiatan\n",
            "4. Tampilkan Kegiatan Akan Datang\n",
            "5. Keluar\n",
            "Masukkan pilihan (1/2/3/4/5): 4\n",
            "      Nama Kegiatan Tanggal Kegiatan Waktu Kegiatan\n",
            "2  Pembagian Raskin       2023-11-01          09:00\n",
            "==== Aplikasi Pengatur ====\n",
            "=== Kegiatan RT/RW Desa ===\n",
            "1. Tambah Kegiatan\n",
            "2. Edit Kegiatan\n",
            "3. Tampilkan Data Kegiatan\n",
            "4. Tampilkan Kegiatan Akan Datang\n",
            "5. Keluar\n"
          ]
        }
      ]
    }
  ]
}