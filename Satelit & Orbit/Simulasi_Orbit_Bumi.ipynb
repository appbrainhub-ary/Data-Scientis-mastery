{
  "nbformat": 4,
  "nbformat_minor": 0,
  "metadata": {
    "colab": {
      "provenance": [],
      "authorship_tag": "ABX9TyMXfOmsf4pPd8GmLUcaLTTj",
      "include_colab_link": true
    },
    "kernelspec": {
      "name": "python3",
      "display_name": "Python 3"
    },
    "language_info": {
      "name": "python"
    }
  },
  "cells": [
    {
      "cell_type": "markdown",
      "metadata": {
        "id": "view-in-github",
        "colab_type": "text"
      },
      "source": [
        "<a href=\"https://colab.research.google.com/github/gandalfmuda/Data-Scientis-mastery/blob/main/Satelit%20%26%20Orbit/Simulasi_Orbit_Bumi.ipynb\" target=\"_parent\"><img src=\"https://colab.research.google.com/assets/colab-badge.svg\" alt=\"Open In Colab\"/></a>"
      ]
    },
    {
      "cell_type": "markdown",
      "source": [
        "# Simulasi Data Astronomi tentang Orbit Bumi\n",
        "\n",
        "Data perhitungan geografis dari ISS (International Space Station). Klik link di bawah untuk melihat hasil simulasi beserta code python nya.\n",
        "\n",
        "# 👇"
      ],
      "metadata": {
        "id": "BNUXXn8msmYD"
      }
    },
    {
      "cell_type": "markdown",
      "source": [
        "https://ari-yunan-gmail-com.trinket.io/sites/orbit-bumi-and-planet-iss-ari"
      ],
      "metadata": {
        "id": "tOKBJEWAsetE"
      }
    }
  ]
}