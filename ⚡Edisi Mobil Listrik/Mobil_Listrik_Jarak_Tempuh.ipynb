{
  "nbformat": 4,
  "nbformat_minor": 0,
  "metadata": {
    "colab": {
      "provenance": [],
      "authorship_tag": "ABX9TyORuIlRtt8BeToyX+3zB6hk",
      "include_colab_link": true
    },
    "kernelspec": {
      "name": "python3",
      "display_name": "Python 3"
    },
    "language_info": {
      "name": "python"
    }
  },
  "cells": [
    {
      "cell_type": "markdown",
      "metadata": {
        "id": "view-in-github",
        "colab_type": "text"
      },
      "source": [
        "<a href=\"https://colab.research.google.com/github/gandalfmuda/Data-Scientis-mastery/blob/main/%E2%9A%A1Edisi%20Mobil%20Listrik/Mobil_Listrik_Jarak_Tempuh.ipynb\" target=\"_parent\"><img src=\"https://colab.research.google.com/assets/colab-badge.svg\" alt=\"Open In Colab\"/></a>"
      ]
    },
    {
      "cell_type": "markdown",
      "source": [
        "Di bawah adalah perhitungan Jarak tempuh Mobil Listrik, Daya yang di butuhkan, dan Efeiensi kapasitasnya, dalam code python. kalian bisa mengembangkan code di bawah menjadi prototype"
      ],
      "metadata": {
        "id": "4vvQFtPfSwxj"
      }
    },
    {
      "cell_type": "code",
      "source": [
        "\n",
        "def hitung_jarak_tempuh(daya_listrik, efisiensi_mobil):\n",
        "    energi_listrik = daya_listrik * waktu_ngecas\n",
        "    jarak_tempuh = energi_listrik / efisiensi_mobil\n",
        "    return jarak_tempuh\n",
        "\n",
        "daya_listrik = float(input(\"Masukkan daya listrik mobil (dalam kilowatt): \"))\n",
        "efisiensi_mobil = float(input(\"Masukkan efisiensi mobil (dalam kilometer per kilowatt-hour): \"))\n",
        "waktu_ngecas = float(input(\"Masukkan waktu pengisian daya mobil (dalam jam): \"))\n",
        "\n",
        "jarak = hitung_jarak_tempuh(daya_listrik, efisiensi_mobil)\n",
        "print(\"Jarak tempuh mobil listrik adalah\", jarak, \"kilometer.\")"
      ],
      "metadata": {
        "id": "XNwluLojQMEc"
      },
      "execution_count": null,
      "outputs": []
    },
    {
      "cell_type": "code",
      "execution_count": 4,
      "metadata": {
        "colab": {
          "base_uri": "https://localhost:8080/"
        },
        "id": "P8bvHsDePuS8",
        "outputId": "d4cb512e-4a99-4d0c-83d9-f4b6c07ac9fa"
      },
      "outputs": [
        {
          "output_type": "stream",
          "name": "stdout",
          "text": [
            "Masukkan kapasitas baterai (kWh): 1.8\n",
            "Masukkan efisiensi mobil listrik (misalnya 0.9 untuk 90%): 0.9\n",
            "Masukkan daya listrik yang digunakan (kW): 2.0\n",
            "Jarak tempuh mobil listrik adalah 2916.0 kilometer\n",
            "Daya listrik yang diperlukan adalah 2.0 kW\n"
          ]
        }
      ],
      "source": [
        "\n",
        "def hitung_jarak_tempuh(baterai, efisiensi, daya_listrik):\n",
        "    energi_baterai = baterai * 3600  # konversi kapasitas baterai dari kWh ke Joule\n",
        "    energi_diperlukan = daya_listrik / efisiensi  # energi yang diperlukan untuk perjalanan\n",
        "    jarak_tempuh = energi_baterai / energi_diperlukan  # jarak tempuh mobil listrik\n",
        "\n",
        "    return jarak_tempuh\n",
        "\n",
        "def hitung_daya_listrik(baterai, efisiensi, jarak_tempuh):\n",
        "    energi_baterai = baterai * 3600  # konversi kapasitas baterai dari kWh ke Joule\n",
        "    energi_diperlukan = energi_baterai / jarak_tempuh  # energi yang diperlukan per kilometer\n",
        "    daya_listrik = energi_diperlukan * efisiensi  # daya listrik yang diperlukan untuk perjalanan\n",
        "\n",
        "    return daya_listrik\n",
        "\n",
        "baterai = float(input(\"Masukkan kapasitas baterai (kWh): \"))\n",
        "efisiensi = float(input(\"Masukkan efisiensi mobil listrik (misalnya 0.9 untuk 90%): \"))\n",
        "daya_listrik = float(input(\"Masukkan daya listrik yang digunakan (kW): \"))\n",
        "\n",
        "jarak = hitung_jarak_tempuh(baterai, efisiensi, daya_listrik)\n",
        "daya = hitung_daya_listrik(baterai, efisiensi, jarak)\n",
        "\n",
        "print(\"Jarak tempuh mobil listrik adalah\", jarak, \"kilometer\")\n",
        "print(\"Daya listrik yang diperlukan adalah\", daya, \"kW\")"
      ]
    }
  ]
}