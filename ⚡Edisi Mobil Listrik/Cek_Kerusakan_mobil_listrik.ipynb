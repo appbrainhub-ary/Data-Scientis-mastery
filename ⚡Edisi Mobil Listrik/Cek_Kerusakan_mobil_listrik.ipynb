{
  "nbformat": 4,
  "nbformat_minor": 0,
  "metadata": {
    "colab": {
      "provenance": [],
      "authorship_tag": "ABX9TyP8/U4cduE90spy/O9m3dAY",
      "include_colab_link": true
    },
    "kernelspec": {
      "name": "python3",
      "display_name": "Python 3"
    },
    "language_info": {
      "name": "python"
    }
  },
  "cells": [
    {
      "cell_type": "markdown",
      "metadata": {
        "id": "view-in-github",
        "colab_type": "text"
      },
      "source": [
        "<a href=\"https://colab.research.google.com/github/gandalfmuda/Data-Scientis-mastery/blob/main/%E2%9A%A1Edisi%20Mobil%20Listrik/Cek_Kerusakan_mobil_listrik.ipynb\" target=\"_parent\"><img src=\"https://colab.research.google.com/assets/colab-badge.svg\" alt=\"Open In Colab\"/></a>"
      ]
    },
    {
      "cell_type": "code",
      "execution_count": null,
      "metadata": {
        "colab": {
          "base_uri": "https://localhost:8080/"
        },
        "id": "ssaWCQbkWzCG",
        "outputId": "3091ee33-a35b-47c8-d9d4-5eadacf9cd17"
      },
      "outputs": [
        {
          "output_type": "stream",
          "name": "stdout",
          "text": [
            "Selamat datang di Aplikasi Cek Kerusakan Mobil Listrik\n",
            "===============================================\n",
            "Masukkan masalah yang ada pada mobil listrik:\n",
            "1. Baterai mati\n",
            "2. Motor tidak berfungsi\n",
            "3. Tidak ada daya pada kendaraan\n",
            "Pilih nomor masalah: 3\n",
            "===============================================\n",
            "Hasil Cek Kerusakan:\n",
            "Pastikan kendaraan terhubung dengan sumber daya listrik yang memadai. Periksa kabel pengisi daya dan konektor untuk memastikan tidak ada masalah.\n"
          ]
        }
      ],
      "source": [
        "\n",
        "def cek_kerusakan(masalah):\n",
        "    if masalah == \"baterai mati\":\n",
        "        return \"Periksa baterai mobil dan pastikan koneksi terhubung dengan baik. Jika baterai sudah tua, pertimbangkan untuk menggantinya.\"\n",
        "    elif masalah == \"motor tidak berfungsi\":\n",
        "        return \"Cek motor mobil dan pastikan tidak ada kabel yang terputus. Jika motor rusak, perlu dilakukan perbaikan atau penggantian.\"\n",
        "    elif masalah == \"tidak ada daya pada kendaraan\":\n",
        "        return \"Pastikan kendaraan terhubung dengan sumber daya listrik yang memadai. Periksa kabel pengisi daya dan konektor untuk memastikan tidak ada masalah.\"\n",
        "    else:\n",
        "        return \"Masalah tidak dikenali. Silakan periksa kembali masalah yang dimasukkan.\"\n",
        "\n",
        "def main():\n",
        "    print(\"Selamat datang di Aplikasi Cek Kerusakan Mobil Listrik\")\n",
        "    print(\"===============================================\")\n",
        "    print(\"Masukkan masalah yang ada pada mobil listrik:\")\n",
        "    print(\"1. Baterai mati\")\n",
        "    print(\"2. Motor tidak berfungsi\")\n",
        "    print(\"3. Tidak ada daya pada kendaraan\")\n",
        "    masalah = input(\"Pilih nomor masalah: \")\n",
        "\n",
        "    if masalah == \"1\":\n",
        "        masalah = \"baterai mati\"\n",
        "    elif masalah == \"2\":\n",
        "        masalah = \"motor tidak berfungsi\"\n",
        "    elif masalah == \"3\":\n",
        "        masalah = \"tidak ada daya pada kendaraan\"\n",
        "    else:\n",
        "        print(\"Masalah tidak valid. Silakan pilih nomor masalah yang benar.\")\n",
        "        return\n",
        "\n",
        "    hasil_cek = cek_kerusakan(masalah)\n",
        "    print(\"===============================================\")\n",
        "    print(\"Hasil Cek Kerusakan:\")\n",
        "    print(hasil_cek)\n",
        "\n",
        "if __name__ == \"__main__\":\n",
        "    main()"
      ]
    }
  ]
}