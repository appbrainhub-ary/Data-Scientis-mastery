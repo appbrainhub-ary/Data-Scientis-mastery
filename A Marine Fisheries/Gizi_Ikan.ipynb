{
  "nbformat": 4,
  "nbformat_minor": 0,
  "metadata": {
    "colab": {
      "provenance": [],
      "authorship_tag": "ABX9TyOfijq7O+C1yVwQ33iUK0pl",
      "include_colab_link": true
    },
    "kernelspec": {
      "name": "python3",
      "display_name": "Python 3"
    },
    "language_info": {
      "name": "python"
    }
  },
  "cells": [
    {
      "cell_type": "markdown",
      "metadata": {
        "id": "view-in-github",
        "colab_type": "text"
      },
      "source": [
        "<a href=\"https://colab.research.google.com/github/gandalfmuda/Data-Scientis-mastery/blob/main/A%20Marine%20Fisheries/Gizi_Ikan.ipynb\" target=\"_parent\"><img src=\"https://colab.research.google.com/assets/colab-badge.svg\" alt=\"Open In Colab\"/></a>"
      ]
    },
    {
      "cell_type": "code",
      "source": [
        "\n",
        "pip install colorama"
      ],
      "metadata": {
        "colab": {
          "base_uri": "https://localhost:8080/"
        },
        "id": "m_9j3Y028g15",
        "outputId": "b7b6a4cc-a65c-45d1-f5ab-69bb592fb175"
      },
      "execution_count": null,
      "outputs": [
        {
          "output_type": "stream",
          "name": "stdout",
          "text": [
            "Collecting colorama\n",
            "  Downloading colorama-0.4.6-py2.py3-none-any.whl (25 kB)\n",
            "Installing collected packages: colorama\n",
            "Successfully installed colorama-0.4.6\n"
          ]
        }
      ]
    },
    {
      "cell_type": "code",
      "execution_count": null,
      "metadata": {
        "colab": {
          "base_uri": "https://localhost:8080/"
        },
        "id": "RCNrt-Jx8eBK",
        "outputId": "73c9ce7b-2d06-4513-8d7d-28d4641952de"
      },
      "outputs": [
        {
          "output_type": "stream",
          "name": "stdout",
          "text": [
            "Menu Pilihan Ikan Laut:\n",
            "1. Ikan Salmon\n",
            "2. Ikan Tuna\n",
            "3. Ikan Kakap\n",
            "4. Ikan Gurita\n",
            "5. Ikan Kerapu\n",
            "6. Ikan Tongkol\n",
            "7. Ikan Sarden\n",
            "\n",
            "Pilih nomor ikan: 1\n",
            "\n",
            "Gizi dan Vitamin dari Ikan Salmon:\n",
            "Omega-3, Protein, Vitamin D\n",
            "\n",
            "Judul Makanan dari Ikan Salmon:\n",
            "Salmon Teriyaki\n"
          ]
        }
      ],
      "source": [
        "\n",
        "from colorama import init, Fore\n",
        "\n",
        "# Inisialisasi colorama\n",
        "init(autoreset=True)\n",
        "\n",
        "# Daftar 7 ikan laut dan nutrisi/vitaminnya\n",
        "ikan_laut = {\n",
        "    \"Ikan Salmon\": \"Omega-3, Protein, Vitamin D\",\n",
        "    \"Ikan Tuna\": \"Omega-3, Vitamin B12\",\n",
        "    \"Ikan Kakap\": \"Protein, Zat Besi, Vitamin B12\",\n",
        "    \"Ikan Gurita\": \"Protein, Zat Besi, Vitamin D\",\n",
        "    \"Ikan Kerapu\": \"Protein, Omega-3, Selenium\",\n",
        "    \"Ikan Tongkol\": \"Omega-3, Vitamin D\",\n",
        "    \"Ikan Sarden\": \"Omega-3, Vitamin D, Kalsium\"\n",
        "}\n",
        "\n",
        "# Daftar olahan makanan dari 7 ikan laut\n",
        "makanan = {\n",
        "    \"Ikan Salmon\": \"Salmon Teriyaki\",\n",
        "    \"Ikan Tuna\": \"Tuna Steak\",\n",
        "    \"Ikan Kakap\": \"Kakap Asam Manis\",\n",
        "    \"Ikan Gurita\": \"Gurita Goreng Tepung\",\n",
        "    \"Ikan Kerapu\": \"Kerapu Bakar\",\n",
        "    \"Ikan Tongkol\": \"Tongkol Balado\",\n",
        "    \"Ikan Sarden\": \"Sarden Kaleng\"\n",
        "}\n",
        "\n",
        "# Fungsi untuk menampilkan menu pilihan ikan\n",
        "def tampilkan_menu():\n",
        "    print(\"Menu Pilihan Ikan Laut:\")\n",
        "    for i, ikan in enumerate(ikan_laut.keys()):\n",
        "        print(f\"{i+1}. {Fore.CYAN}{ikan}{Fore.RESET}\")\n",
        "\n",
        "# Fungsi untuk menampilkan gizi dan vitamin ikan\n",
        "def tampilkan_gizi_vitamin(ikan):\n",
        "    print(f\"\\nGizi dan Vitamin dari {Fore.CYAN}{ikan}{Fore.RESET}:\")\n",
        "    print(ikan_laut[ikan])\n",
        "\n",
        "# Fungsi untuk menampilkan judul makanan dari olahan ikan\n",
        "def tampilkan_judul_makanan(ikan):\n",
        "    print(f\"\\nJudul Makanan dari {Fore.CYAN}{ikan}{Fore.RESET}:\")\n",
        "    print(makanan[ikan])\n",
        "\n",
        "# Main program\n",
        "if __name__ == \"__main__\":\n",
        "    tampilkan_menu()\n",
        "    pilihan = input(\"\\nPilih nomor ikan: \")\n",
        "    if pilihan.isdigit() and int(pilihan) in range(1, len(ikan_laut) + 1):\n",
        "        ikan_terpilih = list(ikan_laut.keys())[int(pilihan) - 1]\n",
        "        tampilkan_gizi_vitamin(ikan_terpilih)\n",
        "        tampilkan_judul_makanan(ikan_terpilih)\n",
        "    else:\n",
        "        print(\"Pilihan tidak valid.\")"
      ]
    },
    {
      "cell_type": "markdown",
      "source": [
        "***Versi 2 :***"
      ],
      "metadata": {
        "id": "97sGvjzhD1-G"
      }
    },
    {
      "cell_type": "code",
      "source": [
        "\n",
        "ikan_laut = {\n",
        "    'Tuna': {\n",
        "        'gizi': {\n",
        "            'kalori': 184,\n",
        "            'protein': 29.91,\n",
        "            'lemak': 6.28,\n",
        "            'karbohidrat': 0,\n",
        "            'kalsium': 12,\n",
        "            'zat_besi': 1.42,\n",
        "            'vitamin_a': 42,\n",
        "            'vitamin_c': 0,\n",
        "        },\n",
        "        'vitamin': ['A', 'B6', 'B12', 'D'],\n",
        "    },\n",
        "    'Salmon': {\n",
        "        'gizi': {\n",
        "            'kalori': 206,\n",
        "            'protein': 22.42,\n",
        "            'lemak': 13.42,\n",
        "            'karbohidrat': 0,\n",
        "            'kalsium': 12,\n",
        "            'zat_besi': 0.64,\n",
        "            'vitamin_a': 11,\n",
        "            'vitamin_c': 6,\n",
        "        },\n",
        "        'vitamin': ['A', 'B6', 'B12', 'C', 'D'],\n",
        "    },\n",
        "    'Sarden': {\n",
        "        'gizi': {\n",
        "            'kalori': 208,\n",
        "            'protein': 25.53,\n",
        "            'lemak': 11.45,\n",
        "            'karbohidrat': 0,\n",
        "            'kalsium': 38,\n",
        "            'zat_besi': 2.1,\n",
        "            'vitamin_a': 425,\n",
        "            'vitamin_c': 0,\n",
        "        },\n",
        "        'vitamin': ['A', 'B12'],\n",
        "    },\n",
        "    'Kakap': {\n",
        "        'gizi': {\n",
        "            'kalori': 97,\n",
        "            'protein': 20.54,\n",
        "            'lemak': 1.71,\n",
        "            'karbohidrat': 0,\n",
        "            'kalsium': 12,\n",
        "            'zat_besi': 0.25,\n",
        "            'vitamin_a': 36,\n",
        "            'vitamin_c': 0,\n",
        "        },\n",
        "        'vitamin': ['A', 'B6', 'B12'],\n",
        "    },\n",
        "    'Kerapu': {\n",
        "        'gizi': {\n",
        "            'kalori': 97,\n",
        "            'protein': 20.54,\n",
        "            'lemak': 1.71,\n",
        "            'karbohidrat': 0,\n",
        "            'kalsium': 12,\n",
        "            'zat_besi': 0.25,\n",
        "            'vitamin_a': 36,\n",
        "            'vitamin_c': 0,\n",
        "        },\n",
        "        'vitamin': ['A', 'B6', 'B12'],\n",
        "    },\n",
        "    'Gurame': {\n",
        "        'gizi': {\n",
        "            'kalori': 97,\n",
        "            'protein': 20.54,\n",
        "            'lemak': 1.71,\n",
        "            'karbohidrat': 0,\n",
        "            'kalsium': 12,\n",
        "            'zat_besi': 0.25,\n",
        "            'vitamin_a': 36,\n",
        "            'vitamin_c': 0,\n",
        "        },\n",
        "        'vitamin': ['A', 'B6', 'B12'],\n",
        "    },\n",
        "    'Barakuda': {\n",
        "        'gizi': {\n",
        "            'kalori': 105,\n",
        "            'protein': 23.84,\n",
        "            'lemak': 0.93,\n",
        "            'karbohidrat': 0,\n",
        "            'kalsium': 12,\n",
        "            'zat_besi': 0.24,\n",
        "            'vitamin_a': 22,\n",
        "            'vitamin_c': 0,\n",
        "        },\n",
        "        'vitamin': ['A', 'B6', 'B12'],\n",
        "    },\n",
        "}\n",
        "\n",
        "def tampilkan_informasi_ikan(ikan):\n",
        "    print(f'Informasi tentang ikan {ikan}:')\n",
        "    print(f'Nilai Gizi: {ikan_laut[ikan][\"gizi\"]}')\n",
        "    print(f'Vitamin: {ikan_laut[ikan][\"vitamin\"]}')\n",
        "\n",
        "\n",
        "\n",
        "judul_makanan = {\n",
        "    'Tuna': 'Sashimi Tuna',\n",
        "    'Salmon': 'Salmon Teriyaki',\n",
        "    'Sarden': 'Cumi Sarden',\n",
        "    'Kakap': 'Gurame Bakar',\n",
        "    'Kerapu': 'Kerapu Goreng',\n",
        "    'Gurame': 'Gurame Asam Manis',\n",
        "    'Barakuda': 'Barakuda Bumbu Bali',\n",
        "}\n",
        "\n",
        "def tampilkan_judul_makanan(ikan):\n",
        "    print(f'Menu makanan yang bisa di olah dari ikan {ikan}: {judul_makanan[ikan]}')\n",
        "\n",
        "# Contoh penggunaan\n",
        "tampilkan_informasi_ikan('Tuna')\n",
        "tampilkan_judul_makanan('Tuna')"
      ],
      "metadata": {
        "colab": {
          "base_uri": "https://localhost:8080/"
        },
        "id": "kEyeMWQRB-_G",
        "outputId": "bd9681b8-28ea-4337-c2e5-0e7bb12a4351"
      },
      "execution_count": null,
      "outputs": [
        {
          "output_type": "stream",
          "name": "stdout",
          "text": [
            "Informasi tentang ikan Tuna:\n",
            "Nilai Gizi: {'kalori': 184, 'protein': 29.91, 'lemak': 6.28, 'karbohidrat': 0, 'kalsium': 12, 'zat_besi': 1.42, 'vitamin_a': 42, 'vitamin_c': 0}\n",
            "Vitamin: ['A', 'B6', 'B12', 'D']\n",
            "Menu makanan yang bisa di olah dari ikan Tuna: Sashimi Tuna\n"
          ]
        }
      ]
    }
  ]
}