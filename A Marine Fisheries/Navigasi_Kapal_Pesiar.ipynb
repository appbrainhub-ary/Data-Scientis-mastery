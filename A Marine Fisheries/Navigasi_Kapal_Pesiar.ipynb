{
  "nbformat": 4,
  "nbformat_minor": 0,
  "metadata": {
    "colab": {
      "provenance": [],
      "authorship_tag": "ABX9TyMzmOh1QEvMOw+jrnEl1dG1",
      "include_colab_link": true
    },
    "kernelspec": {
      "name": "python3",
      "display_name": "Python 3"
    },
    "language_info": {
      "name": "python"
    }
  },
  "cells": [
    {
      "cell_type": "markdown",
      "metadata": {
        "id": "view-in-github",
        "colab_type": "text"
      },
      "source": [
        "<a href=\"https://colab.research.google.com/github/gandalfmuda/Data-Scientis-mastery/blob/main/A%20Marine%20Fisheries/Navigasi_Kapal_Pesiar.ipynb\" target=\"_parent\"><img src=\"https://colab.research.google.com/assets/colab-badge.svg\" alt=\"Open In Colab\"/></a>"
      ]
    },
    {
      "cell_type": "markdown",
      "source": [
        "Disini saya \"Ari\" akan menjelaskan bagai mana cara menghitung jarak dan kecepatan \"Kapal Pesiar A\" dari titik awal pelabuhan ke pelabuhan tujuan, dengan membuat logika dengan faktor \"tekanan dan arah angin\" serta \"arus laut\".\n",
        "\n",
        "***Diketahui Kapal Pesiar A dari titik kordinat pelabuhan Tanjung Priuk Lat: -6.132055 Lon: 106.871483° menuju titik pelabuhan Tarempa Pulau Anambas  Lat: 3.21667 Lon: 106.21667, dengan contoh hambatan kecepatan kapal pesiar tekanan angin dan arus laut***"
      ],
      "metadata": {
        "id": "zJ9LdpYaZorr"
      }
    },
    {
      "cell_type": "code",
      "source": [
        "pip install geopy matplotlib numpy"
      ],
      "metadata": {
        "colab": {
          "base_uri": "https://localhost:8080/"
        },
        "id": "kNG-8S0fFYZo",
        "outputId": "99fd0e8c-3dbc-461a-8538-ba32e8be4f36"
      },
      "execution_count": 1,
      "outputs": [
        {
          "output_type": "stream",
          "name": "stdout",
          "text": [
            "Requirement already satisfied: geopy in /usr/local/lib/python3.10/dist-packages (2.3.0)\n",
            "Requirement already satisfied: matplotlib in /usr/local/lib/python3.10/dist-packages (3.7.1)\n",
            "Requirement already satisfied: numpy in /usr/local/lib/python3.10/dist-packages (1.23.5)\n",
            "Requirement already satisfied: geographiclib<3,>=1.52 in /usr/local/lib/python3.10/dist-packages (from geopy) (2.0)\n",
            "Requirement already satisfied: contourpy>=1.0.1 in /usr/local/lib/python3.10/dist-packages (from matplotlib) (1.1.1)\n",
            "Requirement already satisfied: cycler>=0.10 in /usr/local/lib/python3.10/dist-packages (from matplotlib) (0.12.1)\n",
            "Requirement already satisfied: fonttools>=4.22.0 in /usr/local/lib/python3.10/dist-packages (from matplotlib) (4.43.1)\n",
            "Requirement already satisfied: kiwisolver>=1.0.1 in /usr/local/lib/python3.10/dist-packages (from matplotlib) (1.4.5)\n",
            "Requirement already satisfied: packaging>=20.0 in /usr/local/lib/python3.10/dist-packages (from matplotlib) (23.2)\n",
            "Requirement already satisfied: pillow>=6.2.0 in /usr/local/lib/python3.10/dist-packages (from matplotlib) (9.4.0)\n",
            "Requirement already satisfied: pyparsing>=2.3.1 in /usr/local/lib/python3.10/dist-packages (from matplotlib) (3.1.1)\n",
            "Requirement already satisfied: python-dateutil>=2.7 in /usr/local/lib/python3.10/dist-packages (from matplotlib) (2.8.2)\n",
            "Requirement already satisfied: six>=1.5 in /usr/local/lib/python3.10/dist-packages (from python-dateutil>=2.7->matplotlib) (1.16.0)\n"
          ]
        }
      ]
    },
    {
      "cell_type": "code",
      "source": [
        "\n",
        "from geopy.distance import geodesic\n",
        "\n",
        "print('==== Hasil Perhitungan ====')\n",
        "print('==== Jarak & Kecepatan ====')\n",
        "print('==== Kapal Pesiar A    ====')\n",
        "\n",
        "class KapalPesiar:\n",
        "    def __init__(self, nama, posisi_awal):\n",
        "        self.nama = nama\n",
        "        self.posisi_awal = posisi_awal\n",
        "\n",
        "    def navigasi(self, tujuan):\n",
        "        jarak = geodesic(self.posisi_awal, tujuan).kilometers\n",
        "        print(f\"Jarak antara {self.nama} dan tujuan adalah {jarak} km\")\n",
        "\n",
        "# Contoh penggunaan\n",
        "kapal = KapalPesiar(\"Kapal Pesiar A\", (-6.132055, 106.871483))\n",
        "kapal.navigasi((3.21667, 106.21667))\n",
        "\n",
        "\n",
        "class KapalPesiar:\n",
        "    def __init__(self, nama, kecepatan_standar):\n",
        "        self.nama = nama\n",
        "        self.kecepatan_standar = kecepatan_standar\n",
        "\n",
        "    def perhitungan_kecepatan(self, kecepatan_angin, arah_angin, arus_laut):\n",
        "        kecepatan_total = self.kecepatan_standar + (kecepatan_angin * 0.5) + (arus_laut * 0.3)\n",
        "\n",
        "        if arah_angin == \"belakang\":\n",
        "            kecepatan_total = max(kecepatan_total, self.kecepatan_standar)\n",
        "        elif arah_angin == \"miring\":\n",
        "            kecepatan_total = min(kecepatan_total, self.kecepatan_standar)\n",
        "\n",
        "        print(f\"Kecepatan total {self.nama} adalah {kecepatan_total} knot\")\n",
        "\n",
        "# Contoh penggunaan\n",
        "kapal = KapalPesiar(\"Kapal Pesiar A\", 20)\n",
        "kapal.perhitungan_kecepatan(10, \"belakang\", 5)"
      ],
      "metadata": {
        "colab": {
          "base_uri": "https://localhost:8080/"
        },
        "id": "bLCD2RVMK6wZ",
        "outputId": "13392b46-968b-4090-d0fb-8d91c4c9106e"
      },
      "execution_count": null,
      "outputs": [
        {
          "output_type": "stream",
          "name": "stdout",
          "text": [
            "==== Hasil Perhitungan ====\n",
            "==== Jarak & Kecepatan ====\n",
            "==== Kapal Pesiar A    ====\n",
            "Jarak antara Kapal Pesiar A dan tujuan adalah 1036.3176605386661 km\n",
            "Kecepatan total Kapal Pesiar A adalah 26.5 knot\n"
          ]
        }
      ]
    },
    {
      "cell_type": "markdown",
      "source": [
        ".\n",
        ".\n",
        ".\n",
        ".\n",
        "\n",
        "Dibawah merupakan penggunaan Grafik nya dari hasil ahir yang di peroleh"
      ],
      "metadata": {
        "id": "XHTevqldcI1z"
      }
    },
    {
      "cell_type": "code",
      "source": [
        "\n",
        "import matplotlib.pyplot as plt\n",
        "import numpy as np\n",
        "\n",
        "# masukan hasil ahir perhitungan\n",
        "jarak = 1036.3176605386661\n",
        "kecepatan = 26.5\n",
        "\n",
        "plt.scatter(jarak, 0, c=kecepatan, cmap='jet')\n",
        "plt.colorbar(label='Kecepatan (knot)')\n",
        "plt.xlabel('Jarak (km)')\n",
        "plt.title('Grafik Kecepatan Kapal Pesiar')\n",
        "\n",
        "plt.show()"
      ],
      "metadata": {
        "id": "AEYfI73FT4Vp",
        "colab": {
          "base_uri": "https://localhost:8080/",
          "height": 238
        },
        "outputId": "51b497be-fe09-4cb1-dcfd-d868d050dae5"
      },
      "execution_count": null,
      "outputs": [
        {
          "output_type": "display_data",
          "data": {
            "text/plain": [
              "<Figure size 640x480 with 2 Axes>"
            ],
            "image/png": "[encoded data removed]"
          },
          "metadata": {}
        }
      ]
    }
  ]
}