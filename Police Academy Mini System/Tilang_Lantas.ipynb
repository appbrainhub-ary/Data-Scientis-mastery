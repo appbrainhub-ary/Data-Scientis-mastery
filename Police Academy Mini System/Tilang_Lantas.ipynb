{
  "nbformat": 4,
  "nbformat_minor": 0,
  "metadata": {
    "colab": {
      "provenance": [],
      "authorship_tag": "ABX9TyPi9Pmbyg2RtqIotmV1o4l1",
      "include_colab_link": true
    },
    "kernelspec": {
      "name": "python3",
      "display_name": "Python 3"
    },
    "language_info": {
      "name": "python"
    }
  },
  "cells": [
    {
      "cell_type": "markdown",
      "metadata": {
        "id": "view-in-github",
        "colab_type": "text"
      },
      "source": [
        "<a href=\"https://colab.research.google.com/github/gandalfmuda/Data-Scientis-mastery/blob/main/Police%20Academy%20Mini%20System/Tilang_Lantas.ipynb\" target=\"_parent\"><img src=\"https://colab.research.google.com/assets/colab-badge.svg\" alt=\"Open In Colab\"/></a>"
      ]
    },
    {
      "cell_type": "markdown",
      "source": [
        "Dibawah merupakan aplikasi sistem tilang dengan mini database data pasal pelanggaran beserta dendanya."
      ],
      "metadata": {
        "id": "omxqvmnBGYPP"
      }
    },
    {
      "cell_type": "code",
      "execution_count": 1,
      "metadata": {
        "colab": {
          "base_uri": "https://localhost:8080/"
        },
        "id": "SUKx32KA8saH",
        "outputId": "0fc642b7-cc55-40a2-b18e-10d42270ec37"
      },
      "outputs": [
        {
          "output_type": "stream",
          "name": "stdout",
          "text": [
            "Police Academy Mini System\n",
            "⚠️⚠️⚠️⚠️🚦👨🏻‍✈️🚦⚠️⚠️⚠️⚠️\n",
            "Tilang Lantas Dengan Pasal Dan Denda\n",
            "------------------------------------\n",
            "Nomor pasal pelanggaran: 287\n",
            "👨🏻‍✈️Pelanggaran: Melanggar batas kecepatan / Standard Speed 2000-3000 RPM\n",
            "⚖️Denda yang harus dibayar: 500000\n"
          ]
        }
      ],
      "source": [
        "\n",
        "# nomor pasal pelanggaran dan denda\n",
        "\n",
        "data_pelanggaran = {\n",
        "\n",
        "\n",
        "    \"287\": {\n",
        "\n",
        "        \"pelanggaran\": \"Melanggar batas kecepatan / Standard Speed 2000-3000 RPM\",\n",
        "\n",
        "        \"denda\": 500000\n",
        "    },\n",
        "\n",
        "\n",
        "    \"289\": {\n",
        "\n",
        "        \"pelanggaran\": \"Tidak Menggunakan Seat belt Sabuk Pengaman\",\n",
        "\n",
        "        \"denda\": 250000\n",
        "    },\n",
        "\n",
        "\n",
        "    \"281\": {\n",
        "\n",
        "        \"pelanggaran\": \"Pengendara di bawah umur\",\n",
        "\n",
        "        \"denda\": 1000000\n",
        "    },\n",
        "\n",
        "\n",
        "    # tambahkan data pasal pelanggaran dan denda lainnya\n",
        "\n",
        "\n",
        "}\n",
        "\n",
        "\n",
        "# fungsi mencari nomor pasal pelanggaran dan denda\n",
        "\n",
        "def cari_pelanggaran_denda(pasal):\n",
        "\n",
        "\n",
        "    if pasal in data_pelanggaran:\n",
        "\n",
        "\n",
        "        return data_pelanggaran[pasal]\n",
        "\n",
        "\n",
        "    else:\n",
        "\n",
        "\n",
        "        return None\n",
        "\n",
        "\n",
        "# jalankan aplikasi\n",
        "\n",
        "print(\"Police Academy Mini System\")\n",
        "\n",
        "print(\"⚠️⚠️⚠️⚠️🚦👨🏻‍✈️🚦⚠️⚠️⚠️⚠️\")\n",
        "\n",
        "print(\"Tilang Lantas Dengan Pasal Dan Denda\")\n",
        "print(\"------------------------------------\")\n",
        "\n",
        "\n",
        "\n",
        "pasal_input = input(\"Nomor pasal pelanggaran: \")\n",
        "hasil_pencarian = cari_pelanggaran_denda(pasal_input)\n",
        "\n",
        "if hasil_pencarian:\n",
        "\n",
        "    print(\"👨🏻‍✈️Pelanggaran:\", hasil_pencarian[\"pelanggaran\"])\n",
        "    print(\"⚖️Denda yang harus dibayar:\", hasil_pencarian[\"denda\"])\n",
        "\n",
        "else:\n",
        "    print(\"Pasal pelanggaran tidak ditemukan.\")"
      ]
    }
  ]
}