{
  "nbformat": 4,
  "nbformat_minor": 0,
  "metadata": {
    "colab": {
      "provenance": [],
      "authorship_tag": "ABX9TyM0nwppleNm//LMN4z60v/s",
      "include_colab_link": true
    },
    "kernelspec": {
      "name": "python3",
      "display_name": "Python 3"
    },
    "language_info": {
      "name": "python"
    }
  },
  "cells": [
    {
      "cell_type": "markdown",
      "metadata": {
        "id": "view-in-github",
        "colab_type": "text"
      },
      "source": [
        "<a href=\"https://colab.research.google.com/github/gandalfmuda/Data-Scientis-mastery/blob/main/Police%20Academy%20Mini%20System/Rambu_Lantas.ipynb\" target=\"_parent\"><img src=\"https://colab.research.google.com/assets/colab-badge.svg\" alt=\"Open In Colab\"/></a>"
      ]
    },
    {
      "cell_type": "markdown",
      "source": [
        "kode di bawah, menggunakan fungsi `nyalakan_lampu` dan `matikan_lampu` untuk mengontrol lampu rambu lalu lintas. Fungsi `atur_lampu_rambu` akan terus berjalan menggunakan perulangan `while True`, di mana kita menyalakan dan mematikan lampu dengan waktu delay yang ditentukan menggunakan fungsi `time.sleep`. Pastikan Anda memiliki perangkat keras yang sesuai dan izin yang diperlukan untuk mengontrol lampu rambu lalu lintas sebelum menjalankan kode ini."
      ],
      "metadata": {
        "id": "A3LUw4xwJa0t"
      }
    },
    {
      "cell_type": "code",
      "execution_count": null,
      "metadata": {
        "colab": {
          "base_uri": "https://localhost:8080/"
        },
        "id": "LdJuhsONH2ja",
        "outputId": "6bbbea04-ef20-478f-c529-1cc2fe4ab9ba"
      },
      "outputs": [
        {
          "output_type": "stream",
          "name": "stdout",
          "text": [
            "🚦Police Academy Mini System🚦\n",
            "🚦Aplikasi Rambu Lalulintas🚦\n",
            "nyalakan lampu merah ⛔\n",
            "matikan lampu merah\n",
            "nyalakan lampu kuning ⚠️\n",
            "matikan lampu kuning\n",
            "nyalakan lampu hijau ✔️\n",
            "matikan lampu hijau\n",
            "nyalakan lampu kuning ⚠️\n",
            "matikan lampu kuning\n",
            "nyalakan lampu merah ⛔\n",
            "matikan lampu merah\n",
            "nyalakan lampu kuning ⚠️\n",
            "matikan lampu kuning\n",
            "nyalakan lampu hijau ✔️\n",
            "matikan lampu hijau\n",
            "nyalakan lampu kuning ⚠️\n",
            "matikan lampu kuning\n",
            "nyalakan lampu merah ⛔\n",
            "matikan lampu merah\n",
            "nyalakan lampu kuning ⚠️\n",
            "matikan lampu kuning\n",
            "nyalakan lampu hijau ✔️\n",
            "matikan lampu hijau\n",
            "nyalakan lampu kuning ⚠️\n",
            "matikan lampu kuning\n",
            "nyalakan lampu merah ⛔\n",
            "matikan lampu merah\n",
            "nyalakan lampu kuning ⚠️\n",
            "matikan lampu kuning\n",
            "nyalakan lampu hijau ✔️\n",
            "matikan lampu hijau\n",
            "nyalakan lampu kuning ⚠️\n",
            "matikan lampu kuning\n",
            "nyalakan lampu merah ⛔\n",
            "matikan lampu merah\n",
            "nyalakan lampu kuning ⚠️\n",
            "matikan lampu kuning\n",
            "nyalakan lampu hijau ✔️\n",
            "matikan lampu hijau\n",
            "nyalakan lampu kuning ⚠️\n",
            "matikan lampu kuning\n",
            "nyalakan lampu merah ⛔\n",
            "matikan lampu merah\n",
            "nyalakan lampu kuning ⚠️\n",
            "matikan lampu kuning\n",
            "nyalakan lampu hijau ✔️\n",
            "matikan lampu hijau\n",
            "nyalakan lampu kuning ⚠️\n",
            "matikan lampu kuning\n",
            "nyalakan lampu merah ⛔\n",
            "matikan lampu merah\n",
            "nyalakan lampu kuning ⚠️\n",
            "matikan lampu kuning\n",
            "nyalakan lampu hijau ✔️\n",
            "matikan lampu hijau\n",
            "nyalakan lampu kuning ⚠️\n",
            "matikan lampu kuning\n",
            "nyalakan lampu merah ⛔\n",
            "matikan lampu merah\n",
            "nyalakan lampu kuning ⚠️\n",
            "matikan lampu kuning\n",
            "nyalakan lampu hijau ✔️\n",
            "matikan lampu hijau\n",
            "nyalakan lampu kuning ⚠️\n",
            "matikan lampu kuning\n",
            "nyalakan lampu merah ⛔\n",
            "matikan lampu merah\n",
            "nyalakan lampu kuning ⚠️\n",
            "matikan lampu kuning\n",
            "nyalakan lampu hijau ✔️\n",
            "matikan lampu hijau\n",
            "nyalakan lampu kuning ⚠️\n",
            "matikan lampu kuning\n",
            "nyalakan lampu merah ⛔\n",
            "matikan lampu merah\n",
            "nyalakan lampu kuning ⚠️\n",
            "matikan lampu kuning\n",
            "nyalakan lampu hijau ✔️\n",
            "matikan lampu hijau\n",
            "nyalakan lampu kuning ⚠️\n",
            "matikan lampu kuning\n",
            "nyalakan lampu merah ⛔\n"
          ]
        }
      ],
      "source": [
        "\n",
        "import time\n",
        "\n",
        "print(\"🚦Police Academy Mini System🚦\")\n",
        "print(\"🚦Aplikasi Rambu Lalulintas🚦\")\n",
        "\n",
        "def nyalakan_lampu(lampu):\n",
        "    print(\"nyalakan lampu\", lampu)\n",
        "    # menyalakan lampu\n",
        "\n",
        "def matikan_lampu(lampu):\n",
        "    print(\"matikan lampu\", lampu)\n",
        "    # mematikan lampu\n",
        "\n",
        "def atur_lampu_rambu():\n",
        "\n",
        "   while True:\n",
        "        nyalakan_lampu(\"merah ⛔\")\n",
        "        time.sleep(5)  # Waktu delay 7 detik\n",
        "        matikan_lampu(\"merah\")\n",
        "\n",
        "        nyalakan_lampu(\"kuning ⚠️\")\n",
        "        time.sleep(2)  # Waktu delay 2 detik\n",
        "        matikan_lampu(\"kuning\")\n",
        "\n",
        "        nyalakan_lampu(\"hijau ✔️\")\n",
        "        time.sleep(5)  # Waktu delay 7 detik\n",
        "        matikan_lampu(\"hijau\")\n",
        "\n",
        "        nyalakan_lampu(\"kuning ⚠️\")\n",
        "        time.sleep(2)  # Waktu delay 2 detik\n",
        "        matikan_lampu(\"kuning\")\n",
        "\n",
        "atur_lampu_rambu()"
      ]
    }
  ]
}