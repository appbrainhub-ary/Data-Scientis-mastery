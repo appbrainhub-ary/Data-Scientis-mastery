{
  "nbformat": 4,
  "nbformat_minor": 0,
  "metadata": {
    "colab": {
      "provenance": []
    },
    "kernelspec": {
      "name": "python3",
      "display_name": "Python 3"
    },
    "language_info": {
      "name": "python"
    }
  },
  "cells": [
    {
      "cell_type": "markdown",
      "source": [
        "Disini Saya Akan Membuat Micro Data Note (Catatan Mikro) 👇"
      ],
      "metadata": {
        "id": "KK37bM2I6ihA"
      }
    },
    {
      "cell_type": "code",
      "execution_count": null,
      "metadata": {
        "colab": {
          "base_uri": "https://localhost:8080/"
        },
        "id": "lZ-GDvZN5qoK",
        "outputId": "0fbb629a-50b5-41c4-a4ca-292729ff6415"
      },
      "outputs": [
        {
          "output_type": "stream",
          "name": "stdout",
          "text": [
            "========================\n",
            "Micro Text Note, By Ary\n",
            "========================\n",
            "- Ketik 1 untuk tambah catatan.\n",
            "- Ketik 2 untuk mengubah catatan.\n",
            "- Ketik 3 untuk hapus catatan.\n",
            "Pilih Menu >> 1\n",
            "Ketik catatannya: sgs\n",
            "- 1: sgs\n",
            "\n",
            "- Ketik 1 untuk tambah catatan.\n",
            "- Ketik 2 untuk mengubah catatan.\n",
            "- Ketik 3 untuk hapus catatan.\n",
            "Pilih Menu >> 3\n",
            "Apa kmu setuju hapus catatan ini say..? (pilih nomer catatan nya) 1\n",
            "\n",
            "- Ketik 1 untuk tambah catatan.\n",
            "- Ketik 2 untuk mengubah catatan.\n",
            "- Ketik 3 untuk hapus catatan.\n"
          ]
        }
      ],
      "source": [
        "\n",
        "\n",
        "notes = []\n",
        "print(\"========================\")\n",
        "print(\"Micro Text Note, By Ary\")\n",
        "print(\"========================\")\n",
        "\n",
        "options_text = \"- Ketik 1 untuk tambah catatan.\\n\" \\\n",
        "               \"- Ketik 2 untuk mengubah catatan.\\n\" \\\n",
        "               \"- Ketik 3 untuk hapus catatan.\"\n",
        "\n",
        "\n",
        "def add_note():\n",
        "    note = input(\"Ketik catatannya: \")\n",
        "    notes.append(note)\n",
        "\n",
        "\n",
        "def change_note(index):\n",
        "    notes[index] = input(\"Ketik catatan Baru: \")\n",
        "\n",
        "\n",
        "def remove_note(index):\n",
        "    notes.remove(notes[index])\n",
        "\n",
        "\n",
        "def display_notes():\n",
        "    for i, note in enumerate(notes):\n",
        "        print(f'- {i + 1}: {note}')\n",
        "\n",
        "\n",
        "while True:\n",
        "    print(options_text)\n",
        "    selection = int(input(\"Pilih Menu >> \"))\n",
        "\n",
        "    if selection == 1:\n",
        "        add_note()\n",
        "    elif selection == 2:\n",
        "        display_notes()\n",
        "        note_selection = int(input(\"Apa kmu setuju edit catatan ini say..? (pilih nomer catatan nya) \")) - 1\n",
        "        change_note(note_selection)\n",
        "    elif selection == 3:\n",
        "        note_selection = int(input(\"Apa kmu setuju hapus catatan ini say..? (pilih nomer catatan nya) \")) - 1\n",
        "        remove_note(note_selection)\n",
        "\n",
        "    display_notes()\n",
        "    print()"
      ]
    }
  ]
}