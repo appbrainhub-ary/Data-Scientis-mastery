{
  "nbformat": 4,
  "nbformat_minor": 0,
  "metadata": {
    "colab": {
      "provenance": [],
      "authorship_tag": "ABX9TyMpsShAnKSiS08zMzh4regH",
      "include_colab_link": true
    },
    "kernelspec": {
      "name": "python3",
      "display_name": "Python 3"
    },
    "language_info": {
      "name": "python"
    }
  },
  "cells": [
    {
      "cell_type": "markdown",
      "metadata": {
        "id": "view-in-github",
        "colab_type": "text"
      },
      "source": [
        "<a href=\"https://colab.research.google.com/github/gandalfmuda/Data-Scientis-mastery/blob/main/AI%20Observasi%20Satelit%20Lokasi%20%F0%9F%9B%B0%EF%B8%8F%F0%9F%8C%8D/Observasi_Satelit_Lokasi_By_Ari.ipynb\" target=\"_parent\"><img src=\"https://colab.research.google.com/assets/colab-badge.svg\" alt=\"Open In Colab\"/></a>"
      ]
    },
    {
      "cell_type": "markdown",
      "source": [
        "#Observasi Satelit & Maps Generator 🛰️📡🌍\n",
        "\"#RIIM-PPBR-BRIN #BUMN\"\n",
        "\n",
        "Disini saya Ari Yunan akan meng observasi satelit dengan metode data sains Python menggunakan library Folium.\n",
        "\n",
        "Yang Perlu kalian install terlebih dahulu adalah **pip install geopy** dan **pip install folium**\n",
        "\n",
        "Dan Cari lah kordinat Latitude dan Longitude peta yang kalian ingin observasi, disini saya sudah sediakan tools AI untuk mecari kordinat, contoh saya menggunakan lokasi Kota Jakarta dengan Latitude: -6.175247 dan Longitude: 106.8270488\n",
        "\n",
        "Hasilnya berupa peta/maps yang akan di generate ke dalam file html (menyatu dengan folder python ini)\n",
        "\n",
        "Jika kalian buka, akan menampilkan peta layaknya google maps, yang di lokasikan atau di titik kan pada kordinat yang sudah di tentukan tadi, dengan fitur zoom di maps nya."
      ],
      "metadata": {
        "id": "ZrOqJPt9opZz"
      }
    },
    {
      "cell_type": "code",
      "source": [
        "pip install geopy"
      ],
      "metadata": {
        "colab": {
          "base_uri": "https://localhost:8080/"
        },
        "id": "kexPrt6KR-hL",
        "outputId": "3357bb89-2603-465f-af97-0214cfdaea52"
      },
      "execution_count": null,
      "outputs": [
        {
          "output_type": "stream",
          "name": "stdout",
          "text": [
            "Requirement already satisfied: geopy in /usr/local/lib/python3.10/dist-packages (2.3.0)\n",
            "Requirement already satisfied: geographiclib<3,>=1.52 in /usr/local/lib/python3.10/dist-packages (from geopy) (2.0)\n"
          ]
        }
      ]
    },
    {
      "cell_type": "code",
      "execution_count": null,
      "metadata": {
        "colab": {
          "base_uri": "https://localhost:8080/"
        },
        "id": "ceJ8rJSHnj2w",
        "outputId": "f68b457f-6266-4454-a81c-33982519297e"
      },
      "outputs": [
        {
          "output_type": "stream",
          "name": "stdout",
          "text": [
            "Requirement already satisfied: folium in /usr/local/lib/python3.10/dist-packages (0.14.0)\n",
            "Requirement already satisfied: branca>=0.6.0 in /usr/local/lib/python3.10/dist-packages (from folium) (0.6.0)\n",
            "Requirement already satisfied: jinja2>=2.9 in /usr/local/lib/python3.10/dist-packages (from folium) (3.1.2)\n",
            "Requirement already satisfied: numpy in /usr/local/lib/python3.10/dist-packages (from folium) (1.23.5)\n",
            "Requirement already satisfied: requests in /usr/local/lib/python3.10/dist-packages (from folium) (2.31.0)\n",
            "Requirement already satisfied: MarkupSafe>=2.0 in /usr/local/lib/python3.10/dist-packages (from jinja2>=2.9->folium) (2.1.3)\n",
            "Requirement already satisfied: charset-normalizer<4,>=2 in /usr/local/lib/python3.10/dist-packages (from requests->folium) (3.3.0)\n",
            "Requirement already satisfied: idna<4,>=2.5 in /usr/local/lib/python3.10/dist-packages (from requests->folium) (3.4)\n",
            "Requirement already satisfied: urllib3<3,>=1.21.1 in /usr/local/lib/python3.10/dist-packages (from requests->folium) (2.0.7)\n",
            "Requirement already satisfied: certifi>=2017.4.17 in /usr/local/lib/python3.10/dist-packages (from requests->folium) (2023.7.22)\n"
          ]
        }
      ],
      "source": [
        "pip install folium"
      ]
    },
    {
      "cell_type": "code",
      "source": [
        "\n",
        "from geopy.geocoders import Nominatim\n",
        "\n",
        "def get_coordinates(location):\n",
        "    geolocator = Nominatim(user_agent=\"location_generator\")\n",
        "    try:\n",
        "        # Menggunakan geocoder Nominatim untuk mendapatkan koordinat berdasarkan lokasi\n",
        "        location_obj = geolocator.geocode(location)\n",
        "        latitude = location_obj.latitude\n",
        "        longitude = location_obj.longitude\n",
        "        return latitude, longitude\n",
        "    except Exception as e:\n",
        "        print(\"Terjadi kesalahan:\", str(e))\n",
        "        return None, None\n",
        "\n",
        "# Menggunakan input dari pengguna untuk mendapatkan lokasi wilayah\n",
        "wilayah = input(\"Masukkan nama lokasi wilayah: \")\n",
        "\n",
        "# Mendapatkan koordinat latitude dan longitude\n",
        "latitude, longitude = get_coordinates(wilayah)\n",
        "\n",
        "if latitude and longitude:\n",
        "    print(\"Koordinat untuk\", wilayah, \"adalah:\")\n",
        "    print(\"Latitude:\", latitude)\n",
        "    print(\"Longitude:\", longitude)\n",
        "else:\n",
        "    print(\"Tidak dapat menemukan koordinat untuk\", wilayah)"
      ],
      "metadata": {
        "colab": {
          "base_uri": "https://localhost:8080/"
        },
        "id": "U-z3ofR4V51L",
        "outputId": "06a46e4a-a9a9-4968-d4b2-b342a066107d"
      },
      "execution_count": null,
      "outputs": [
        {
          "output_type": "stream",
          "name": "stdout",
          "text": [
            "Masukkan nama lokasi wilayah: Jakarta\n",
            "Koordinat untuk Jakarta adalah:\n",
            "Latitude: -6.175247\n",
            "Longitude: 106.8270488\n"
          ]
        }
      ]
    },
    {
      "cell_type": "code",
      "source": [
        "\n",
        "import folium\n",
        "\n",
        "\n",
        "# Membuat peta\n",
        "\n",
        "\n",
        "m = folium.Map(location=[0, 0], zoom_start=2)\n",
        "\n",
        "\n",
        "\n",
        "\n",
        "# tambahkan latitude dan longitude lokasi observasi satelit bumi\n",
        "\n",
        "\n",
        "observasi = folium.Marker(location=[-6.175247, 106.8270488], popup='Lokasi Observasi Satelit Bumi')\n",
        "\n",
        "\n",
        "observasi.add_to(m)\n",
        "\n",
        "\n",
        "\n",
        "\n",
        "\n",
        "# Menampilkan peta\n",
        "\n",
        "\n",
        "m.save('peta_observasi.html')"
      ],
      "metadata": {
        "id": "y2saWKf3ntCX"
      },
      "execution_count": null,
      "outputs": []
    }
  ]
}