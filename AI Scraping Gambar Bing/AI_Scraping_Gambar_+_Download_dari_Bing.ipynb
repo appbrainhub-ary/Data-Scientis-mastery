{
  "nbformat": 4,
  "nbformat_minor": 0,
  "metadata": {
    "colab": {
      "provenance": [],
      "collapsed_sections": [
        "loYntxKrRC6J",
        "e51SJlILRHTD",
        "l8_wPVo_RAIz",
        "Szuldz0WQ9rr",
        "yd1_IQD3Aluk"
      ],
      "include_colab_link": true
    },
    "kernelspec": {
      "name": "python3",
      "display_name": "Python 3"
    },
    "language_info": {
      "name": "python"
    }
  },
  "cells": [
    {
      "cell_type": "markdown",
      "metadata": {
        "id": "view-in-github",
        "colab_type": "text"
      },
      "source": [
        "<a href=\"https://colab.research.google.com/github/gandalfmuda/Data-Scientis-mastery/blob/main/AI%20Scraping%20Gambar%20Bing/AI_Scraping_Gambar_%2B_Download_dari_Bing.ipynb\" target=\"_parent\"><img src=\"https://colab.research.google.com/assets/colab-badge.svg\" alt=\"Open In Colab\"/></a>"
      ]
    },
    {
      "cell_type": "markdown",
      "source": [
        "## Disini saya Ari akan membuat aplikasi **A.I.** untuk **Scraping Gambar** dari **Microsoft Bing** dan membuat fitur akses download gambar ke Drive Anda."
      ],
      "metadata": {
        "id": "eYoV04jzEVpq"
      }
    },
    {
      "cell_type": "markdown",
      "source": [
        "##Install Kebutuhan Library"
      ],
      "metadata": {
        "id": "loYntxKrRC6J"
      }
    },
    {
      "cell_type": "code",
      "execution_count": 22,
      "metadata": {
        "id": "fZCLAvLXC3_j",
        "colab": {
          "base_uri": "https://localhost:8080/"
        },
        "outputId": "e57abd29-8f88-4bee-b630-31123318bcd8"
      },
      "outputs": [
        {
          "output_type": "stream",
          "name": "stdout",
          "text": [
            "Requirement already satisfied: bing-image-downloader in /usr/local/lib/python3.10/dist-packages (1.1.2)\n"
          ]
        }
      ],
      "source": [
        "!pip install bing-image-downloader"
      ]
    },
    {
      "cell_type": "code",
      "source": [
        "from bing_image_downloader import downloader"
      ],
      "metadata": {
        "id": "ZEZT_JiCHvBm"
      },
      "execution_count": 23,
      "outputs": []
    },
    {
      "cell_type": "markdown",
      "source": [
        "##Membuat Akses Ke GoogleDrive"
      ],
      "metadata": {
        "id": "e51SJlILRHTD"
      }
    },
    {
      "cell_type": "code",
      "source": [
        "# Run this cell if u can't mount ur drive automatically\n",
        "\n",
        "from google.colab import drive\n",
        "drive.mount('/content/drive')"
      ],
      "metadata": {
        "id": "LtqoTWQ9GDIa",
        "colab": {
          "base_uri": "https://localhost:8080/"
        },
        "outputId": "85f705af-a54e-4978-d9a3-10386b1d3ccb"
      },
      "execution_count": 24,
      "outputs": [
        {
          "output_type": "stream",
          "name": "stdout",
          "text": [
            "Drive already mounted at /content/drive; to attempt to forcibly remount, call drive.mount(\"/content/drive\", force_remount=True).\n"
          ]
        }
      ]
    },
    {
      "cell_type": "markdown",
      "source": [
        "##Membuat Folder di GoogleDrive"
      ],
      "metadata": {
        "id": "l8_wPVo_RAIz"
      }
    },
    {
      "cell_type": "code",
      "source": [
        "#tentukan penyimpanan folder\n",
        "\n",
        "dir = '/content/drive/MyDrive/Scraping Gambar/image dataset'"
      ],
      "metadata": {
        "id": "xdOjkeAEH1cW"
      },
      "execution_count": 31,
      "outputs": []
    },
    {
      "cell_type": "markdown",
      "source": [
        "##Prompt Cari Gambar Dan Download"
      ],
      "metadata": {
        "id": "Szuldz0WQ9rr"
      }
    },
    {
      "cell_type": "code",
      "source": [
        "downloader.download('ilmuan indonesia', limit = 10, output_dir = dir, adult_filter_off = False)"
      ],
      "metadata": {
        "id": "xTKeb6AHGRc2"
      },
      "execution_count": null,
      "outputs": []
    },
    {
      "cell_type": "code",
      "source": [
        "downloader.download('wisata indonesia', limit = 10, output_dir = dir, adult_filter_off = False)"
      ],
      "metadata": {
        "id": "FolHjHbdJazV"
      },
      "execution_count": null,
      "outputs": []
    },
    {
      "cell_type": "code",
      "source": [
        "downloader.download('batik indonesia', limit = 10, output_dir = dir, adult_filter_off = False)"
      ],
      "metadata": {
        "id": "8jzpU_2ZJbRk"
      },
      "execution_count": null,
      "outputs": []
    },
    {
      "cell_type": "markdown",
      "source": [
        "##Prompt (NEGATIF) Cari Gambar Dan Download, Dengan Mengubah False menjadi True"
      ],
      "metadata": {
        "id": "yd1_IQD3Aluk"
      }
    },
    {
      "cell_type": "code",
      "source": [
        "# Ubah Nama GambarNegatif menjadi yang anda inginkan\n",
        "\n",
        "downloader.download('GambarNegatif', limit = 10, output_dir = dir, adult_filter_off = True)"
      ],
      "metadata": {
        "id": "4Ai9k6_6BKTx"
      },
      "execution_count": null,
      "outputs": []
    }
  ]
}