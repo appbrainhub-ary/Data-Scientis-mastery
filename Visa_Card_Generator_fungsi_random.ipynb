{
  "nbformat": 4,
  "nbformat_minor": 0,
  "metadata": {
    "colab": {
      "provenance": [],
      "authorship_tag": "ABX9TyP9Ldtfjrjq17nIiDFttCXV",
      "include_colab_link": true
    },
    "kernelspec": {
      "name": "python3",
      "display_name": "Python 3"
    },
    "language_info": {
      "name": "python"
    }
  },
  "cells": [
    {
      "cell_type": "markdown",
      "metadata": {
        "id": "view-in-github",
        "colab_type": "text"
      },
      "source": [
        "<a href=\"https://colab.research.google.com/github/gandalfmuda/Data-Scientis-mastery/blob/main/Visa_Card_Generator_fungsi_random.ipynb\" target=\"_parent\"><img src=\"https://colab.research.google.com/assets/colab-badge.svg\" alt=\"Open In Colab\"/></a>"
      ]
    },
    {
      "cell_type": "markdown",
      "source": [
        "Kode di bawah akan menghasilkan nomor kartu Visa yang valid beserta nama pemilik kartu secara acak. Nomor kartu Visa dihasilkan dengan format 16 digit, dimulai dengan angka 4. Sedangkan nama pemilik kartu dihasilkan dengan menggabungkan nama depan dan nama belakang secara acak dari daftar yang telah ditentukan.\n",
        "\n",
        "Harap dicatat bahwa kode di atas hanya menghasilkan nomor kartu Visa yang valid secara format. Namun, ini bukanlah nomor kartu Visa yang sesungguhnya dan tidak dapat digunakan untuk tujuan transaksi atau otentikasi. Penggunaan nomor kartu kredit palsu atau yang tidak sah dapat melanggar hukum.\n",
        "\n",
        "Pastikan untuk menggunakan kode ini hanya untuk tujuan pembelajaran atau pengembangan perangkat lunak, dan tidak untuk tujuan yang tidak sah atau ilegal."
      ],
      "metadata": {
        "id": "IUagMdPBpaFP"
      }
    },
    {
      "cell_type": "code",
      "execution_count": null,
      "metadata": {
        "colab": {
          "base_uri": "https://localhost:8080/"
        },
        "id": "415Zyh1Rl5SF",
        "outputId": "3ca9c44f-172d-4f62-efaf-8700c38f400b"
      },
      "outputs": [
        {
          "output_type": "stream",
          "name": "stdout",
          "text": [
            "  ___________________________________\n",
            " -----------------------------------\n",
            "\n",
            "Visa Card Number: 4554210243766649\n",
            "Cardholder Name: Michael Johnson\n",
            "\n",
            "----------------------------------\n",
            "_________________________________\n"
          ]
        }
      ],
      "source": [
        "\n",
        "import random\n",
        "\n",
        "def generate_visa_card():\n",
        "    # angka kartu Visa 16 digit, dimulai dengan angka 4\n",
        "    visa_card_number = \"4\"\n",
        "\n",
        "    # generate 15 digit angka acak\n",
        "    for _ in range(15):\n",
        "        digit = random.randint(0, 9)\n",
        "        visa_card_number += str(digit)\n",
        "\n",
        "    return visa_card_number\n",
        "\n",
        "def generate_name():\n",
        "    # generate nama pemilik kartu secara acak\n",
        "    first_names = [\"Steve\", \"Emma\", \"Michael\", \"Sophia\", \"Daniel\", \"Brian\"]\n",
        "    last_names = [\"Smith\", \"Johnson\", \"Williams\", \"Brown\", \"Jones\", \"Dores\"]\n",
        "\n",
        "    first_name = random.choice(first_names)\n",
        "    last_name = random.choice(last_names)\n",
        "\n",
        "    return f\"{first_name} {last_name}\"\n",
        "\n",
        "# generate kartu visa dan nama pemilik\n",
        "visa_card = generate_visa_card()\n",
        "name = generate_name()\n",
        "\n",
        "print(\"  ___________________________________\")\n",
        "print(\" -----------------------------------\")\n",
        "print(\"\")\n",
        "print(\"Visa Card Number:\", visa_card)\n",
        "print(\"Cardholder Name:\", name)\n",
        "print(\"\")\n",
        "print(\"----------------------------------\")\n",
        "print(\"_________________________________\")"
      ]
    }
  ]
}