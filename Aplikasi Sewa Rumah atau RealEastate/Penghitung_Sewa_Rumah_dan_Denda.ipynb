{
  "nbformat": 4,
  "nbformat_minor": 0,
  "metadata": {
    "colab": {
      "provenance": [],
      "authorship_tag": "ABX9TyOsyOLb2gl1TW7UjO3x+Igj",
      "include_colab_link": true
    },
    "kernelspec": {
      "name": "python3",
      "display_name": "Python 3"
    },
    "language_info": {
      "name": "python"
    }
  },
  "cells": [
    {
      "cell_type": "markdown",
      "metadata": {
        "id": "view-in-github",
        "colab_type": "text"
      },
      "source": [
        "<a href=\"https://colab.research.google.com/github/gandalfmuda/Data-Scientis-mastery/blob/main/Aplikasi%20Sewa%20Rumah%20atau%20RealEastate/Penghitung_Sewa_Rumah_dan_Denda.ipynb\" target=\"_parent\"><img src=\"https://colab.research.google.com/assets/colab-badge.svg\" alt=\"Open In Colab\"/></a>"
      ]
    },
    {
      "cell_type": "markdown",
      "source": [
        "Penghitung Sewa Rumah Dalam Setahun, dengan penambahan denda 50 ribu jika telat sebulan"
      ],
      "metadata": {
        "id": "m9YX1LPKU-lD"
      }
    },
    {
      "cell_type": "code",
      "source": [
        "\n",
        "class Rumah:\n",
        "    def __init__(self, harga_sewa):\n",
        "        self.harga_sewa = harga_sewa\n",
        "        self.denda = 50000\n",
        "\n",
        "    def hitung_biaya_sewa(self, bulan):\n",
        "        biaya_sewa = self.harga_sewa * bulan\n",
        "        return biaya_sewa\n",
        "\n",
        "    def hitung_denda(self, bulan_terlambat):\n",
        "        total_denda = self.denda * bulan_terlambat\n",
        "        return total_denda\n",
        "\n",
        "\n",
        "rumah1 = Rumah(300000)\n",
        "bulan_terlambat = 1\n",
        "\n",
        "biaya_sewa = rumah1.hitung_biaya_sewa(12)\n",
        "denda = rumah1.hitung_denda(bulan_terlambat)\n",
        "\n",
        "total_biaya = biaya_sewa + denda\n",
        "\n",
        "print(f\"Total biaya sewa rumah 1 dalam setahun: {total_biaya}\")"
      ],
      "metadata": {
        "id": "Hgg0pr5WSX7E",
        "outputId": "5ce12d4e-178b-4d4f-e854-2e2c2b3ca0b8",
        "colab": {
          "base_uri": "https://localhost:8080/"
        }
      },
      "execution_count": null,
      "outputs": [
        {
          "output_type": "stream",
          "name": "stdout",
          "text": [
            "Total biaya sewa rumah 1 dalam setahun: 3650000\n"
          ]
        }
      ]
    }
  ]
}