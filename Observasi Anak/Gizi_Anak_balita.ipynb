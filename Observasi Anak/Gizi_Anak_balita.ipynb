{
  "nbformat": 4,
  "nbformat_minor": 0,
  "metadata": {
    "colab": {
      "provenance": [],
      "authorship_tag": "ABX9TyNYDZdZiJwJKntBBYW8dyO2",
      "include_colab_link": true
    },
    "kernelspec": {
      "name": "python3",
      "display_name": "Python 3"
    },
    "language_info": {
      "name": "python"
    }
  },
  "cells": [
    {
      "cell_type": "markdown",
      "metadata": {
        "id": "view-in-github",
        "colab_type": "text"
      },
      "source": [
        "<a href=\"https://colab.research.google.com/github/gandalfmuda/Data-Scientis-mastery/blob/main/Observasi%20Anak/Gizi_Anak_balita.ipynb\" target=\"_parent\"><img src=\"https://colab.research.google.com/assets/colab-badge.svg\" alt=\"Open In Colab\"/></a>"
      ]
    },
    {
      "cell_type": "markdown",
      "source": [
        "Aplikasi Pendeteksi Gizi Anak Balita Melalui Berat & Tinggi Dengan Rumus Perhitungan WHO (World Heart Organitation)"
      ],
      "metadata": {
        "id": "3as-X2XEsCHv"
      }
    },
    {
      "cell_type": "code",
      "execution_count": null,
      "metadata": {
        "id": "Mn4ABE8mpcr1",
        "colab": {
          "base_uri": "https://localhost:8080/"
        },
        "outputId": "60a43558-a757-4df6-c58b-fdf2ce0a0290"
      },
      "outputs": [
        {
          "output_type": "stream",
          "name": "stdout",
          "text": [
            "Masukkan berat badan (kg): 12\n",
            "Masukkan tinggi badan (cm): 72\n",
            "Status gizi anak balita: Gizi baik\n"
          ]
        }
      ],
      "source": [
        "\n",
        "def cek_gizi_balita():\n",
        "    berat_badan = float(input(\"Masukkan berat badan (kg): \"))\n",
        "    tinggi_badan = float(input(\"Masukkan tinggi badan (cm): \"))\n",
        "\n",
        "    # Menghitung indeks berat badan untuk umur (BB/U)\n",
        "    # Menggunakan rumus WHO (World Health Organization)\n",
        "    bb_u = berat_badan / ((tinggi_badan/100) * (tinggi_badan/100))\n",
        "\n",
        "    # Menghitung indeks tinggi badan untuk umur (TB/U)\n",
        "    # Menggunakan rumus WHO (World Health Organization)\n",
        "    tb_u = tinggi_badan / berat_badan\n",
        "\n",
        "    # Menentukan status gizi berdasarkan hasil perhitungan\n",
        "    if bb_u < 18.5:\n",
        "        status_gizi = \"Gizi kurang\"\n",
        "    elif bb_u >= 18.5 and bb_u <= 24.9:\n",
        "        status_gizi = \"Gizi baik\"\n",
        "    else:\n",
        "        status_gizi = \"Gizi lebih\"\n",
        "\n",
        "    print(\"Status gizi anak balita:\", status_gizi)\n",
        "\n",
        "# Memanggil fungsi cek_gizi_balita\n",
        "cek_gizi_balita()"
      ]
    }
  ]
}