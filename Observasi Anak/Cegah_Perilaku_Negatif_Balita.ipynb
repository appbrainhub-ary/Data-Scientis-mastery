{
  "nbformat": 4,
  "nbformat_minor": 0,
  "metadata": {
    "colab": {
      "provenance": [],
      "authorship_tag": "ABX9TyO9VaP3PRYgMssEnPNXvmSA",
      "include_colab_link": true
    },
    "kernelspec": {
      "name": "python3",
      "display_name": "Python 3"
    },
    "language_info": {
      "name": "python"
    }
  },
  "cells": [
    {
      "cell_type": "markdown",
      "metadata": {
        "id": "view-in-github",
        "colab_type": "text"
      },
      "source": [
        "<a href=\"https://colab.research.google.com/github/gandalfmuda/Data-Scientis-mastery/blob/main/Observasi%20Anak/Cegah_Perilaku_Negatif_Balita.ipynb\" target=\"_parent\"><img src=\"https://colab.research.google.com/assets/colab-badge.svg\" alt=\"Open In Colab\"/></a>"
      ]
    },
    {
      "cell_type": "markdown",
      "source": [
        "Dibawah adalah aplikasi Pencegahan Perilaku Negatif (tidak baik) bagi anak Balita dengan Fungsi Algoritma Cara Penanganan nya secara rinci, aplikasi ini didasari dengan peneliti (observasi) pada perilaku anak usia balita."
      ],
      "metadata": {
        "id": "5_0Gd1-Ox0Ob"
      }
    },
    {
      "cell_type": "code",
      "source": [
        "\n",
        "\n",
        "# Import library yang dibutuhkan\n",
        "import time\n",
        "\n",
        "# Inisialisasi variabel untuk menyimpan data perilaku anak\n",
        "perilaku_anak = []\n",
        "\n",
        "# Fungsi untuk menampilkan daftar perilaku negatif dan memberikan penjelasan\n",
        "def tampilkan_penjelasan():\n",
        "    print(\"Perilaku negatif yang sering muncul pada anak balita:\")\n",
        "    print(\"1. Melampiaskan emosi dengan tantrum.\")\n",
        "    print(\"2. Menolak makan atau makan dengan pilih-pilih.\")\n",
        "    print(\"3. Mendapatkan perhatian dengan merusak barang.\")\n",
        "    print(\"4. Memukul, mencubit, atau menggigit orang lain.\")\n",
        "    print(\"5. Menolak mandi atau tidur.\")\n",
        "    print(\"6. Mengabaikan perintah dari orang tua.\")\n",
        "\n",
        "# Fungsi untuk menangani perilaku negatif yang dipilih\n",
        "def tangani_perilaku(nomor):\n",
        "    if nomor == 1:\n",
        "        print(\"Cara menangani tantrum pada anak balita:\")\n",
        "        print(\"1. Tetap tenang dan jangan terpancing emosi.\")\n",
        "        print(\"2. Ajak anak untuk bernapas dalam-dalam dan mengatur emosinya.\")\n",
        "        print(\"3. Jelaskan kepadanya dengan lembut bahwa perilakunya tidak diterima.\")\n",
        "    elif nomor == 2:\n",
        "        print(\"Cara menangani anak yang menolak makan atau makan dengan pilih-pilih:\")\n",
        "        print(\"1. Ciptakan suasana makan yang menyenangkan.\")\n",
        "        print(\"2. Berikan pilihan makanan sehat yang disukai anak.\")\n",
        "        print(\"3. Jangan memaksa anak untuk makan, namun tetap tegas dengan peraturan makan.\")\n",
        "    elif nomor == 3:\n",
        "        print(\"Cara menangani anak yang merusak barang untuk mendapatkan perhatian:\")\n",
        "        print(\"1. Jangan memberikan perhatian saat anak merusak barang.\")\n",
        "        print(\"2. Berikan perhatian pada perilaku positif anak.\")\n",
        "        print(\"3. Ajak anak berkomunikasi tentang perasaannya tanpa merusak barang.\")\n",
        "    elif nomor == 4:\n",
        "        print(\"Cara menangani anak yang melakukan kekerasan pada orang lain:\")\n",
        "        print(\"1. Segera intervensi tanpa melibatkan kekerasan fisik.\")\n",
        "        print(\"2. Jelaskan dengan tegas bahwa kekerasan tidak diterima dan bisa menyakiti orang lain.\")\n",
        "        print(\"3. Berikan alternatif penyaluran emosi yang positif, seperti berolahraga.\")\n",
        "    elif nomor == 5:\n",
        "        print(\"Cara menangani anak yang menolak mandi atau tidur:\")\n",
        "        print(\"1. Ciptakan rutinitas mandi atau tidur yang konsisten.\")\n",
        "        print(\"2. Gunakan benda atau mainan tertentu yang disukai anak sebagai pendukung rutinitas.\")\n",
        "        print(\"3. Berikan pemahaman kepada anak mengenai pentingnya mandi dan tidur untuk kesehatan.\")\n",
        "    elif nomor == 6:\n",
        "        print(\"Cara menangani anak yang mengabaikan perintah dari orang tua:\")\n",
        "        print(\"1. Tetap tenang dan tegas saat memberikan perintah.\")\n",
        "        print(\"2. Jelaskan konsekuensi dari mengabaikan perintah.\")\n",
        "        print(\"3. Berikan penghargaan saat anak mengikuti perintah dengan baik.\")\n",
        "\n",
        "# Fungsi untuk menjalankan aplikasi\n",
        "def main():\n",
        "    while True:\n",
        "        print(\"Selamat datang di Aplikasi Pencegahan Perilaku Negatif Anak Balita!\")\n",
        "        print(\"Silakan pilih perilaku yang ingin Anda tangani:\")\n",
        "        tampilkan_penjelasan()\n",
        "        pilihan = int(input(\"Masukkan nomor perilaku (1-6): \"))\n",
        "\n",
        "        if pilihan < 1 or pilihan > 6:\n",
        "            print(\"Masukkan nomor yang valid!\")\n",
        "        else:\n",
        "            perilaku_anak.append(pilihan)\n",
        "            tangani_perilaku(pilihan)\n",
        "\n",
        "        konfirmasi = input(\"Apakah Anda ingin menangani perilaku lainnya? (y/n) \")\n",
        "        if konfirmasi.lower() != \"y\":\n",
        "            print(\"Terima kasih telah menggunakan aplikasi ini.\")\n",
        "            break\n",
        "        print()\n",
        "\n",
        "# Menjalankan aplikasi\n",
        "if __name__ == \"__main__\":\n",
        "    main()"
      ],
      "metadata": {
        "colab": {
          "base_uri": "https://localhost:8080/"
        },
        "id": "qGvkbb4tw9vU",
        "outputId": "9edf8a36-6ece-43e0-a9b6-92865f23c66d"
      },
      "execution_count": null,
      "outputs": [
        {
          "output_type": "stream",
          "name": "stdout",
          "text": [
            "Selamat datang di Aplikasi Pencegahan Perilaku Negatif Anak Balita!\n",
            "Silakan pilih perilaku yang ingin Anda tangani:\n",
            "Perilaku negatif yang sering muncul pada anak balita:\n",
            "1. Melampiaskan emosi dengan tantrum.\n",
            "2. Menolak makan atau makan dengan pilih-pilih.\n",
            "3. Mendapatkan perhatian dengan merusak barang.\n",
            "4. Memukul, mencubit, atau menggigit orang lain.\n",
            "5. Menolak mandi atau tidur.\n",
            "6. Mengabaikan perintah dari orang tua.\n",
            "Masukkan nomor perilaku (1-6): 4\n",
            "Cara menangani anak yang melakukan kekerasan pada orang lain:\n",
            "1. Segera intervensi tanpa melibatkan kekerasan fisik.\n",
            "2. Jelaskan dengan tegas bahwa kekerasan tidak diterima dan bisa menyakiti orang lain.\n",
            "3. Berikan alternatif penyaluran emosi yang positif, seperti berolahraga.\n",
            "Apakah Anda ingin menangani perilaku lainnya? (y/n) n\n",
            "Terima kasih telah menggunakan aplikasi ini.\n"
          ]
        }
      ]
    }
  ]
}