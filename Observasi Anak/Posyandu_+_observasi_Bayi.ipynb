{
  "nbformat": 4,
  "nbformat_minor": 0,
  "metadata": {
    "colab": {
      "provenance": [],
      "authorship_tag": "ABX9TyOo9I3WkPlBpgooAP08LQUx",
      "include_colab_link": true
    },
    "kernelspec": {
      "name": "python3",
      "display_name": "Python 3"
    },
    "language_info": {
      "name": "python"
    }
  },
  "cells": [
    {
      "cell_type": "markdown",
      "metadata": {
        "id": "view-in-github",
        "colab_type": "text"
      },
      "source": [
        "<a href=\"https://colab.research.google.com/github/gandalfmuda/Data-Scientis-mastery/blob/main/Observasi%20Anak/Posyandu_%2B_observasi_Bayi.ipynb\" target=\"_parent\"><img src=\"https://colab.research.google.com/assets/colab-badge.svg\" alt=\"Open In Colab\"/></a>"
      ]
    },
    {
      "cell_type": "markdown",
      "source": [
        "Di bawah adalah aplikasi posyandu + observasi bayi dan balita. dengan memasukam data imunisasi dan pengukuran bayi.\n",
        "\n",
        "menggunakan library pandas untuk manage data dan data di save ke dalam bentuk file csv"
      ],
      "metadata": {
        "id": "zMr5Uc53z5TT"
      }
    },
    {
      "cell_type": "code",
      "source": [
        "pip install pandas matplotlib"
      ],
      "metadata": {
        "colab": {
          "base_uri": "https://localhost:8080/"
        },
        "id": "S65wFeuQwfUs",
        "outputId": "664de728-829e-4c7e-e2f6-3c8fa42311b1"
      },
      "execution_count": null,
      "outputs": [
        {
          "output_type": "stream",
          "name": "stdout",
          "text": [
            "Requirement already satisfied: pandas in /usr/local/lib/python3.10/dist-packages (1.5.3)\n",
            "Requirement already satisfied: matplotlib in /usr/local/lib/python3.10/dist-packages (3.7.1)\n",
            "Requirement already satisfied: python-dateutil>=2.8.1 in /usr/local/lib/python3.10/dist-packages (from pandas) (2.8.2)\n",
            "Requirement already satisfied: pytz>=2020.1 in /usr/local/lib/python3.10/dist-packages (from pandas) (2023.3.post1)\n",
            "Requirement already satisfied: numpy>=1.21.0 in /usr/local/lib/python3.10/dist-packages (from pandas) (1.23.5)\n",
            "Requirement already satisfied: contourpy>=1.0.1 in /usr/local/lib/python3.10/dist-packages (from matplotlib) (1.1.1)\n",
            "Requirement already satisfied: cycler>=0.10 in /usr/local/lib/python3.10/dist-packages (from matplotlib) (0.12.1)\n",
            "Requirement already satisfied: fonttools>=4.22.0 in /usr/local/lib/python3.10/dist-packages (from matplotlib) (4.43.1)\n",
            "Requirement already satisfied: kiwisolver>=1.0.1 in /usr/local/lib/python3.10/dist-packages (from matplotlib) (1.4.5)\n",
            "Requirement already satisfied: packaging>=20.0 in /usr/local/lib/python3.10/dist-packages (from matplotlib) (23.2)\n",
            "Requirement already satisfied: pillow>=6.2.0 in /usr/local/lib/python3.10/dist-packages (from matplotlib) (9.4.0)\n",
            "Requirement already satisfied: pyparsing>=2.3.1 in /usr/local/lib/python3.10/dist-packages (from matplotlib) (3.1.1)\n",
            "Requirement already satisfied: six>=1.5 in /usr/local/lib/python3.10/dist-packages (from python-dateutil>=2.8.1->pandas) (1.16.0)\n"
          ]
        }
      ]
    },
    {
      "cell_type": "code",
      "source": [
        "\n",
        "import pandas as pd\n",
        "import matplotlib.pyplot as plt\n",
        "import time\n",
        "\n",
        "def animasi_loading(delay):\n",
        "    print(\"Matplotlib Library Load:\")\n",
        "    for i in range(1, 101):\n",
        "        time.sleep(delay/100)\n",
        "        print(f\"\\rProgress: {i}% {'=' * (i // 5)}\", end='', flush=True)\n",
        "    print(\"\\n\")\n",
        "\n",
        "\n",
        "if __name__ == \"__main__\":\n",
        "    animasi_loading(7)\n",
        "\n",
        "def animasi_loading2(delay):\n",
        "    print(\"Pandas Library Load:\")\n",
        "    for i in range(1, 101):\n",
        "        time.sleep(delay/100)\n",
        "        print(f\"\\rProgress: {i}% {'=' * (i // 5)}\", end='', flush=True)\n",
        "    print(\"\\n\")\n",
        "\n",
        "\n",
        "if __name__ == \"__main__\":\n",
        "    animasi_loading2(4)\n",
        "\n",
        "\n",
        "\n",
        "\n",
        "# Fungsi untuk menampilkan menu\n",
        "def tampilkan_menu():\n",
        "    print(\"=== Aplikasi Kartu Posyandu ===\")\n",
        "    print(\"== + Observasi Bayi & Balita ==\")\n",
        "    print(\"1. Tambah Data Imunisasi\")\n",
        "    print(\"2. Tambah Data Observasi\")\n",
        "    print(\"3. Tampilkan Data Bayi dan Balita\")\n",
        "    print(\"4. Keluar\")\n",
        "\n",
        "# Fungsi untuk menambahkan data imunisasi\n",
        "def tambah_data_imunisasi(data):\n",
        "    nama = input(\"Masukkan nama bayi/balita: \")\n",
        "    tanggal = input(\"Masukkan tanggal imunisasi (format: dd-mm-yyyy): \")\n",
        "    jenis = input(\"Masukkan jenis imunisasi: \")\n",
        "\n",
        "    data = data.append({'Nama': nama, 'Tanggal Imunisasi': tanggal, 'Jenis Imunisasi': jenis}, ignore_index=True)\n",
        "    print(\"Data imunisasi berhasil ditambahkan!\")\n",
        "\n",
        "    return data\n",
        "\n",
        "# Fungsi untuk menambahkan data observasi\n",
        "def tambah_data_observasi(data):\n",
        "    nama = input(\"Masukkan nama bayi/balita: \")\n",
        "    tanggal = input(\"Masukkan tanggal observasi (format: dd-mm-yyyy): \")\n",
        "    berat_badan = float(input(\"Masukkan berat badan (kg): \"))\n",
        "    tinggi_badan = float(input(\"Masukkan tinggi badan (cm): \"))\n",
        "    lingkar_kepala = float(input(\"Masukkan lingkar kepala (cm): \"))\n",
        "\n",
        "    data = data.append({'Nama': nama, 'Tanggal Observasi': tanggal, 'Berat Badan': berat_badan, 'Tinggi Badan': tinggi_badan, 'Lingkar Kepala': lingkar_kepala}, ignore_index=True)\n",
        "    print(\"Data observasi berhasil ditambahkan!\")\n",
        "\n",
        "    return data\n",
        "\n",
        "# Fungsi untuk menampilkan data bayi dan balita\n",
        "def tampilkan_data(data):\n",
        "    print(\"=== DATA BAYI DAN BALITA ===\")\n",
        "    print(data)\n",
        "\n",
        "# Main program\n",
        "data_imunisasi = pd.DataFrame(columns=['Nama', 'Tanggal Imunisasi', 'Jenis Imunisasi'])\n",
        "data_observasi = pd.DataFrame(columns=['Nama', 'Tanggal Observasi', 'Berat Badan', 'Tinggi Badan', 'Lingkar Kepala'])\n",
        "\n",
        "while True:\n",
        "    tampilkan_menu()\n",
        "\n",
        "    pilihan = input(\"Masukkan pilihan (1-4): \")\n",
        "\n",
        "    if pilihan == '1':\n",
        "        data_imunisasi = tambah_data_imunisasi(data_imunisasi)\n",
        "    elif pilihan == '2':\n",
        "        data_observasi = tambah_data_observasi(data_observasi)\n",
        "    elif pilihan == '3':\n",
        "        tampilkan_data(data_imunisasi)\n",
        "        tampilkan_data(data_observasi)\n",
        "    elif pilihan == '4':\n",
        "        break\n",
        "    else:\n",
        "        print(\"Pilihan tidak valid. Silakan masukkan pilihan yang sesuai.\")\n",
        "\n",
        "# Menyimpan data ke file CSV\n",
        "data_imunisasi.to_csv('data_imunisasi.csv', index=False)\n",
        "data_observasi.to_csv('data_observasi.csv', index=False)\n",
        "\n",
        "print(\"Terima kasih telah menggunakan aplikasi Kartu Posyandu!\")"
      ],
      "metadata": {
        "id": "zn82l8cewLXZ"
      },
      "execution_count": null,
      "outputs": []
    },
    {
      "cell_type": "markdown",
      "source": [
        "Jenis Imunisasi Anak\n",
        "\n",
        "1 Bulan : BCG Polio 1\n",
        "\n",
        "mencegah penularan tuberculosis dan polio.\n",
        "\n",
        "2 Bulan : DPT-HB Hib 1 Polio 2\n",
        "\n",
        "mencegah polio, difteri,batuk rejan, retanus, hepatitis B, meningitis, & pneumonia.\n",
        "\n",
        "3 Bulan : DPT-HB-Hib 2 Polio 3.\n",
        "\n",
        "4 Bulan : DPT-HB-Hib 3 Polio 4.\n",
        "\n",
        "9 Bulan : Campak, mencegah campak."
      ],
      "metadata": {
        "id": "Gcwg_NpRyKaV"
      }
    }
  ]
}