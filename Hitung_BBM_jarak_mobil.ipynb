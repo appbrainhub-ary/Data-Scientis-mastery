{
  "nbformat": 4,
  "nbformat_minor": 0,
  "metadata": {
    "colab": {
      "provenance": [],
      "authorship_tag": "ABX9TyObOvA0I8j4efhrWHedfqVX",
      "include_colab_link": true
    },
    "kernelspec": {
      "name": "python3",
      "display_name": "Python 3"
    },
    "language_info": {
      "name": "python"
    }
  },
  "cells": [
    {
      "cell_type": "markdown",
      "metadata": {
        "id": "view-in-github",
        "colab_type": "text"
      },
      "source": [
        "<a href=\"https://colab.research.google.com/github/gandalfmuda/Data-Scientis-mastery/blob/main/Hitung_BBM_jarak_mobil.ipynb\" target=\"_parent\"><img src=\"https://colab.research.google.com/assets/colab-badge.svg\" alt=\"Open In Colab\"/></a>"
      ]
    },
    {
      "cell_type": "code",
      "execution_count": null,
      "metadata": {
        "colab": {
          "base_uri": "https://localhost:8080/"
        },
        "id": "3QBodmlK7ySd",
        "outputId": "e3ced3c1-38b8-4716-e83c-5b85db0d4fd1"
      },
      "outputs": [
        {
          "output_type": "stream",
          "name": "stdout",
          "text": [
            "Masukkan jarak tempuh mobil dalam kilometer: 2\n",
            "Masukkan konsumsi bensin mobil dalam kilometer per liter: 5\n",
            "Jumlah bensin yang diperlukan untuk menempuh 2.0 kilometer adalah 0.4 liter.\n"
          ]
        }
      ],
      "source": [
        "\n",
        "def hitung_bensin(tempuh, konsumsi_bensin):\n",
        "    bensin = tempuh / konsumsi_bensin\n",
        "    return bensin\n",
        "\n",
        "tempuh = float(input(\"Masukkan jarak tempuh mobil dalam kilometer: \"))\n",
        "konsumsi_bensin = float(input(\"Masukkan konsumsi bensin mobil dalam kilometer per liter: \"))\n",
        "\n",
        "jumlah_bensin = hitung_bensin(tempuh, konsumsi_bensin)\n",
        "\n",
        "print(f\"Jumlah bensin yang diperlukan untuk menempuh {tempuh} kilometer adalah {jumlah_bensin} liter.\")"
      ]
    },
    {
      "cell_type": "markdown",
      "source": [
        "Dalam kode di atas, kita menggunakan sebuah fungsi `hitung bensin` untuk menghitung jumlah bensin yang diperlukan berdasarkan jarak tempuh mobil dan konsumsi bensin per liter. Kemudian, kita meminta pengguna untuk memasukkan jarak tempuh mobil dalam kilometer dan konsumsi bensin mobil dalam kilometer per liter. Setelah itu, kita memanggil fungsi `hitung bensin` dengan parameter yang sesuai dan mencetak hasilnya."
      ],
      "metadata": {
        "id": "HOVWyEph82ut"
      }
    }
  ]
}