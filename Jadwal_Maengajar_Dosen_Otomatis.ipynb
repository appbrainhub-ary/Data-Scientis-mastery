{
  "nbformat": 4,
  "nbformat_minor": 0,
  "metadata": {
    "colab": {
      "provenance": [],
      "authorship_tag": "ABX9TyPs8uuhSG/j/Ua2g94HGxSQ",
      "include_colab_link": true
    },
    "kernelspec": {
      "name": "python3",
      "display_name": "Python 3"
    },
    "language_info": {
      "name": "python"
    }
  },
  "cells": [
    {
      "cell_type": "markdown",
      "metadata": {
        "id": "view-in-github",
        "colab_type": "text"
      },
      "source": [
        "<a href=\"https://colab.research.google.com/github/gandalfmuda/Data-Scientis-mastery/blob/main/Jadwal_Maengajar_Dosen_Otomatis.ipynb\" target=\"_parent\"><img src=\"https://colab.research.google.com/assets/colab-badge.svg\" alt=\"Open In Colab\"/></a>"
      ]
    },
    {
      "cell_type": "markdown",
      "source": [
        "Dibawah adalah aplikasi sederhana otomatis jadwal mengajar dosen dengan fungsi dekteksi hari yang sedang berjalan. kalian bisa menambahkan data dosen dan matkul sesuai yang di inginkan."
      ],
      "metadata": {
        "id": "sy3XylOQnBh1"
      }
    },
    {
      "cell_type": "code",
      "execution_count": 3,
      "metadata": {
        "colab": {
          "base_uri": "https://localhost:8080/"
        },
        "id": "JuEC3gUakmUN",
        "outputId": "041e880d-89db-43f9-dbcd-095392546a78"
      },
      "outputs": [
        {
          "output_type": "stream",
          "name": "stdout",
          "text": [
            "Jadwal mengajar dosen pada hari Friday:\n",
            "Dosen A mengajar mata kuliah Basis Data\n",
            "Dosen B mengajar mata kuliah Inggris\n",
            "Dosen C mengajar mata kuliah Algoritma\n"
          ]
        }
      ],
      "source": [
        "\n",
        "jadwal = {\n",
        "    'Monday': [('Dosen A', 'Matematika Diskrit'), ('Dosen B', 'Web design'), ('Dosen C', 'Algoritma')],\n",
        "    'Tuesday': [('Dosen A', 'Inggris'), ('Dosen B', 'Broadcast'), ('Dosen C', 'Advertise')],\n",
        "    'Wednesday': [('Dosen A', 'Sosiologi'), ('Dosen B', 'Web design'), ('Dosen C', 'Quiz')],\n",
        "    'Thursday': [('Dosen A', 'Struktur Data'), ('Dosen B', 'Diskrit'), ('Dosen C', 'Sistem Infor')],\n",
        "    'Friday': [('Dosen A', 'Basis Data'), ('Dosen B', 'Inggris'), ('Dosen C', 'Algoritma')]\n",
        "}\n",
        "\n",
        "\n",
        "from datetime import datetime\n",
        "\n",
        "hari_sekarang = datetime.now().strftime('%A')\n",
        "\n",
        "def tampilkan_jadwal(hari):\n",
        "    if hari in jadwal:\n",
        "        print(f\"Jadwal mengajar dosen pada hari {hari}:\")\n",
        "        for dosen, mata_kuliah in jadwal[hari]:\n",
        "            print(f\"{dosen} mengajar mata kuliah {mata_kuliah}\")\n",
        "    else:\n",
        "        print(f\"Hari {hari} tidak tersedia dalam jadwal\")\n",
        "\n",
        "# Contoh pemanggilan fungsi\n",
        "tampilkan_jadwal(hari_sekarang)"
      ]
    }
  ]
}