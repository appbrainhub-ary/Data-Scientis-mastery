{
  "nbformat": 4,
  "nbformat_minor": 0,
  "metadata": {
    "colab": {
      "provenance": [],
      "authorship_tag": "ABX9TyMA5zSjJ3KKSo2c0O2BpSZC",
      "include_colab_link": true
    },
    "kernelspec": {
      "name": "python3",
      "display_name": "Python 3"
    },
    "language_info": {
      "name": "python"
    }
  },
  "cells": [
    {
      "cell_type": "markdown",
      "metadata": {
        "id": "view-in-github",
        "colab_type": "text"
      },
      "source": [
        "<a href=\"https://colab.research.google.com/github/gandalfmuda/Data-Scientis-mastery/blob/main/Keluarga%20Berencana%20Apps/Pengatur_Keuangan_Keluarga_(prototype).ipynb\" target=\"_parent\"><img src=\"https://colab.research.google.com/assets/colab-badge.svg\" alt=\"Open In Colab\"/></a>"
      ]
    },
    {
      "cell_type": "markdown",
      "source": [
        "##Aplikasi Pengatur Keuangan Keluarga (prototype)"
      ],
      "metadata": {
        "id": "np3x4woMKEZW"
      }
    },
    {
      "cell_type": "code",
      "execution_count": null,
      "metadata": {
        "id": "kIotWjUZJXuz"
      },
      "outputs": [],
      "source": [
        "\n",
        "def hitung_pengeluaran(pendapatan_suami):\n",
        "    # Memasukkan jumlah pendapatan suami per bulan\n",
        "    pendapatan_bulanan = pendapatan_suami\n",
        "\n",
        "    # Memasukkan jumlah pengeluaran keluarga\n",
        "    pengeluaran_rumah_tangga = float(input(\"Masukkan jumlah pengeluaran rumah tangga per bulan: \"))\n",
        "    pengeluaran_makanan = float(input(\"Masukkan jumlah pengeluaran makanan per bulan: \"))\n",
        "    pengeluaran_transportasi = float(input(\"Masukkan jumlah pengeluaran transportasi per bulan: \"))\n",
        "\n",
        "    # Menghitung jumlah pengeluaran yang akan dibagi\n",
        "    total_pengeluaran = pengeluaran_rumah_tangga + pengeluaran_makanan + pengeluaran_transportasi\n",
        "\n",
        "    # Menghitung jumlah pengeluaran yang akan dibagi per anggota keluarga\n",
        "    jumlah_anggota_keluarga = 4  # Misalnya, anggota keluarga terdiri dari suami, istri, dan dua anak\n",
        "    pengeluaran_per_anggota = total_pengeluaran / jumlah_anggota_keluarga\n",
        "\n",
        "    # Menghitung sisa pendapatan setelah pengeluaran\n",
        "    sisa_pendapatan = pendapatan_bulanan - total_pengeluaran\n",
        "\n",
        "    # Menampilkan hasil perhitungan\n",
        "    print(\"Jumlah pengeluaran rumah tangga per anggota keluarga: \", pengeluaran_per_anggota)\n",
        "    print(\"Sisa pendapatan setelah pengeluaran: \", sisa_pendapatan)\n",
        "\n",
        "# Memanggil fungsi hitung_pengeluaran dengan memasukkan jumlah pendapatan suami\n",
        "pendapatan_suami = float(input(\"Masukkan jumlah pendapatan suami per bulan: \"))\n",
        "hitung_pengeluaran(pendapatan_suami)"
      ]
    }
  ]
}