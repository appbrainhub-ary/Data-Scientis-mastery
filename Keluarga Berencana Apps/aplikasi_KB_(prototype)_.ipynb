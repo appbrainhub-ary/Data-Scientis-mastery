{
  "nbformat": 4,
  "nbformat_minor": 0,
  "metadata": {
    "colab": {
      "provenance": [],
      "authorship_tag": "ABX9TyO6+ftfIjPULyggvKd784uE",
      "include_colab_link": true
    },
    "kernelspec": {
      "name": "python3",
      "display_name": "Python 3"
    },
    "language_info": {
      "name": "python"
    }
  },
  "cells": [
    {
      "cell_type": "markdown",
      "metadata": {
        "id": "view-in-github",
        "colab_type": "text"
      },
      "source": [
        "<a href=\"https://colab.research.google.com/github/gandalfmuda/Data-Scientis-mastery/blob/main/Keluarga%20Berencana%20Apps/aplikasi_KB_(prototype)_.ipynb\" target=\"_parent\"><img src=\"https://colab.research.google.com/assets/colab-badge.svg\" alt=\"Open In Colab\"/></a>"
      ]
    },
    {
      "cell_type": "markdown",
      "source": [
        "##Prototype aplikasi Keluarga Berencana dengan standar dari Kemenkes, dengan fitur tambahan waktu kapan mengawali kehamilan."
      ],
      "metadata": {
        "id": "yeaU3e08yMUG"
      }
    },
    {
      "cell_type": "code",
      "execution_count": 2,
      "metadata": {
        "colab": {
          "base_uri": "https://localhost:8080/"
        },
        "id": "NgH2Iau5ximJ",
        "outputId": "cd6c3ef5-dbf1-4148-f91c-199c2cea5680"
      },
      "outputs": [
        {
          "output_type": "stream",
          "name": "stdout",
          "text": [
            "Selamat datang di Aplikasi Keluarga Berencana\n",
            "Silakan pilih menu:\n",
            "1. Pilih Alat Kontrasepsi\n",
            "2. Atur Waktu Melepas Alat Kontrasepsi\n",
            "Masukkan nomor menu yang ingin dipilih: 2\n",
            "Anda dapat mengatur waktu kapan ingin melepas alat kontrasepsi untuk memulai kehamilan.\n",
            "Masukkan tahun: 2023\n",
            "Masukkan bulan (1-12): 12\n",
            "[0, 0, 0, 0, 1, 2, 3]\n",
            "[4, 5, 6, 7, 8, 9, 10]\n",
            "[11, 12, 13, 14, 15, 16, 17]\n",
            "[18, 19, 20, 21, 22, 23, 24]\n",
            "[25, 26, 27, 28, 29, 30, 31]\n"
          ]
        }
      ],
      "source": [
        "\n",
        "import calendar\n",
        "\n",
        "def pilih_alat_kontrasepsi():\n",
        "    print(\"Berikut adalah beberapa jenis alat kontrasepsi yang dapat dipilih:\")\n",
        "    print(\"1. Pil KB\")\n",
        "    print(\"2. IUD (Intrauterine Device)\")\n",
        "    print(\"3. Implan\")\n",
        "    # Tambahkan jenis alat kontrasepsi lainnya sesuai kebutuhan\n",
        "\n",
        "    pilihan = input(\"Masukkan nomor alat kontrasepsi yang ingin digunakan: \")\n",
        "    if pilihan == \"1\":\n",
        "        print(\"Anda telah memilih Pil KB\")\n",
        "        # Tambahkan informasi penggunaan Pil KB\n",
        "    elif pilihan == \"2\":\n",
        "        print(\"Anda telah memilih IUD\")\n",
        "        # Tambahkan informasi penggunaan IUD\n",
        "    elif pilihan == \"3\":\n",
        "        print(\"Anda telah memilih Implan\")\n",
        "        # Tambahkan informasi penggunaan Implan\n",
        "    else:\n",
        "        print(\"Pilihan tidak valid\")\n",
        "\n",
        "def atur_waktu_melepas_alat_kontrasepsi():\n",
        "    print(\"Anda dapat mengatur waktu kapan ingin melepas alat kontrasepsi untuk memulai kehamilan.\")\n",
        "    tahun = int(input(\"Masukkan tahun: \"))\n",
        "    bulan = int(input(\"Masukkan bulan (1-12): \"))\n",
        "\n",
        "    # Membuat kalender untuk bulan yang dipilih\n",
        "    cal = calendar.monthcalendar(tahun, bulan)\n",
        "    for minggu in cal:\n",
        "        print(minggu)\n",
        "\n",
        "# Main program\n",
        "print(\"Selamat datang di Aplikasi Keluarga Berencana\")\n",
        "print(\"Silakan pilih menu:\")\n",
        "print(\"1. Pilih Alat Kontrasepsi\")\n",
        "print(\"2. Atur Waktu Melepas Alat Kontrasepsi\")\n",
        "\n",
        "menu = input(\"Masukkan nomor menu yang ingin dipilih: \")\n",
        "if menu == \"1\":\n",
        "    pilih_alat_kontrasepsi()\n",
        "elif menu == \"2\":\n",
        "    atur_waktu_melepas_alat_kontrasepsi()\n",
        "else:\n",
        "    print(\"Menu tidak valid\")"
      ]
    }
  ]
}