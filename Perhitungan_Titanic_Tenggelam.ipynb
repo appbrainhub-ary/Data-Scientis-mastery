{
  "nbformat": 4,
  "nbformat_minor": 0,
  "metadata": {
    "colab": {
      "provenance": [],
      "authorship_tag": "ABX9TyNAC5ozSXdU29MBReDLDQMN",
      "include_colab_link": true
    },
    "kernelspec": {
      "name": "python3",
      "display_name": "Python 3"
    },
    "language_info": {
      "name": "python"
    }
  },
  "cells": [
    {
      "cell_type": "markdown",
      "metadata": {
        "id": "view-in-github",
        "colab_type": "text"
      },
      "source": [
        "<a href=\"https://colab.research.google.com/github/gandalfmuda/Data-Scientis-mastery/blob/main/Perhitungan_Titanic_Tenggelam.ipynb\" target=\"_parent\"><img src=\"https://colab.research.google.com/assets/colab-badge.svg\" alt=\"Open In Colab\"/></a>"
      ]
    },
    {
      "cell_type": "code",
      "execution_count": null,
      "metadata": {
        "colab": {
          "base_uri": "https://localhost:8080/"
        },
        "id": "ZHMyoVdwwe8d",
        "outputId": "e3b2a172-5bbc-4981-f4ce-fd3b939c0e30"
      },
      "outputs": [
        {
          "output_type": "stream",
          "name": "stdout",
          "text": [
            "The Titanic will sink.\n",
            "Time remaining until sinking: 7200 seconds\n",
            "Time remaining until sinking: 7199 seconds\n",
            "Time remaining until sinking: 7198 seconds\n",
            "Time remaining until sinking: 7197 seconds\n",
            "Time remaining until sinking: 7196 seconds\n",
            "Time remaining until sinking: 7195 seconds\n",
            "Time remaining until sinking: 7194 seconds\n",
            "Time remaining until sinking: 7193 seconds\n",
            "Time remaining until sinking: 7192 seconds\n",
            "Time remaining until sinking: 7191 seconds\n",
            "Time remaining until sinking: 7190 seconds\n",
            "Time remaining until sinking: 7189 seconds\n",
            "Time remaining until sinking: 7188 seconds\n",
            "Time remaining until sinking: 7187 seconds\n",
            "Time remaining until sinking: 7186 seconds\n",
            "Time remaining until sinking: 7185 seconds\n",
            "Time remaining until sinking: 7184 seconds\n",
            "Time remaining until sinking: 7183 seconds\n",
            "Time remaining until sinking: 7182 seconds\n",
            "Time remaining until sinking: 7181 seconds\n",
            "Time remaining until sinking: 7180 seconds\n",
            "Time remaining until sinking: 7179 seconds\n",
            "Time remaining until sinking: 7178 seconds\n",
            "Time remaining until sinking: 7177 seconds\n",
            "Time remaining until sinking: 7176 seconds\n",
            "Time remaining until sinking: 7175 seconds\n",
            "Time remaining until sinking: 7174 seconds\n",
            "Time remaining until sinking: 7173 seconds\n",
            "Time remaining until sinking: 7172 seconds\n",
            "Time remaining until sinking: 7171 seconds\n",
            "Time remaining until sinking: 7170 seconds\n",
            "Time remaining until sinking: 7169 seconds\n",
            "Time remaining until sinking: 7168 seconds\n",
            "Time remaining until sinking: 7167 seconds\n",
            "Time remaining until sinking: 7166 seconds\n",
            "Time remaining until sinking: 7165 seconds\n",
            "Time remaining until sinking: 7164 seconds\n",
            "Time remaining until sinking: 7163 seconds\n",
            "Time remaining until sinking: 7162 seconds\n",
            "Time remaining until sinking: 7161 seconds\n",
            "Time remaining until sinking: 7160 seconds\n",
            "Time remaining until sinking: 7159 seconds\n"
          ]
        }
      ],
      "source": [
        "def calculate_titanic_sinking(weight, depth, damage, duration):\n",
        "    # Constants for calculation\n",
        "    weight_factor = 0.1\n",
        "    depth_factor = 0.05\n",
        "    damage_factor = 0.2\n",
        "    duration_factor = 0.15\n",
        "\n",
        "    # Calculating sinking score\n",
        "    sinking_score = (weight * weight_factor) + (depth * depth_factor) + (damage * damage_factor) + (duration * duration_factor)\n",
        "\n",
        "    # Checking if the ship sinks\n",
        "    if sinking_score >= 100:\n",
        "        print(\"The Titanic will sink.\")\n",
        "        countdown(duration)\n",
        "    else:\n",
        "        print(\"The Titanic will not sink.\")\n",
        "\n",
        "# Function to create countdown timer\n",
        "def countdown(duration):\n",
        "    remaining_time = duration * 3600  # Convert duration from hours to seconds\n",
        "\n",
        "    while remaining_time > 0:\n",
        "        print(\"Time remaining until sinking:\", remaining_time, \"seconds\")\n",
        "        time.sleep(1)  # Sleep for 1 second\n",
        "        remaining_time -= 1\n",
        "\n",
        "    print(\"The Titanic has sunk.\")\n",
        "\n",
        "# Testing the function\n",
        "weight = 46000  # tons\n",
        "depth = 1000  # meters\n",
        "damage = 80  # percentage (0-100)\n",
        "duration = 2 # hours\n",
        "\n",
        "calculate_titanic_sinking(weight, depth, damage, duration)\n",
        "\n"
      ]
    }
  ]
}