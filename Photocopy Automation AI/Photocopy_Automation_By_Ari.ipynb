{
  "nbformat": 4,
  "nbformat_minor": 0,
  "metadata": {
    "colab": {
      "provenance": [],
      "authorship_tag": "ABX9TyMl4+/hXuSxP/7+BlLQCLGv",
      "include_colab_link": true
    },
    "kernelspec": {
      "name": "python3",
      "display_name": "Python 3"
    },
    "language_info": {
      "name": "python"
    }
  },
  "cells": [
    {
      "cell_type": "markdown",
      "metadata": {
        "id": "view-in-github",
        "colab_type": "text"
      },
      "source": [
        "<a href=\"https://colab.research.google.com/github/gandalfmuda/Data-Scientis-mastery/blob/main/Photocopy%20Automation%20AI/Photocopy_Automation_By_Ari.ipynb\" target=\"_parent\"><img src=\"https://colab.research.google.com/assets/colab-badge.svg\" alt=\"Open In Colab\"/></a>"
      ]
    },
    {
      "cell_type": "markdown",
      "source": [
        "Aplikasi ini seperti mesin fotokopi, hanya merubah warna textur dan warna ke hitam putih saja, namun menurut saya ini berguna sebagai toos AI automation untuk kebutuhan verifikasi dokumen dan arsip anda."
      ],
      "metadata": {
        "id": "Ibl2itSqXGYN"
      }
    },
    {
      "cell_type": "markdown",
      "source": [
        "# Install Library Pillow terlebih dahulu"
      ],
      "metadata": {
        "id": "uSD3TUzCX2Ld"
      }
    },
    {
      "cell_type": "code",
      "source": [
        "pip install pillow"
      ],
      "metadata": {
        "colab": {
          "base_uri": "https://localhost:8080/"
        },
        "id": "Ge7yWlKaVsbN",
        "outputId": "de8a31bf-a927-45bf-8457-f3d2b12be00c"
      },
      "execution_count": 19,
      "outputs": [
        {
          "output_type": "stream",
          "name": "stdout",
          "text": [
            "Requirement already satisfied: pillow in /usr/local/lib/python3.10/dist-packages (9.4.0)\n",
            "Requirement already satisfied: matplotlib in /usr/local/lib/python3.10/dist-packages (3.7.1)\n",
            "Requirement already satisfied: contourpy>=1.0.1 in /usr/local/lib/python3.10/dist-packages (from matplotlib) (1.2.0)\n",
            "Requirement already satisfied: cycler>=0.10 in /usr/local/lib/python3.10/dist-packages (from matplotlib) (0.12.1)\n",
            "Requirement already satisfied: fonttools>=4.22.0 in /usr/local/lib/python3.10/dist-packages (from matplotlib) (4.44.3)\n",
            "Requirement already satisfied: kiwisolver>=1.0.1 in /usr/local/lib/python3.10/dist-packages (from matplotlib) (1.4.5)\n",
            "Requirement already satisfied: numpy>=1.20 in /usr/local/lib/python3.10/dist-packages (from matplotlib) (1.23.5)\n",
            "Requirement already satisfied: packaging>=20.0 in /usr/local/lib/python3.10/dist-packages (from matplotlib) (23.2)\n",
            "Requirement already satisfied: pyparsing>=2.3.1 in /usr/local/lib/python3.10/dist-packages (from matplotlib) (3.1.1)\n",
            "Requirement already satisfied: python-dateutil>=2.7 in /usr/local/lib/python3.10/dist-packages (from matplotlib) (2.8.2)\n",
            "Requirement already satisfied: six>=1.5 in /usr/local/lib/python3.10/dist-packages (from python-dateutil>=2.7->matplotlib) (1.16.0)\n"
          ]
        }
      ]
    },
    {
      "cell_type": "markdown",
      "source": [
        "# ganti gambar.jpeg dengan gambar/foto dokumen asli berwarna anda"
      ],
      "metadata": {
        "id": "OJtPOtpZY4bI"
      }
    },
    {
      "cell_type": "code",
      "execution_count": 24,
      "metadata": {
        "colab": {
          "base_uri": "https://localhost:8080/"
        },
        "id": "WOCjbiI-VqIN",
        "outputId": "904140e0-1904-4657-acff-9a64e2b8af1f"
      },
      "outputs": [
        {
          "output_type": "stream",
          "name": "stdout",
          "text": [
            "Hasil fotokopi disimpan dalam satu direktori/folder dengan nama: hasil_fotokopi.jpg\n"
          ]
        }
      ],
      "source": [
        "\n",
        "from PIL import Image\n",
        "\n",
        "\n",
        "def convert_to_photocopy(image_path):\n",
        "    # Load the image\n",
        "    image = Image.open(image_path)\n",
        "\n",
        "    # Convert the image to grayscale\n",
        "    grayscale_image = image.convert(\"L\")\n",
        "\n",
        "    # Apply thresholding to create a black and white image\n",
        "    threshold = 128\n",
        "    black_white_image = grayscale_image.point(lambda x: 0 if x < threshold else 255, \"1\")\n",
        "\n",
        "    # Save the resulting image\n",
        "    output_path = \"hasil_fotokopi.jpg\"\n",
        "    black_white_image.save(output_path)\n",
        "\n",
        "    return output_path\n",
        "\n",
        "# Ganti gambar.jpeg dengan gambar/foto dokumen\n",
        "input_image_path = \"gambar.jpeg\"\n",
        "output_image_path = convert_to_photocopy(input_image_path)\n",
        "print(\"Hasil fotokopi disimpan dalam satu direktori/folder dengan nama:\", output_image_path)"
      ]
    }
  ]
}