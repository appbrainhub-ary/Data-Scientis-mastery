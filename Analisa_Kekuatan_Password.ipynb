{
  "nbformat": 4,
  "nbformat_minor": 0,
  "metadata": {
    "colab": {
      "provenance": [],
      "authorship_tag": "ABX9TyNqi3hedW/Ki4kg1B/TQkim",
      "include_colab_link": true
    },
    "kernelspec": {
      "name": "python3",
      "display_name": "Python 3"
    },
    "language_info": {
      "name": "python"
    }
  },
  "cells": [
    {
      "cell_type": "markdown",
      "metadata": {
        "id": "view-in-github",
        "colab_type": "text"
      },
      "source": [
        "<a href=\"https://colab.research.google.com/github/gandalfmuda/Data-Scientis-mastery/blob/main/Analisa_Kekuatan_Password.ipynb\" target=\"_parent\"><img src=\"https://colab.research.google.com/assets/colab-badge.svg\" alt=\"Open In Colab\"/></a>"
      ]
    },
    {
      "cell_type": "code",
      "execution_count": null,
      "metadata": {
        "colab": {
          "base_uri": "https://localhost:8080/"
        },
        "id": "EsCmXg1CYjXJ",
        "outputId": "a551e09c-b6e1-4cf1-e4fe-aa11ecfc3286"
      },
      "outputs": [
        {
          "output_type": "stream",
          "name": "stdout",
          "text": [
            "---------------------\n",
            "Cek Kekuatan Password\n",
            "---------------------\n"
          ]
        }
      ],
      "source": [
        "\n",
        "import re\n",
        "\n",
        "print(\"---------------------\")\n",
        "print(\"Cek Kekuatan Password\")\n",
        "print(\"---------------------\")\n",
        "\n",
        "def check_password_strength(password):\n",
        "    # bot analisa panjang password\n",
        "    if len(password) < 8:\n",
        "        return \"Password terlalu pendek. Minimal 8 karakter.\"\n",
        "\n",
        "    # bot analisa password mengandung huruf besar, huruf kecil, dan angka\n",
        "    if not re.search(r'[A-Z]', password) or not re.search(r'[a-z]', password) or not re.search(r'[0-9]', password):\n",
        "        return \"Password harus mengandung huruf besar, huruf kecil, dan angka.\"\n",
        "\n",
        "    # bot analisa password mengandung karakter khusus\n",
        "    if not re.search(r'[!@#$%^&*(),.?\":{}|<>]', password):\n",
        "        return \"Password harus mengandung karakter khusus seperti !@#$%^&*(),.?\\\":{}|<>\"\n",
        "\n",
        "    return \"Password cukup kuat.\"\n",
        "\n",
        "# fungsi dan input\n",
        "password = input(\"Masukkan password anda dan tekan Enter: \")\n",
        "result = check_password_strength(password)\n",
        "print(result)"
      ]
    }
  ]
}