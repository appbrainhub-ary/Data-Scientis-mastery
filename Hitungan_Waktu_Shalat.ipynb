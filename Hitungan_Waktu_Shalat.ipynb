{
  "nbformat": 4,
  "nbformat_minor": 0,
  "metadata": {
    "colab": {
      "provenance": [],
      "authorship_tag": "ABX9TyPai3CnMGAXVM+2HNOlMLXm",
      "include_colab_link": true
    },
    "kernelspec": {
      "name": "python3",
      "display_name": "Python 3"
    },
    "language_info": {
      "name": "python"
    }
  },
  "cells": [
    {
      "cell_type": "markdown",
      "metadata": {
        "id": "view-in-github",
        "colab_type": "text"
      },
      "source": [
        "<a href=\"https://colab.research.google.com/github/gandalfmuda/Data-Scientis-mastery/blob/main/Hitungan_Waktu_Shalat.ipynb\" target=\"_parent\"><img src=\"https://colab.research.google.com/assets/colab-badge.svg\" alt=\"Open In Colab\"/></a>"
      ]
    },
    {
      "cell_type": "code",
      "source": [
        "import datetime\n",
        "\n",
        "# sesuaikan jam shalat setempat\n",
        "waktu_subuh = datetime.time(5, 0)  # Contoh waktu salat subuh pada pukul 05:00 AM\n",
        "waktu_dzuhur = datetime.time(12, 30)  # Contoh waktu salat dzuhur pada pukul 12:30 PM\n",
        "waktu_ashar = datetime.time(15, 30)  # Contoh waktu salat ashar pada pukul 03:30 PM\n",
        "waktu_maghrib = datetime.time(18, 0)  # Contoh waktu salat maghrib pada pukul 06:00 PM\n",
        "waktu_isya = datetime.time(19, 30)  # Contoh waktu salat isya pada pukul 07:30 PM\n",
        "\n",
        "# fungsi untuk menampilkan waktu salat\n",
        "def tampilkan_waktu_salat():\n",
        "    now = datetime.datetime.now().time()\n",
        "\n",
        "    if now < waktu_subuh:\n",
        "        waktu = \"Subuh\"\n",
        "        sisa_waktu = datetime.datetime.combine(datetime.date.today(), waktu_subuh) - datetime.datetime.combine(datetime.date.today(), now)\n",
        "    elif now < waktu_dzuhur:\n",
        "        waktu = \"Dzuhur\"\n",
        "        sisa_waktu = datetime.datetime.combine(datetime.date.today(), waktu_dzuhur) - datetime.datetime.combine(datetime.date.today(), now)\n",
        "    elif now < waktu_ashar:\n",
        "        waktu = \"Ashar\"\n",
        "        sisa_waktu = datetime.datetime.combine(datetime.date.today(), waktu_ashar) - datetime.datetime.combine(datetime.date.today(), now)\n",
        "    elif now < waktu_maghrib:\n",
        "        waktu = \"Maghrib\"\n",
        "        sisa_waktu = datetime.datetime.combine(datetime.date.today(), waktu_maghrib) - datetime.datetime.combine(datetime.date.today(), now)\n",
        "    else:\n",
        "        waktu = \"Isya\"\n",
        "        sisa_waktu = datetime.datetime.combine(datetime.date.today(), waktu_isya) - datetime.datetime.combine(datetime.date.today(), now)\n",
        "\n",
        "    sisa_waktu = divmod(sisa_waktu.total_seconds(), 60)\n",
        "    sisa_waktu = f\"{int(sisa_waktu[0]):02d}:{int(sisa_waktu[1]):02d}\"\n",
        "\n",
        "    # notifikasi waktu salat\n",
        "    print(f\"Salat {waktu} dalam: {sisa_waktu}(menit:detik)\")\n",
        "\n",
        "# fungsi untuk menampilkan waktu salat\n",
        "tampilkan_waktu_salat()\n"
      ],
      "metadata": {
        "colab": {
          "base_uri": "https://localhost:8080/"
        },
        "id": "NItrM42Y7NPT",
        "outputId": "6ea010b7-f545-4d78-a6a8-a22b8760538f"
      },
      "execution_count": 53,
      "outputs": [
        {
          "output_type": "stream",
          "name": "stdout",
          "text": [
            "Salat Dzuhur dalam: 08:26(menit:detik)\n"
          ]
        }
      ]
    }
  ]
}